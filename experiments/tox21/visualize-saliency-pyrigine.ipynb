{
 "cells": [
  {
   "cell_type": "code",
   "execution_count": 1,
   "metadata": {
    "collapsed": false
   },
   "outputs": [],
   "source": [
    "#from load import *\n",
    "%load_ext autoreload\n",
    "%autoreload 2\n",
    "import pickle\n",
    "from chainer.datasets import TupleDataset\n",
    "from chainer.dataset import concat_examples\n",
    "from chainer import functions as F, cuda\n",
    "from chainer import iterators as I\n",
    "from chainer import links as L\n",
    "from chainer import optimizers as O\n",
    "from chainer import training\n",
    "from ipywidgets import interact\n",
    "import chainer\n",
    "import cupy\n",
    "from tqdm import tqdm_notebook as tqdm\n",
    "from chainer import serializers\n",
    "\n",
    "\n",
    "from chainer_chemistry.datasets import NumpyTupleDataset\n",
    "from chainer_chemistry.dataset.converters import concat_mols\n",
    "\n",
    "import numpy\n",
    "import numpy as np\n",
    "\n",
    "from rdkit import RDLogger\n",
    "from rdkit import Chem\n",
    "from rdkit.Chem import rdchem\n",
    "from rdkit.Chem import rdDepictor\n",
    "from rdkit.Chem.Draw import rdMolDraw2D\n",
    "from rdkit.Chem.Draw import IPythonConsole\n",
    "from IPython.display import SVG\n",
    "from rdkit.Chem import Draw\n",
    "from rdkit import rdBase"
   ]
  },
  {
   "cell_type": "code",
   "execution_count": 2,
   "metadata": {
    "collapsed": false
   },
   "outputs": [],
   "source": [
    "import sys\n",
    "import os\n",
    "\n",
    "sys.path.append(os.path.dirname(os.path.dirname(os.path.dirname(os.path.abspath('__file__')))))\n",
    "from saliency.calculator.gradient_calculator import GradientCalculator\n",
    "from models import predictor\n",
    "\n",
    "sys.path.append(os.path.dirname(os.path.abspath('__file__')))\n",
    "import data\n",
    "from data import PYRIDINE_SMILES"
   ]
  },
  {
   "cell_type": "code",
   "execution_count": 3,
   "metadata": {
    "collapsed": false
   },
   "outputs": [],
   "source": [
    "import logging\n",
    "\n",
    "# Disable errors by RDKit occurred in preprocessing Tox21 dataset.\n",
    "lg = RDLogger.logger()\n",
    "lg.setLevel(RDLogger.CRITICAL)\n",
    "# show INFO level log from chainer chemistry\n",
    "logging.basicConfig(level=logging.INFO)\n"
   ]
  },
  {
   "cell_type": "code",
   "execution_count": 4,
   "metadata": {
    "collapsed": false
   },
   "outputs": [],
   "source": [
    "import json\n",
    "\n",
    "# training result directory\n",
    "dirpath = './results/ggnndrop_pyridine'\n",
    "\n",
    "json_path = os.path.join(dirpath, 'args.json')\n",
    "if not os.path.exists(json_path):\n",
    "    raise ValueError(\n",
    "        'json_path {} not found! Execute train_tox21.py beforehand.'.format(json_path))\n",
    "with open(json_path, 'r') as f:\n",
    "    train_args = json.load(f)\n",
    "\n",
    "method = train_args['method']\n",
    "labels = train_args['label']  # 'pyridine'\n",
    "\n",
    "unit_num = train_args['unit_num']\n",
    "conv_layers = train_args['conv_layers']\n",
    "class_num = 1\n",
    "n_layers = train_args['n_layers']\n",
    "dropout_ratio = train_args['dropout_ratio']\n",
    "num_train = train_args['num_train']\n",
    "\n",
    "model_path = os.path.join(dirpath, 'predictor.npz')\n"
   ]
  },
  {
   "cell_type": "code",
   "execution_count": 5,
   "metadata": {
    "collapsed": false
   },
   "outputs": [
    {
     "name": "stdout",
     "output_type": "stream",
     "text": [
      "\n",
      "load from cache input/ggnn_pyridine\n",
      "\n"
     ]
    },
    {
     "name": "stderr",
     "output_type": "stream",
     "text": [
      "Widget Javascript not detected.  It may not be installed properly. Did you enable the widgetsnbextension? If not, then run \"jupyter nbextension enable --py --sys-prefix widgetsnbextension\"\n"
     ]
    }
   ],
   "source": [
    "# Pyridine Dataset preparation\n",
    "train, val, test, train_smiles, val_smiles, test_smiles = data.load_dataset(method, labels)\n",
    "val_mols = [Chem.MolFromSmiles(smi) for smi in tqdm(val_smiles)]"
   ]
  },
  {
   "cell_type": "code",
   "execution_count": 6,
   "metadata": {
    "collapsed": true
   },
   "outputs": [],
   "source": [
    "target_dataset = val\n",
    "target_smiles = val_smiles"
   ]
  },
  {
   "cell_type": "code",
   "execution_count": 7,
   "metadata": {
    "collapsed": false
   },
   "outputs": [
    {
     "name": "stdout",
     "output_type": "stream",
     "text": [
      "\n",
      "piindex (array([  2,  18,  35,  43,  46,  59,  67,  79,  88,  98, 137, 145, 165,\n",
      "       172, 178, 199, 202, 208, 222, 252, 253, 255, 266, 268, 278, 285,\n",
      "       286, 294]),)\n",
      "haspi (28,)\n",
      "haspiindex [{5, 6, 7, 8, 10, 19}, {11, 12, 13, 14, 15, 16}, {4, 5, 6, 7, 8, 9}, {3, 4, 5, 7, 12, 13}, {16, 17, 18, 19, 20, 21}, {11, 12, 13, 14, 15, 16}, {16, 17, 18, 19, 20, 21}, {8, 9, 10, 17, 18, 23}, {3, 4, 5, 7, 8, 12}, {8, 9, 10, 11, 12, 13}, {1, 2, 3, 4, 6, 15}, {3, 4, 5, 27, 28, 29}, {10, 11, 12, 13, 14, 15}, {12, 13, 14, 15, 24, 25}, {4, 5, 6, 7, 8, 9}, {14, 15, 16, 23, 24, 25}, {12, 13, 14, 15, 16, 17}, {1, 2, 3, 34, 37, 27}, {2, 3, 4, 5, 20, 21}, {3, 4, 13, 14, 15, 16}, {14, 15, 16, 17, 18, 19}, {3, 4, 5, 6, 8, 10}, {2, 3, 4, 5, 6, 7}, {1, 2, 3, 4, 5, 6}, {18, 19, 20, 21, 22, 23}, {18, 19, 20, 21, 22, 23}, {6, 7, 14, 15, 18, 24}, {1, 2, 3, 15, 22, 25}]\n"
     ]
    },
    {
     "name": "stderr",
     "output_type": "stream",
     "text": [
      "Widget Javascript not detected.  It may not be installed properly. Did you enable the widgetsnbextension? If not, then run \"jupyter nbextension enable --py --sys-prefix widgetsnbextension\"\n"
     ]
    }
   ],
   "source": [
    "target_dataset = val\n",
    "target_smiles = val_smiles\n",
    "\n",
    "#dataset_mols = [Chem.MolFromSmiles(smi) for smi in tqdm(train_smiles)]\n",
    "#dataset_mols = [Chem.MolFromSmiles(smi) for smi in tqdm(val_smiles)]\n",
    "val_mols = [Chem.MolFromSmiles(smi) for smi in tqdm(val_smiles)]\n",
    "\n",
    "pi = Chem.MolFromSmarts(PYRIDINE_SMILES)\n",
    "piindex = np.where(np.array([mol.HasSubstructMatch(pi) for mol in val_mols]) == True)\n",
    "haspi = np.array(val_mols)[piindex]\n",
    "haspiindex = [set(mol.GetSubstructMatch(pi)) for mol in haspi]\n",
    "\n",
    "print('piindex', piindex)\n",
    "print('haspi', haspi.shape)\n",
    "print('haspiindex', haspiindex)\n",
    "\n",
    "pyrigine_dataset = NumpyTupleDataset(*target_dataset.features[piindex, :])\n",
    "pyrigine_smiles = target_smiles[piindex]\n",
    "\n",
    "atoms = pyrigine_dataset.features[:, 0]\n",
    "num_atoms = [len(a) for a in atoms]\n"
   ]
  },
  {
   "cell_type": "code",
   "execution_count": 8,
   "metadata": {
    "collapsed": false
   },
   "outputs": [
    {
     "name": "stdout",
     "output_type": "stream",
     "text": [
      "dropout_ratio, n_layers 0.25 1\n",
      "Use GGNNDrop predictor...\n"
     ]
    }
   ],
   "source": [
    "# --- model preparation ---\n",
    "\n",
    "model = predictor.build_predictor(\n",
    "    method, unit_num, conv_layers, class_num, dropout_ratio, n_layers)\n",
    "\n",
    "classifier = L.Classifier(model,\n",
    "                          lossfun=F.sigmoid_cross_entropy,\n",
    "                          accfun=F.binary_accuracy)\n",
    "\n",
    "serializers.load_npz(model_path, model)"
   ]
  },
  {
   "cell_type": "code",
   "execution_count": 9,
   "metadata": {
    "collapsed": true
   },
   "outputs": [],
   "source": [
    "def clip_original_size(saliency, num_atoms):\n",
    "    \"\"\"`saliency` array is 0 padded, this method align to have original\n",
    "    molecule's length\n",
    "    \"\"\"\n",
    "    assert len(saliency) == len(num_atoms)\n",
    "    saliency_list = []\n",
    "    for i in range(len(saliency)):\n",
    "        saliency_list.append(saliency[i, :num_atoms[i]])\n",
    "    return saliency_list\n",
    "\n",
    "def preprocess_fun(*inputs):\n",
    "    atom, adj, t = inputs\n",
    "    # HACKING for now...\n",
    "    # classifier.predictor.pick = True\n",
    "    # result = classifier.predictor(atom, adj)\n",
    "    atom_embed = classifier.predictor.graph_conv.embed(atom)\n",
    "    return atom_embed, adj, t\n",
    "\n",
    "def eval_fun(*inputs):\n",
    "    atom_embed, adj, t = inputs\n",
    "    prob = classifier.predictor(atom_embed, adj)\n",
    "    # print('embed', atom_embed.shape, 'prob', prob.shape)\n",
    "    # import IPython; IPython.embed()\n",
    "    out = F.sum(prob)\n",
    "    # return {'embed': atom_embed, 'out': out}\n",
    "    return out\n"
   ]
  },
  {
   "cell_type": "code",
   "execution_count": null,
   "metadata": {
    "collapsed": true
   },
   "outputs": [],
   "source": []
  },
  {
   "cell_type": "markdown",
   "metadata": {},
   "source": [
    "## Saliency calculation & visualization\n",
    "\n",
    "You can calculate saliency and visualize it in following steps:\n",
    "\n",
    "1. Instantiate Saliency Calculator\n",
    "2. `compute_xxx` (xxx is vanilla/smooth/bayes) method to calculate saliency (gradient etc)\n",
    "3. `transform` method to convert saliency into visualizable format.\n",
    "4. Use Visualizer class to visualize it."
   ]
  },
  {
   "cell_type": "code",
   "execution_count": 10,
   "metadata": {
    "collapsed": false
   },
   "outputs": [],
   "source": [
    "# 1. instantiation\n",
    "gradient_calculator = GradientCalculator(\n",
    "    classifier, eval_fun=eval_fun,\n",
    "    # target_key='embed', eval_key='out',\n",
    "    target_key=0,\n",
    ")"
   ]
  },
  {
   "cell_type": "code",
   "execution_count": 11,
   "metadata": {
    "collapsed": false
   },
   "outputs": [
    {
     "name": "stdout",
     "output_type": "stream",
     "text": [
      "saliency_arrays (1, 28, 43, 16)\n",
      "saliency (28, 43)\n"
     ]
    }
   ],
   "source": [
    "M = 40\n",
    "rates = np.array(list(range(1, 11))) * 0.1\n",
    "\n",
    "# --- VanillaGrad ---\n",
    "# 2. compute\n",
    "saliency_arrays_vanilla = gradient_calculator.compute_vanilla(\n",
    "    pyrigine_dataset, converter=concat_mols, preprocess_fn=preprocess_fun)\n",
    "# 3. transform\n",
    "saliency_vanilla = gradient_calculator.transform(\n",
    "    saliency_arrays_vanilla, ch_axis=3, method='square')\n",
    "# saliency_arrays (1, 28, 43, 64) -> M, minibatch, max_atom, ch_dim\n",
    "print('saliency_arrays', saliency_arrays_vanilla.shape)\n",
    "# saliency (28, 43) -> minibatch, max_atom\n",
    "print('saliency', saliency_vanilla.shape)"
   ]
  },
  {
   "cell_type": "code",
   "execution_count": 12,
   "metadata": {
    "collapsed": false
   },
   "outputs": [
    {
     "data": {
      "image/svg+xml": [
       "<svg baseProfile=\"full\" height=\"375px\" version=\"1.1\" width=\"500px\" xml:space=\"preserve\" xmlns:rdkit=\"http://www.rdkit.org/xml\" xmlns:svg=\"http://www.w3.org/2000/svg\" xmlns:xlink=\"http://www.w3.org/1999/xlink\">\n",
       "<rect height=\"375\" style=\"opacity:1.0;fill:#FFFFFF;stroke:none\" width=\"500\" x=\"0\" y=\"0\"> </rect>\n",
       "<path d=\"M 47.7391,345.477 57.182,300.24\" style=\"fill:none;fill-rule:evenodd;stroke:#FFFFFF;stroke-width:16px;stroke-linecap:butt;stroke-linejoin:miter;stroke-opacity:1\"/>\n",
       "<path d=\"M 57.182,300.24 22.7273,269.444\" style=\"fill:none;fill-rule:evenodd;stroke:#FFFFFF;stroke-width:16px;stroke-linecap:butt;stroke-linejoin:miter;stroke-opacity:1\"/>\n",
       "<path d=\"M 57.182,300.24 101.08,285.8\" style=\"fill:none;fill-rule:evenodd;stroke:#FFFFFF;stroke-width:16px;stroke-linecap:butt;stroke-linejoin:miter;stroke-opacity:1\"/>\n",
       "<path d=\"M 101.08,285.8 110.523,240.563\" style=\"fill:none;fill-rule:evenodd;stroke:#FF7676;stroke-width:16px;stroke-linecap:butt;stroke-linejoin:miter;stroke-opacity:1\"/>\n",
       "<path d=\"M 110.523,240.563 76.0678,209.767\" style=\"fill:none;fill-rule:evenodd;stroke:#FF4848;stroke-width:16px;stroke-linecap:butt;stroke-linejoin:miter;stroke-opacity:1\"/>\n",
       "<path d=\"M 110.523,240.563 154.42,226.122\" style=\"fill:none;fill-rule:evenodd;stroke:#FF0000;stroke-width:16px;stroke-linecap:butt;stroke-linejoin:miter;stroke-opacity:1\"/>\n",
       "<path d=\"M 76.0678,209.767 85.5108,164.53\" style=\"fill:none;fill-rule:evenodd;stroke:#FF2D2D;stroke-width:16px;stroke-linecap:butt;stroke-linejoin:miter;stroke-opacity:1\"/>\n",
       "<path d=\"M 85.5108,164.53 129.408,150.089\" style=\"fill:none;fill-rule:evenodd;stroke:#FF4343;stroke-width:16px;stroke-linecap:butt;stroke-linejoin:miter;stroke-opacity:1\"/>\n",
       "<path d=\"M 129.408,150.089 163.863,180.885\" style=\"fill:none;fill-rule:evenodd;stroke:#FFFFFF;stroke-width:16px;stroke-linecap:butt;stroke-linejoin:miter;stroke-opacity:1\"/>\n",
       "<path d=\"M 163.863,180.885 154.42,226.122\" style=\"fill:none;fill-rule:evenodd;stroke:#FFFFFF;stroke-width:16px;stroke-linecap:butt;stroke-linejoin:miter;stroke-opacity:1\"/>\n",
       "<path d=\"M 154.42,226.122 188.875,256.918\" style=\"fill:none;fill-rule:evenodd;stroke:#FFFFFF;stroke-width:16px;stroke-linecap:butt;stroke-linejoin:miter;stroke-opacity:1\"/>\n",
       "<path d=\"M 188.875,256.918 179.432,302.155\" style=\"fill:none;fill-rule:evenodd;stroke:#FFFFFF;stroke-width:16px;stroke-linecap:butt;stroke-linejoin:miter;stroke-opacity:1\"/>\n",
       "<path d=\"M 188.875,256.918 232.773,242.478\" style=\"fill:none;fill-rule:evenodd;stroke:#FFFFFF;stroke-width:16px;stroke-linecap:butt;stroke-linejoin:miter;stroke-opacity:1\"/>\n",
       "<path d=\"M 232.773,242.478 267.227,273.274\" style=\"fill:none;fill-rule:evenodd;stroke:#FFFFFF;stroke-width:16px;stroke-linecap:butt;stroke-linejoin:miter;stroke-opacity:1\"/>\n",
       "<path d=\"M 232.773,242.478 242.216,197.241\" style=\"fill:none;fill-rule:evenodd;stroke:#FFFFFF;stroke-width:16px;stroke-linecap:butt;stroke-linejoin:miter;stroke-opacity:1\"/>\n",
       "<path d=\"M 267.227,273.274 311.125,258.833\" style=\"fill:none;fill-rule:evenodd;stroke:#FFFFFF;stroke-width:16px;stroke-linecap:butt;stroke-linejoin:miter;stroke-opacity:1\"/>\n",
       "<path d=\"M 311.125,258.833 320.568,213.597\" style=\"fill:none;fill-rule:evenodd;stroke:#FFFFFF;stroke-width:16px;stroke-linecap:butt;stroke-linejoin:miter;stroke-opacity:1\"/>\n",
       "<path d=\"M 320.568,213.597 364.466,199.156\" style=\"fill:none;fill-rule:evenodd;stroke:#FFFFFF;stroke-width:16px;stroke-linecap:butt;stroke-linejoin:miter;stroke-opacity:1\"/>\n",
       "<path d=\"M 320.568,213.597 286.113,182.8\" style=\"fill:none;fill-rule:evenodd;stroke:#FFFFFF;stroke-width:16px;stroke-linecap:butt;stroke-linejoin:miter;stroke-opacity:1\"/>\n",
       "<path d=\"M 364.466,199.156 398.92,229.952\" style=\"fill:none;fill-rule:evenodd;stroke:#FFFFFF;stroke-width:16px;stroke-linecap:butt;stroke-linejoin:miter;stroke-opacity:1\"/>\n",
       "<path d=\"M 398.92,229.952 389.477,275.189\" style=\"fill:none;fill-rule:evenodd;stroke:#FFFFFF;stroke-width:16px;stroke-linecap:butt;stroke-linejoin:miter;stroke-opacity:1\"/>\n",
       "<path d=\"M 398.92,229.952 442.818,215.512\" style=\"fill:none;fill-rule:evenodd;stroke:#FFFFFF;stroke-width:16px;stroke-linecap:butt;stroke-linejoin:miter;stroke-opacity:1\"/>\n",
       "<path d=\"M 389.477,275.189 423.932,305.985\" style=\"fill:none;fill-rule:evenodd;stroke:#FFFFFF;stroke-width:16px;stroke-linecap:butt;stroke-linejoin:miter;stroke-opacity:1\"/>\n",
       "<path d=\"M 423.932,305.985 467.83,291.545\" style=\"fill:none;fill-rule:evenodd;stroke:#FFFFFF;stroke-width:16px;stroke-linecap:butt;stroke-linejoin:miter;stroke-opacity:1\"/>\n",
       "<path d=\"M 467.83,291.545 477.273,246.308\" style=\"fill:none;fill-rule:evenodd;stroke:#FFFFFF;stroke-width:16px;stroke-linecap:butt;stroke-linejoin:miter;stroke-opacity:1\"/>\n",
       "<path d=\"M 477.273,246.308 442.818,215.512\" style=\"fill:none;fill-rule:evenodd;stroke:#FFFFFF;stroke-width:16px;stroke-linecap:butt;stroke-linejoin:miter;stroke-opacity:1\"/>\n",
       "<path d=\"M 286.113,182.8 242.216,197.241\" style=\"fill:none;fill-rule:evenodd;stroke:#FFFFFF;stroke-width:16px;stroke-linecap:butt;stroke-linejoin:miter;stroke-opacity:1\"/>\n",
       "<path d=\"M 307.528,119.281 298.795,73.9022\" style=\"fill:none;fill-rule:evenodd;stroke:#FFFFFF;stroke-width:16px;stroke-linecap:butt;stroke-linejoin:miter;stroke-opacity:1\"/>\n",
       "<path d=\"M 298.795,73.9022 333.728,43.6495\" style=\"fill:none;fill-rule:evenodd;stroke:#FFFFFF;stroke-width:16px;stroke-linecap:butt;stroke-linejoin:miter;stroke-opacity:1\"/>\n",
       "<path d=\"M 298.795,73.9022 255.129,58.7758\" style=\"fill:none;fill-rule:evenodd;stroke:#FFFFFF;stroke-width:16px;stroke-linecap:butt;stroke-linejoin:miter;stroke-opacity:1\"/>\n",
       "<path d=\"M 255.129,58.7758 220.196,89.0286\" style=\"fill:none;fill-rule:evenodd;stroke:#FFFFFF;stroke-width:16px;stroke-linecap:butt;stroke-linejoin:miter;stroke-opacity:1\"/>\n",
       "<path d=\"M 220.196,89.0286 176.53,73.9022\" style=\"fill:none;fill-rule:evenodd;stroke:#FFFFFF;stroke-width:16px;stroke-linecap:butt;stroke-linejoin:miter;stroke-opacity:1\"/>\n",
       "<path d=\"M 176.53,73.9022 167.797,28.5231\" style=\"fill:none;fill-rule:evenodd;stroke:#FFFFFF;stroke-width:16px;stroke-linecap:butt;stroke-linejoin:miter;stroke-opacity:1\"/>\n",
       "<path d=\"M 176.53,73.9022 141.597,104.155\" style=\"fill:none;fill-rule:evenodd;stroke:#FFFFFF;stroke-width:16px;stroke-linecap:butt;stroke-linejoin:miter;stroke-opacity:1\"/>\n",
       "<ellipse cx=\"101.08\" cy=\"285.8\" rx=\"12.3232\" ry=\"12.3232\" style=\"fill:#FFA0A0;fill-rule:evenodd;stroke:#FFA0A0;stroke-width:1px;stroke-linecap:butt;stroke-linejoin:miter;stroke-opacity:1\"/>\n",
       "<ellipse cx=\"110.523\" cy=\"240.563\" rx=\"12.3232\" ry=\"12.3232\" style=\"fill:#FF4C4C;fill-rule:evenodd;stroke:#FF4C4C;stroke-width:1px;stroke-linecap:butt;stroke-linejoin:miter;stroke-opacity:1\"/>\n",
       "<ellipse cx=\"76.0678\" cy=\"209.767\" rx=\"12.3232\" ry=\"12.3232\" style=\"fill:#FF4545;fill-rule:evenodd;stroke:#FF4545;stroke-width:1px;stroke-linecap:butt;stroke-linejoin:miter;stroke-opacity:1\"/>\n",
       "<ellipse cx=\"85.5108\" cy=\"164.53\" rx=\"12.3232\" ry=\"12.3232\" style=\"fill:#FF1515;fill-rule:evenodd;stroke:#FF1515;stroke-width:1px;stroke-linecap:butt;stroke-linejoin:miter;stroke-opacity:1\"/>\n",
       "<ellipse cx=\"129.408\" cy=\"150.089\" rx=\"12.3232\" ry=\"12.3232\" style=\"fill:#FF7070;fill-rule:evenodd;stroke:#FF7070;stroke-width:1px;stroke-linecap:butt;stroke-linejoin:miter;stroke-opacity:1\"/>\n",
       "<ellipse cx=\"154.42\" cy=\"226.122\" rx=\"12.3232\" ry=\"12.3232\" style=\"fill:#FF0000;fill-rule:evenodd;stroke:#FF0000;stroke-width:1px;stroke-linecap:butt;stroke-linejoin:miter;stroke-opacity:1\"/>\n",
       "<ellipse cx=\"307.528\" cy=\"119.281\" rx=\"12.3232\" ry=\"12.3232\" style=\"fill:#FFBBBB;fill-rule:evenodd;stroke:#FFBBBB;stroke-width:1px;stroke-linecap:butt;stroke-linejoin:miter;stroke-opacity:1\"/>\n",
       "<ellipse cx=\"333.728\" cy=\"43.6495\" rx=\"12.3232\" ry=\"12.3232\" style=\"fill:#FFB4B4;fill-rule:evenodd;stroke:#FFB4B4;stroke-width:1px;stroke-linecap:butt;stroke-linejoin:miter;stroke-opacity:1\"/>\n",
       "<ellipse cx=\"167.797\" cy=\"28.5231\" rx=\"12.3232\" ry=\"12.3232\" style=\"fill:#FFBBBB;fill-rule:evenodd;stroke:#FFBBBB;stroke-width:1px;stroke-linecap:butt;stroke-linejoin:miter;stroke-opacity:1\"/>\n",
       "<ellipse cx=\"141.597\" cy=\"104.155\" rx=\"12.3232\" ry=\"12.3232\" style=\"fill:#FFB4B4;fill-rule:evenodd;stroke:#FFB4B4;stroke-width:1px;stroke-linecap:butt;stroke-linejoin:miter;stroke-opacity:1\"/>\n",
       "<path d=\"M 47.7391,345.477 57.182,300.24\" style=\"fill:none;fill-rule:evenodd;stroke:#000000;stroke-width:2px;stroke-linecap:butt;stroke-linejoin:miter;stroke-opacity:1\"/>\n",
       "<path d=\"M 57.182,300.24 22.7273,269.444\" style=\"fill:none;fill-rule:evenodd;stroke:#000000;stroke-width:2px;stroke-linecap:butt;stroke-linejoin:miter;stroke-opacity:1\"/>\n",
       "<path d=\"M 57.182,300.24 75.5341,294.203\" style=\"fill:none;fill-rule:evenodd;stroke:#000000;stroke-width:2px;stroke-linecap:butt;stroke-linejoin:miter;stroke-opacity:1\"/>\n",
       "<path d=\"M 75.5341,294.203 93.8862,288.166\" style=\"fill:none;fill-rule:evenodd;stroke:#FF0000;stroke-width:2px;stroke-linecap:butt;stroke-linejoin:miter;stroke-opacity:1\"/>\n",
       "<path d=\"M 102.687,278.098 106.605,259.33\" style=\"fill:none;fill-rule:evenodd;stroke:#FF0000;stroke-width:2px;stroke-linecap:butt;stroke-linejoin:miter;stroke-opacity:1\"/>\n",
       "<path d=\"M 106.605,259.33 110.523,240.563\" style=\"fill:none;fill-rule:evenodd;stroke:#000000;stroke-width:2px;stroke-linecap:butt;stroke-linejoin:miter;stroke-opacity:1\"/>\n",
       "<path d=\"M 110.523,240.563 76.0678,209.767\" style=\"fill:none;fill-rule:evenodd;stroke:#000000;stroke-width:2px;stroke-linecap:butt;stroke-linejoin:miter;stroke-opacity:1\"/>\n",
       "<path d=\"M 111.514,229.052 87.3953,207.495\" style=\"fill:none;fill-rule:evenodd;stroke:#000000;stroke-width:2px;stroke-linecap:butt;stroke-linejoin:miter;stroke-opacity:1\"/>\n",
       "<path d=\"M 110.523,240.563 154.42,226.122\" style=\"fill:none;fill-rule:evenodd;stroke:#000000;stroke-width:2px;stroke-linecap:butt;stroke-linejoin:miter;stroke-opacity:1\"/>\n",
       "<path d=\"M 76.0678,209.767 85.5108,164.53\" style=\"fill:none;fill-rule:evenodd;stroke:#000000;stroke-width:2px;stroke-linecap:butt;stroke-linejoin:miter;stroke-opacity:1\"/>\n",
       "<path d=\"M 85.5108,164.53 129.408,150.089\" style=\"fill:none;fill-rule:evenodd;stroke:#000000;stroke-width:2px;stroke-linecap:butt;stroke-linejoin:miter;stroke-opacity:1\"/>\n",
       "<path d=\"M 94.9835,171.143 125.712,161.035\" style=\"fill:none;fill-rule:evenodd;stroke:#000000;stroke-width:2px;stroke-linecap:butt;stroke-linejoin:miter;stroke-opacity:1\"/>\n",
       "<path d=\"M 129.408,150.089 143.298,162.504\" style=\"fill:none;fill-rule:evenodd;stroke:#000000;stroke-width:2px;stroke-linecap:butt;stroke-linejoin:miter;stroke-opacity:1\"/>\n",
       "<path d=\"M 143.298,162.504 157.187,174.919\" style=\"fill:none;fill-rule:evenodd;stroke:#0000FF;stroke-width:2px;stroke-linecap:butt;stroke-linejoin:miter;stroke-opacity:1\"/>\n",
       "<path d=\"M 162.255,188.587 158.338,207.355\" style=\"fill:none;fill-rule:evenodd;stroke:#0000FF;stroke-width:2px;stroke-linecap:butt;stroke-linejoin:miter;stroke-opacity:1\"/>\n",
       "<path d=\"M 158.338,207.355 154.42,226.122\" style=\"fill:none;fill-rule:evenodd;stroke:#000000;stroke-width:2px;stroke-linecap:butt;stroke-linejoin:miter;stroke-opacity:1\"/>\n",
       "<path d=\"M 152.033,192.329 149.29,205.466\" style=\"fill:none;fill-rule:evenodd;stroke:#0000FF;stroke-width:2px;stroke-linecap:butt;stroke-linejoin:miter;stroke-opacity:1\"/>\n",
       "<path d=\"M 149.29,205.466 146.548,218.603\" style=\"fill:none;fill-rule:evenodd;stroke:#000000;stroke-width:2px;stroke-linecap:butt;stroke-linejoin:miter;stroke-opacity:1\"/>\n",
       "<path d=\"M 154.42,226.122 168.31,238.537\" style=\"fill:none;fill-rule:evenodd;stroke:#000000;stroke-width:2px;stroke-linecap:butt;stroke-linejoin:miter;stroke-opacity:1\"/>\n",
       "<path d=\"M 168.31,238.537 182.199,250.952\" style=\"fill:none;fill-rule:evenodd;stroke:#0000FF;stroke-width:2px;stroke-linecap:butt;stroke-linejoin:miter;stroke-opacity:1\"/>\n",
       "<path d=\"M 187.267,264.62 183.35,283.388\" style=\"fill:none;fill-rule:evenodd;stroke:#0000FF;stroke-width:2px;stroke-linecap:butt;stroke-linejoin:miter;stroke-opacity:1\"/>\n",
       "<path d=\"M 183.35,283.388 179.432,302.155\" style=\"fill:none;fill-rule:evenodd;stroke:#000000;stroke-width:2px;stroke-linecap:butt;stroke-linejoin:miter;stroke-opacity:1\"/>\n",
       "<path d=\"M 195.551,254.722 214.162,248.6\" style=\"fill:none;fill-rule:evenodd;stroke:#0000FF;stroke-width:2px;stroke-linecap:butt;stroke-linejoin:miter;stroke-opacity:1\"/>\n",
       "<path d=\"M 214.162,248.6 232.773,242.478\" style=\"fill:none;fill-rule:evenodd;stroke:#000000;stroke-width:2px;stroke-linecap:butt;stroke-linejoin:miter;stroke-opacity:1\"/>\n",
       "<path d=\"M 232.773,242.478 267.227,273.274\" style=\"fill:none;fill-rule:evenodd;stroke:#000000;stroke-width:2px;stroke-linecap:butt;stroke-linejoin:miter;stroke-opacity:1\"/>\n",
       "<path d=\"M 232.773,242.478 242.216,197.241\" style=\"fill:none;fill-rule:evenodd;stroke:#000000;stroke-width:2px;stroke-linecap:butt;stroke-linejoin:miter;stroke-opacity:1\"/>\n",
       "<path d=\"M 267.227,273.274 311.125,258.833\" style=\"fill:none;fill-rule:evenodd;stroke:#000000;stroke-width:2px;stroke-linecap:butt;stroke-linejoin:miter;stroke-opacity:1\"/>\n",
       "<path d=\"M 311.125,258.833 315.043,240.066\" style=\"fill:none;fill-rule:evenodd;stroke:#000000;stroke-width:2px;stroke-linecap:butt;stroke-linejoin:miter;stroke-opacity:1\"/>\n",
       "<path d=\"M 315.043,240.066 318.96,221.299\" style=\"fill:none;fill-rule:evenodd;stroke:#0000FF;stroke-width:2px;stroke-linecap:butt;stroke-linejoin:miter;stroke-opacity:1\"/>\n",
       "<path d=\"M 327.244,211.401 345.855,205.278\" style=\"fill:none;fill-rule:evenodd;stroke:#0000FF;stroke-width:2px;stroke-linecap:butt;stroke-linejoin:miter;stroke-opacity:1\"/>\n",
       "<path d=\"M 345.855,205.278 364.466,199.156\" style=\"fill:none;fill-rule:evenodd;stroke:#000000;stroke-width:2px;stroke-linecap:butt;stroke-linejoin:miter;stroke-opacity:1\"/>\n",
       "<path d=\"M 313.892,207.63 300.003,195.215\" style=\"fill:none;fill-rule:evenodd;stroke:#0000FF;stroke-width:2px;stroke-linecap:butt;stroke-linejoin:miter;stroke-opacity:1\"/>\n",
       "<path d=\"M 300.003,195.215 286.113,182.8\" style=\"fill:none;fill-rule:evenodd;stroke:#000000;stroke-width:2px;stroke-linecap:butt;stroke-linejoin:miter;stroke-opacity:1\"/>\n",
       "<path d=\"M 364.466,199.156 398.92,229.952\" style=\"fill:none;fill-rule:evenodd;stroke:#000000;stroke-width:2px;stroke-linecap:butt;stroke-linejoin:miter;stroke-opacity:1\"/>\n",
       "<path d=\"M 398.92,229.952 389.477,275.189\" style=\"fill:none;fill-rule:evenodd;stroke:#000000;stroke-width:2px;stroke-linecap:butt;stroke-linejoin:miter;stroke-opacity:1\"/>\n",
       "<path d=\"M 406.551,238.626 399.941,270.292\" style=\"fill:none;fill-rule:evenodd;stroke:#000000;stroke-width:2px;stroke-linecap:butt;stroke-linejoin:miter;stroke-opacity:1\"/>\n",
       "<path d=\"M 398.92,229.952 442.818,215.512\" style=\"fill:none;fill-rule:evenodd;stroke:#000000;stroke-width:2px;stroke-linecap:butt;stroke-linejoin:miter;stroke-opacity:1\"/>\n",
       "<path d=\"M 389.477,275.189 423.932,305.985\" style=\"fill:none;fill-rule:evenodd;stroke:#000000;stroke-width:2px;stroke-linecap:butt;stroke-linejoin:miter;stroke-opacity:1\"/>\n",
       "<path d=\"M 423.932,305.985 467.83,291.545\" style=\"fill:none;fill-rule:evenodd;stroke:#000000;stroke-width:2px;stroke-linecap:butt;stroke-linejoin:miter;stroke-opacity:1\"/>\n",
       "<path d=\"M 427.629,295.04 458.357,284.931\" style=\"fill:none;fill-rule:evenodd;stroke:#000000;stroke-width:2px;stroke-linecap:butt;stroke-linejoin:miter;stroke-opacity:1\"/>\n",
       "<path d=\"M 467.83,291.545 477.273,246.308\" style=\"fill:none;fill-rule:evenodd;stroke:#000000;stroke-width:2px;stroke-linecap:butt;stroke-linejoin:miter;stroke-opacity:1\"/>\n",
       "<path d=\"M 477.273,246.308 442.818,215.512\" style=\"fill:none;fill-rule:evenodd;stroke:#000000;stroke-width:2px;stroke-linecap:butt;stroke-linejoin:miter;stroke-opacity:1\"/>\n",
       "<path d=\"M 465.945,248.579 441.827,227.022\" style=\"fill:none;fill-rule:evenodd;stroke:#000000;stroke-width:2px;stroke-linecap:butt;stroke-linejoin:miter;stroke-opacity:1\"/>\n",
       "<path d=\"M 286.113,182.8 242.216,197.241\" style=\"fill:none;fill-rule:evenodd;stroke:#000000;stroke-width:2px;stroke-linecap:butt;stroke-linejoin:miter;stroke-opacity:1\"/>\n",
       "<path d=\"M 310.584,110.706 306.959,91.8675\" style=\"fill:none;fill-rule:evenodd;stroke:#FF0000;stroke-width:2px;stroke-linecap:butt;stroke-linejoin:miter;stroke-opacity:1\"/>\n",
       "<path d=\"M 306.959,91.8675 303.333,73.0289\" style=\"fill:none;fill-rule:evenodd;stroke:#000000;stroke-width:2px;stroke-linecap:butt;stroke-linejoin:miter;stroke-opacity:1\"/>\n",
       "<path d=\"M 301.508,112.453 297.883,93.6141\" style=\"fill:none;fill-rule:evenodd;stroke:#FF0000;stroke-width:2px;stroke-linecap:butt;stroke-linejoin:miter;stroke-opacity:1\"/>\n",
       "<path d=\"M 297.883,93.6141 294.257,74.7755\" style=\"fill:none;fill-rule:evenodd;stroke:#000000;stroke-width:2px;stroke-linecap:butt;stroke-linejoin:miter;stroke-opacity:1\"/>\n",
       "<path d=\"M 298.795,73.9022 311.815,62.6268\" style=\"fill:none;fill-rule:evenodd;stroke:#000000;stroke-width:2px;stroke-linecap:butt;stroke-linejoin:miter;stroke-opacity:1\"/>\n",
       "<path d=\"M 311.815,62.6268 324.835,51.3514\" style=\"fill:none;fill-rule:evenodd;stroke:#FF0000;stroke-width:2px;stroke-linecap:butt;stroke-linejoin:miter;stroke-opacity:1\"/>\n",
       "<path d=\"M 298.795,73.9022 255.129,58.7758\" style=\"fill:none;fill-rule:evenodd;stroke:#000000;stroke-width:2px;stroke-linecap:butt;stroke-linejoin:miter;stroke-opacity:1\"/>\n",
       "<path d=\"M 255.129,58.7758 220.196,89.0286\" style=\"fill:none;fill-rule:evenodd;stroke:#000000;stroke-width:2px;stroke-linecap:butt;stroke-linejoin:miter;stroke-opacity:1\"/>\n",
       "<path d=\"M 255.94,70.3003 231.487,91.4773\" style=\"fill:none;fill-rule:evenodd;stroke:#000000;stroke-width:2px;stroke-linecap:butt;stroke-linejoin:miter;stroke-opacity:1\"/>\n",
       "<path d=\"M 220.196,89.0286 176.53,73.9022\" style=\"fill:none;fill-rule:evenodd;stroke:#000000;stroke-width:2px;stroke-linecap:butt;stroke-linejoin:miter;stroke-opacity:1\"/>\n",
       "<path d=\"M 181.068,73.0289 177.443,54.1903\" style=\"fill:none;fill-rule:evenodd;stroke:#000000;stroke-width:2px;stroke-linecap:butt;stroke-linejoin:miter;stroke-opacity:1\"/>\n",
       "<path d=\"M 177.443,54.1903 173.817,35.3517\" style=\"fill:none;fill-rule:evenodd;stroke:#FF0000;stroke-width:2px;stroke-linecap:butt;stroke-linejoin:miter;stroke-opacity:1\"/>\n",
       "<path d=\"M 171.992,74.7755 168.367,55.937\" style=\"fill:none;fill-rule:evenodd;stroke:#000000;stroke-width:2px;stroke-linecap:butt;stroke-linejoin:miter;stroke-opacity:1\"/>\n",
       "<path d=\"M 168.367,55.937 164.741,37.0984\" style=\"fill:none;fill-rule:evenodd;stroke:#FF0000;stroke-width:2px;stroke-linecap:butt;stroke-linejoin:miter;stroke-opacity:1\"/>\n",
       "<path d=\"M 176.53,73.9022 163.51,85.1776\" style=\"fill:none;fill-rule:evenodd;stroke:#000000;stroke-width:2px;stroke-linecap:butt;stroke-linejoin:miter;stroke-opacity:1\"/>\n",
       "<path d=\"M 163.51,85.1776 150.491,96.453\" style=\"fill:none;fill-rule:evenodd;stroke:#FF0000;stroke-width:2px;stroke-linecap:butt;stroke-linejoin:miter;stroke-opacity:1\"/>\n",
       "<text style=\"font-size:15px;font-style:normal;font-weight:normal;fill-opacity:1;stroke:none;font-family:sans-serif;text-anchor:start;fill:#FF0000\" x=\"93.8862\" y=\"293.502\"><tspan>O</tspan></text>\n",
       "<text style=\"font-size:15px;font-style:normal;font-weight:normal;fill-opacity:1;stroke:none;font-family:sans-serif;text-anchor:start;fill:#0000FF\" x=\"157.187\" y=\"188.587\"><tspan>N</tspan></text>\n",
       "<text style=\"font-size:15px;font-style:normal;font-weight:normal;fill-opacity:1;stroke:none;font-family:sans-serif;text-anchor:start;fill:#0000FF\" x=\"182.199\" y=\"264.62\"><tspan>N</tspan></text>\n",
       "<text style=\"font-size:15px;font-style:normal;font-weight:normal;fill-opacity:1;stroke:none;font-family:sans-serif;text-anchor:start;fill:#0000FF\" x=\"313.892\" y=\"221.299\"><tspan>N</tspan></text>\n",
       "<text style=\"font-size:15px;font-style:normal;font-weight:normal;fill-opacity:1;stroke:none;font-family:sans-serif;text-anchor:start;fill:#FF0000\" x=\"300.335\" y=\"126.983\"><tspan>O</tspan></text>\n",
       "<text style=\"font-size:15px;font-style:normal;font-weight:normal;fill-opacity:1;stroke:none;font-family:sans-serif;text-anchor:start;fill:#FF0000\" x=\"319.859\" y=\"51.3514\"><tspan>OH</tspan></text>\n",
       "<text style=\"font-size:15px;font-style:normal;font-weight:normal;fill-opacity:1;stroke:none;font-family:sans-serif;text-anchor:start;fill:#FF0000\" x=\"160.603\" y=\"36.2251\"><tspan>O</tspan></text>\n",
       "<text style=\"font-size:15px;font-style:normal;font-weight:normal;fill-opacity:1;stroke:none;font-family:sans-serif;text-anchor:start;fill:#FF0000\" x=\"127.728\" y=\"111.857\"><tspan>HO</tspan></text>\n",
       "</svg>"
      ],
      "text/plain": [
       "<IPython.core.display.SVG object>"
      ]
     },
     "execution_count": 12,
     "metadata": {},
     "output_type": "execute_result"
    }
   ],
   "source": [
    "from saliency.visualizer.smiles_visualizer import SmilesVisualizer\n",
    "\n",
    "sv = SmilesVisualizer()\n",
    "# 4. visualize\n",
    "index = 2\n",
    "sv.visualize(saliency_vanilla[index], pyrigine_smiles[index], visualize_ratio=0.3)"
   ]
  },
  {
   "cell_type": "code",
   "execution_count": 13,
   "metadata": {
    "collapsed": false
   },
   "outputs": [
    {
     "data": {
      "image/svg+xml": [
       "<svg baseProfile=\"full\" height=\"375px\" version=\"1.1\" width=\"500px\" xml:space=\"preserve\" xmlns:rdkit=\"http://www.rdkit.org/xml\" xmlns:svg=\"http://www.w3.org/2000/svg\" xmlns:xlink=\"http://www.w3.org/1999/xlink\">\n",
       "<rect height=\"375\" style=\"opacity:1.0;fill:#FFFFFF;stroke:none\" width=\"500\" x=\"0\" y=\"0\"> </rect>\n",
       "<path d=\"M 22.7273,191.747 59.651,202.893\" style=\"fill:none;fill-rule:evenodd;stroke:#FFFFFF;stroke-width:16px;stroke-linecap:butt;stroke-linejoin:miter;stroke-opacity:1\"/>\n",
       "<path d=\"M 59.651,202.893 68.4601,240.443\" style=\"fill:none;fill-rule:evenodd;stroke:#FFFFFF;stroke-width:16px;stroke-linecap:butt;stroke-linejoin:miter;stroke-opacity:1\"/>\n",
       "<path d=\"M 59.651,202.893 87.7655,176.489\" style=\"fill:none;fill-rule:evenodd;stroke:#FFFFFF;stroke-width:16px;stroke-linecap:butt;stroke-linejoin:miter;stroke-opacity:1\"/>\n",
       "<path d=\"M 68.4601,240.443 105.384,251.589\" style=\"fill:none;fill-rule:evenodd;stroke:#FFFFFF;stroke-width:16px;stroke-linecap:butt;stroke-linejoin:miter;stroke-opacity:1\"/>\n",
       "<path d=\"M 105.384,251.589 133.498,225.185\" style=\"fill:none;fill-rule:evenodd;stroke:#FFFFFF;stroke-width:16px;stroke-linecap:butt;stroke-linejoin:miter;stroke-opacity:1\"/>\n",
       "<path d=\"M 105.384,251.589 121.807,286.487\" style=\"fill:none;fill-rule:evenodd;stroke:#FFFFFF;stroke-width:16px;stroke-linecap:butt;stroke-linejoin:miter;stroke-opacity:1\"/>\n",
       "<path d=\"M 133.498,225.185 124.689,187.635\" style=\"fill:none;fill-rule:evenodd;stroke:#FFFFFF;stroke-width:16px;stroke-linecap:butt;stroke-linejoin:miter;stroke-opacity:1\"/>\n",
       "<path d=\"M 133.498,225.185 167.298,243.764\" style=\"fill:none;fill-rule:evenodd;stroke:#FFFFFF;stroke-width:16px;stroke-linecap:butt;stroke-linejoin:miter;stroke-opacity:1\"/>\n",
       "<path d=\"M 124.689,187.635 87.7655,176.489\" style=\"fill:none;fill-rule:evenodd;stroke:#FFFFFF;stroke-width:16px;stroke-linecap:butt;stroke-linejoin:miter;stroke-opacity:1\"/>\n",
       "<path d=\"M 87.7655,176.489 78.9564,138.939\" style=\"fill:none;fill-rule:evenodd;stroke:#FFFFFF;stroke-width:16px;stroke-linecap:butt;stroke-linejoin:miter;stroke-opacity:1\"/>\n",
       "<path d=\"M 167.298,243.764 202.196,227.341\" style=\"fill:none;fill-rule:evenodd;stroke:#FFFFFF;stroke-width:16px;stroke-linecap:butt;stroke-linejoin:miter;stroke-opacity:1\"/>\n",
       "<path d=\"M 167.298,243.764 160.072,281.651\" style=\"fill:none;fill-rule:evenodd;stroke:#FFFFFF;stroke-width:16px;stroke-linecap:butt;stroke-linejoin:miter;stroke-opacity:1\"/>\n",
       "<path d=\"M 202.196,227.341 205.421,188.906\" style=\"fill:none;fill-rule:evenodd;stroke:#FFFFFF;stroke-width:16px;stroke-linecap:butt;stroke-linejoin:miter;stroke-opacity:1\"/>\n",
       "<path d=\"M 202.196,227.341 233.868,249.351\" style=\"fill:none;fill-rule:evenodd;stroke:#FFFFFF;stroke-width:16px;stroke-linecap:butt;stroke-linejoin:miter;stroke-opacity:1\"/>\n",
       "<path d=\"M 233.868,249.351 268.766,232.928\" style=\"fill:none;fill-rule:evenodd;stroke:#FFFFFF;stroke-width:16px;stroke-linecap:butt;stroke-linejoin:miter;stroke-opacity:1\"/>\n",
       "<path d=\"M 268.766,232.928 300.438,254.938\" style=\"fill:none;fill-rule:evenodd;stroke:#FF9E9E;stroke-width:16px;stroke-linecap:butt;stroke-linejoin:miter;stroke-opacity:1\"/>\n",
       "<path d=\"M 268.766,232.928 271.991,194.493\" style=\"fill:none;fill-rule:evenodd;stroke:#FF9696;stroke-width:16px;stroke-linecap:butt;stroke-linejoin:miter;stroke-opacity:1\"/>\n",
       "<path d=\"M 300.438,254.938 335.336,238.514\" style=\"fill:none;fill-rule:evenodd;stroke:#FF9595;stroke-width:16px;stroke-linecap:butt;stroke-linejoin:miter;stroke-opacity:1\"/>\n",
       "<path d=\"M 335.336,238.514 338.561,200.08\" style=\"fill:none;fill-rule:evenodd;stroke:#FF8181;stroke-width:16px;stroke-linecap:butt;stroke-linejoin:miter;stroke-opacity:1\"/>\n",
       "<path d=\"M 338.561,200.08 373.459,183.657\" style=\"fill:none;fill-rule:evenodd;stroke:#FF9999;stroke-width:16px;stroke-linecap:butt;stroke-linejoin:miter;stroke-opacity:1\"/>\n",
       "<path d=\"M 338.561,200.08 306.889,178.07\" style=\"fill:none;fill-rule:evenodd;stroke:#FFFFFF;stroke-width:16px;stroke-linecap:butt;stroke-linejoin:miter;stroke-opacity:1\"/>\n",
       "<path d=\"M 373.459,183.657 405.131,205.667\" style=\"fill:none;fill-rule:evenodd;stroke:#FF8A8A;stroke-width:16px;stroke-linecap:butt;stroke-linejoin:miter;stroke-opacity:1\"/>\n",
       "<path d=\"M 405.131,205.667 401.906,244.101\" style=\"fill:none;fill-rule:evenodd;stroke:#FF6C6C;stroke-width:16px;stroke-linecap:butt;stroke-linejoin:miter;stroke-opacity:1\"/>\n",
       "<path d=\"M 405.131,205.667 440.029,189.243\" style=\"fill:none;fill-rule:evenodd;stroke:#FF0000;stroke-width:16px;stroke-linecap:butt;stroke-linejoin:miter;stroke-opacity:1\"/>\n",
       "<path d=\"M 401.906,244.101 433.578,266.112\" style=\"fill:none;fill-rule:evenodd;stroke:#FF5252;stroke-width:16px;stroke-linecap:butt;stroke-linejoin:miter;stroke-opacity:1\"/>\n",
       "<path d=\"M 433.578,266.112 468.475,249.688\" style=\"fill:none;fill-rule:evenodd;stroke:#FF6565;stroke-width:16px;stroke-linecap:butt;stroke-linejoin:miter;stroke-opacity:1\"/>\n",
       "<path d=\"M 468.475,249.688 471.701,211.254\" style=\"fill:none;fill-rule:evenodd;stroke:#FFA7A7;stroke-width:16px;stroke-linecap:butt;stroke-linejoin:miter;stroke-opacity:1\"/>\n",
       "<path d=\"M 471.701,211.254 440.029,189.243\" style=\"fill:none;fill-rule:evenodd;stroke:#FF0000;stroke-width:16px;stroke-linecap:butt;stroke-linejoin:miter;stroke-opacity:1\"/>\n",
       "<path d=\"M 440.029,189.243 443.254,150.809\" style=\"fill:none;fill-rule:evenodd;stroke:#FF0000;stroke-width:16px;stroke-linecap:butt;stroke-linejoin:miter;stroke-opacity:1\"/>\n",
       "<path d=\"M 306.889,178.07 271.991,194.493\" style=\"fill:none;fill-rule:evenodd;stroke:#FFFFFF;stroke-width:16px;stroke-linecap:butt;stroke-linejoin:miter;stroke-opacity:1\"/>\n",
       "<path d=\"M 160.072,281.651 121.807,286.487\" style=\"fill:none;fill-rule:evenodd;stroke:#FFFFFF;stroke-width:16px;stroke-linecap:butt;stroke-linejoin:miter;stroke-opacity:1\"/>\n",
       "<ellipse cx=\"268.766\" cy=\"232.928\" rx=\"10.2852\" ry=\"10.2852\" style=\"fill:#FF8383;fill-rule:evenodd;stroke:#FF8383;stroke-width:1px;stroke-linecap:butt;stroke-linejoin:miter;stroke-opacity:1\"/>\n",
       "<ellipse cx=\"300.438\" cy=\"254.938\" rx=\"10.2852\" ry=\"10.2852\" style=\"fill:#FFBABA;fill-rule:evenodd;stroke:#FFBABA;stroke-width:1px;stroke-linecap:butt;stroke-linejoin:miter;stroke-opacity:1\"/>\n",
       "<ellipse cx=\"335.336\" cy=\"238.514\" rx=\"10.2852\" ry=\"10.2852\" style=\"fill:#FF6F6F;fill-rule:evenodd;stroke:#FF6F6F;stroke-width:1px;stroke-linecap:butt;stroke-linejoin:miter;stroke-opacity:1\"/>\n",
       "<ellipse cx=\"338.561\" cy=\"200.08\" rx=\"10.2852\" ry=\"10.2852\" style=\"fill:#FF9393;fill-rule:evenodd;stroke:#FF9393;stroke-width:1px;stroke-linecap:butt;stroke-linejoin:miter;stroke-opacity:1\"/>\n",
       "<ellipse cx=\"373.459\" cy=\"183.657\" rx=\"10.2852\" ry=\"10.2852\" style=\"fill:#FF9E9E;fill-rule:evenodd;stroke:#FF9E9E;stroke-width:1px;stroke-linecap:butt;stroke-linejoin:miter;stroke-opacity:1\"/>\n",
       "<ellipse cx=\"405.131\" cy=\"205.667\" rx=\"10.2852\" ry=\"10.2852\" style=\"fill:#FF7575;fill-rule:evenodd;stroke:#FF7575;stroke-width:1px;stroke-linecap:butt;stroke-linejoin:miter;stroke-opacity:1\"/>\n",
       "<ellipse cx=\"401.906\" cy=\"244.101\" rx=\"10.2852\" ry=\"10.2852\" style=\"fill:#FF6262;fill-rule:evenodd;stroke:#FF6262;stroke-width:1px;stroke-linecap:butt;stroke-linejoin:miter;stroke-opacity:1\"/>\n",
       "<ellipse cx=\"433.578\" cy=\"266.112\" rx=\"10.2852\" ry=\"10.2852\" style=\"fill:#FF4141;fill-rule:evenodd;stroke:#FF4141;stroke-width:1px;stroke-linecap:butt;stroke-linejoin:miter;stroke-opacity:1\"/>\n",
       "<ellipse cx=\"468.475\" cy=\"249.688\" rx=\"10.2852\" ry=\"10.2852\" style=\"fill:#FF8989;fill-rule:evenodd;stroke:#FF8989;stroke-width:1px;stroke-linecap:butt;stroke-linejoin:miter;stroke-opacity:1\"/>\n",
       "<ellipse cx=\"471.701\" cy=\"211.254\" rx=\"10.2852\" ry=\"10.2852\" style=\"fill:#FFC5C5;fill-rule:evenodd;stroke:#FFC5C5;stroke-width:1px;stroke-linecap:butt;stroke-linejoin:miter;stroke-opacity:1\"/>\n",
       "<ellipse cx=\"440.029\" cy=\"189.243\" rx=\"10.2852\" ry=\"10.2852\" style=\"fill:#FF0000;fill-rule:evenodd;stroke:#FF0000;stroke-width:1px;stroke-linecap:butt;stroke-linejoin:miter;stroke-opacity:1\"/>\n",
       "<ellipse cx=\"443.254\" cy=\"150.809\" rx=\"10.2852\" ry=\"10.2852\" style=\"fill:#FF9393;fill-rule:evenodd;stroke:#FF9393;stroke-width:1px;stroke-linecap:butt;stroke-linejoin:miter;stroke-opacity:1\"/>\n",
       "<ellipse cx=\"271.991\" cy=\"194.493\" rx=\"10.2852\" ry=\"10.2852\" style=\"fill:#FFA9A9;fill-rule:evenodd;stroke:#FFA9A9;stroke-width:1px;stroke-linecap:butt;stroke-linejoin:miter;stroke-opacity:1\"/>\n",
       "<path d=\"M 22.7273,191.747 59.651,202.893\" style=\"fill:none;fill-rule:evenodd;stroke:#000000;stroke-width:2px;stroke-linecap:butt;stroke-linejoin:miter;stroke-opacity:1\"/>\n",
       "<path d=\"M 59.651,202.893 68.4601,240.443\" style=\"fill:none;fill-rule:evenodd;stroke:#000000;stroke-width:2px;stroke-linecap:butt;stroke-linejoin:miter;stroke-opacity:1\"/>\n",
       "<path d=\"M 68.4823,206.764 74.6487,233.048\" style=\"fill:none;fill-rule:evenodd;stroke:#000000;stroke-width:2px;stroke-linecap:butt;stroke-linejoin:miter;stroke-opacity:1\"/>\n",
       "<path d=\"M 59.651,202.893 87.7655,176.489\" style=\"fill:none;fill-rule:evenodd;stroke:#000000;stroke-width:2px;stroke-linecap:butt;stroke-linejoin:miter;stroke-opacity:1\"/>\n",
       "<path d=\"M 68.4601,240.443 105.384,251.589\" style=\"fill:none;fill-rule:evenodd;stroke:#000000;stroke-width:2px;stroke-linecap:butt;stroke-linejoin:miter;stroke-opacity:1\"/>\n",
       "<path d=\"M 105.384,251.589 133.498,225.185\" style=\"fill:none;fill-rule:evenodd;stroke:#000000;stroke-width:2px;stroke-linecap:butt;stroke-linejoin:miter;stroke-opacity:1\"/>\n",
       "<path d=\"M 104.32,242.005 124,223.523\" style=\"fill:none;fill-rule:evenodd;stroke:#000000;stroke-width:2px;stroke-linecap:butt;stroke-linejoin:miter;stroke-opacity:1\"/>\n",
       "<path d=\"M 105.384,251.589 121.807,286.487\" style=\"fill:none;fill-rule:evenodd;stroke:#000000;stroke-width:2px;stroke-linecap:butt;stroke-linejoin:miter;stroke-opacity:1\"/>\n",
       "<path d=\"M 133.498,225.185 124.689,187.635\" style=\"fill:none;fill-rule:evenodd;stroke:#000000;stroke-width:2px;stroke-linecap:butt;stroke-linejoin:miter;stroke-opacity:1\"/>\n",
       "<path d=\"M 133.498,225.185 147.612,232.943\" style=\"fill:none;fill-rule:evenodd;stroke:#000000;stroke-width:2px;stroke-linecap:butt;stroke-linejoin:miter;stroke-opacity:1\"/>\n",
       "<path d=\"M 147.612,232.943 161.726,240.702\" style=\"fill:none;fill-rule:evenodd;stroke:#0000FF;stroke-width:2px;stroke-linecap:butt;stroke-linejoin:miter;stroke-opacity:1\"/>\n",
       "<path d=\"M 124.689,187.635 87.7655,176.489\" style=\"fill:none;fill-rule:evenodd;stroke:#000000;stroke-width:2px;stroke-linecap:butt;stroke-linejoin:miter;stroke-opacity:1\"/>\n",
       "<path d=\"M 116.921,193.348 91.0749,185.546\" style=\"fill:none;fill-rule:evenodd;stroke:#000000;stroke-width:2px;stroke-linecap:butt;stroke-linejoin:miter;stroke-opacity:1\"/>\n",
       "<path d=\"M 87.7655,176.489 84.115,160.928\" style=\"fill:none;fill-rule:evenodd;stroke:#000000;stroke-width:2px;stroke-linecap:butt;stroke-linejoin:miter;stroke-opacity:1\"/>\n",
       "<path d=\"M 84.115,160.928 80.4645,145.367\" style=\"fill:none;fill-rule:evenodd;stroke:#00CC00;stroke-width:2px;stroke-linecap:butt;stroke-linejoin:miter;stroke-opacity:1\"/>\n",
       "<path d=\"M 172.869,241.142 187.532,234.241\" style=\"fill:none;fill-rule:evenodd;stroke:#0000FF;stroke-width:2px;stroke-linecap:butt;stroke-linejoin:miter;stroke-opacity:1\"/>\n",
       "<path d=\"M 187.532,234.241 202.196,227.341\" style=\"fill:none;fill-rule:evenodd;stroke:#000000;stroke-width:2px;stroke-linecap:butt;stroke-linejoin:miter;stroke-opacity:1\"/>\n",
       "<path d=\"M 166.072,250.192 163.072,265.922\" style=\"fill:none;fill-rule:evenodd;stroke:#0000FF;stroke-width:2px;stroke-linecap:butt;stroke-linejoin:miter;stroke-opacity:1\"/>\n",
       "<path d=\"M 163.072,265.922 160.072,281.651\" style=\"fill:none;fill-rule:evenodd;stroke:#000000;stroke-width:2px;stroke-linecap:butt;stroke-linejoin:miter;stroke-opacity:1\"/>\n",
       "<path d=\"M 206.039,227.663 207.382,211.66\" style=\"fill:none;fill-rule:evenodd;stroke:#000000;stroke-width:2px;stroke-linecap:butt;stroke-linejoin:miter;stroke-opacity:1\"/>\n",
       "<path d=\"M 207.382,211.66 208.725,195.657\" style=\"fill:none;fill-rule:evenodd;stroke:#FF0000;stroke-width:2px;stroke-linecap:butt;stroke-linejoin:miter;stroke-opacity:1\"/>\n",
       "<path d=\"M 198.352,227.018 199.695,211.015\" style=\"fill:none;fill-rule:evenodd;stroke:#000000;stroke-width:2px;stroke-linecap:butt;stroke-linejoin:miter;stroke-opacity:1\"/>\n",
       "<path d=\"M 199.695,211.015 201.038,195.012\" style=\"fill:none;fill-rule:evenodd;stroke:#FF0000;stroke-width:2px;stroke-linecap:butt;stroke-linejoin:miter;stroke-opacity:1\"/>\n",
       "<path d=\"M 202.196,227.341 213.407,235.132\" style=\"fill:none;fill-rule:evenodd;stroke:#000000;stroke-width:2px;stroke-linecap:butt;stroke-linejoin:miter;stroke-opacity:1\"/>\n",
       "<path d=\"M 213.407,235.132 224.618,242.923\" style=\"fill:none;fill-rule:evenodd;stroke:#0000FF;stroke-width:2px;stroke-linecap:butt;stroke-linejoin:miter;stroke-opacity:1\"/>\n",
       "<path d=\"M 245.011,244.107 256.888,238.517\" style=\"fill:none;fill-rule:evenodd;stroke:#0000FF;stroke-width:2px;stroke-linecap:butt;stroke-linejoin:miter;stroke-opacity:1\"/>\n",
       "<path d=\"M 256.888,238.517 268.766,232.928\" style=\"fill:none;fill-rule:evenodd;stroke:#000000;stroke-width:2px;stroke-linecap:butt;stroke-linejoin:miter;stroke-opacity:1\"/>\n",
       "<path d=\"M 268.766,232.928 300.438,254.938\" style=\"fill:none;fill-rule:evenodd;stroke:#000000;stroke-width:2px;stroke-linecap:butt;stroke-linejoin:miter;stroke-opacity:1\"/>\n",
       "<path d=\"M 277.918,229.895 300.089,245.302\" style=\"fill:none;fill-rule:evenodd;stroke:#000000;stroke-width:2px;stroke-linecap:butt;stroke-linejoin:miter;stroke-opacity:1\"/>\n",
       "<path d=\"M 268.766,232.928 271.991,194.493\" style=\"fill:none;fill-rule:evenodd;stroke:#000000;stroke-width:2px;stroke-linecap:butt;stroke-linejoin:miter;stroke-opacity:1\"/>\n",
       "<path d=\"M 300.438,254.938 335.336,238.514\" style=\"fill:none;fill-rule:evenodd;stroke:#000000;stroke-width:2px;stroke-linecap:butt;stroke-linejoin:miter;stroke-opacity:1\"/>\n",
       "<path d=\"M 335.336,238.514 338.561,200.08\" style=\"fill:none;fill-rule:evenodd;stroke:#000000;stroke-width:2px;stroke-linecap:butt;stroke-linejoin:miter;stroke-opacity:1\"/>\n",
       "<path d=\"M 328.133,232.104 330.39,205.2\" style=\"fill:none;fill-rule:evenodd;stroke:#000000;stroke-width:2px;stroke-linecap:butt;stroke-linejoin:miter;stroke-opacity:1\"/>\n",
       "<path d=\"M 338.561,200.08 353.008,193.281\" style=\"fill:none;fill-rule:evenodd;stroke:#000000;stroke-width:2px;stroke-linecap:butt;stroke-linejoin:miter;stroke-opacity:1\"/>\n",
       "<path d=\"M 353.008,193.281 367.455,186.482\" style=\"fill:none;fill-rule:evenodd;stroke:#FF0000;stroke-width:2px;stroke-linecap:butt;stroke-linejoin:miter;stroke-opacity:1\"/>\n",
       "<path d=\"M 338.561,200.08 325.511,191.011\" style=\"fill:none;fill-rule:evenodd;stroke:#000000;stroke-width:2px;stroke-linecap:butt;stroke-linejoin:miter;stroke-opacity:1\"/>\n",
       "<path d=\"M 325.511,191.011 312.461,181.942\" style=\"fill:none;fill-rule:evenodd;stroke:#0000FF;stroke-width:2px;stroke-linecap:butt;stroke-linejoin:miter;stroke-opacity:1\"/>\n",
       "<path d=\"M 379.463,187.829 392.297,196.748\" style=\"fill:none;fill-rule:evenodd;stroke:#FF0000;stroke-width:2px;stroke-linecap:butt;stroke-linejoin:miter;stroke-opacity:1\"/>\n",
       "<path d=\"M 392.297,196.748 405.131,205.667\" style=\"fill:none;fill-rule:evenodd;stroke:#000000;stroke-width:2px;stroke-linecap:butt;stroke-linejoin:miter;stroke-opacity:1\"/>\n",
       "<path d=\"M 405.131,205.667 401.906,244.101\" style=\"fill:none;fill-rule:evenodd;stroke:#000000;stroke-width:2px;stroke-linecap:butt;stroke-linejoin:miter;stroke-opacity:1\"/>\n",
       "<path d=\"M 412.334,212.077 410.076,238.981\" style=\"fill:none;fill-rule:evenodd;stroke:#000000;stroke-width:2px;stroke-linecap:butt;stroke-linejoin:miter;stroke-opacity:1\"/>\n",
       "<path d=\"M 405.131,205.667 440.029,189.243\" style=\"fill:none;fill-rule:evenodd;stroke:#000000;stroke-width:2px;stroke-linecap:butt;stroke-linejoin:miter;stroke-opacity:1\"/>\n",
       "<path d=\"M 401.906,244.101 433.578,266.112\" style=\"fill:none;fill-rule:evenodd;stroke:#000000;stroke-width:2px;stroke-linecap:butt;stroke-linejoin:miter;stroke-opacity:1\"/>\n",
       "<path d=\"M 433.578,266.112 468.475,249.688\" style=\"fill:none;fill-rule:evenodd;stroke:#000000;stroke-width:2px;stroke-linecap:butt;stroke-linejoin:miter;stroke-opacity:1\"/>\n",
       "<path d=\"M 435.528,256.669 459.956,245.172\" style=\"fill:none;fill-rule:evenodd;stroke:#000000;stroke-width:2px;stroke-linecap:butt;stroke-linejoin:miter;stroke-opacity:1\"/>\n",
       "<path d=\"M 468.475,249.688 469.819,233.685\" style=\"fill:none;fill-rule:evenodd;stroke:#000000;stroke-width:2px;stroke-linecap:butt;stroke-linejoin:miter;stroke-opacity:1\"/>\n",
       "<path d=\"M 469.819,233.685 471.162,217.682\" style=\"fill:none;fill-rule:evenodd;stroke:#0000FF;stroke-width:2px;stroke-linecap:butt;stroke-linejoin:miter;stroke-opacity:1\"/>\n",
       "<path d=\"M 466.129,207.382 453.079,198.313\" style=\"fill:none;fill-rule:evenodd;stroke:#0000FF;stroke-width:2px;stroke-linecap:butt;stroke-linejoin:miter;stroke-opacity:1\"/>\n",
       "<path d=\"M 453.079,198.313 440.029,189.243\" style=\"fill:none;fill-rule:evenodd;stroke:#000000;stroke-width:2px;stroke-linecap:butt;stroke-linejoin:miter;stroke-opacity:1\"/>\n",
       "<path d=\"M 457.812,210.996 448.677,204.647\" style=\"fill:none;fill-rule:evenodd;stroke:#0000FF;stroke-width:2px;stroke-linecap:butt;stroke-linejoin:miter;stroke-opacity:1\"/>\n",
       "<path d=\"M 448.677,204.647 439.542,198.299\" style=\"fill:none;fill-rule:evenodd;stroke:#000000;stroke-width:2px;stroke-linecap:butt;stroke-linejoin:miter;stroke-opacity:1\"/>\n",
       "<path d=\"M 440.029,189.243 443.254,150.809\" style=\"fill:none;fill-rule:evenodd;stroke:#000000;stroke-width:2px;stroke-linecap:butt;stroke-linejoin:miter;stroke-opacity:1\"/>\n",
       "<path d=\"M 301.317,180.692 286.654,187.593\" style=\"fill:none;fill-rule:evenodd;stroke:#0000FF;stroke-width:2px;stroke-linecap:butt;stroke-linejoin:miter;stroke-opacity:1\"/>\n",
       "<path d=\"M 286.654,187.593 271.991,194.493\" style=\"fill:none;fill-rule:evenodd;stroke:#000000;stroke-width:2px;stroke-linecap:butt;stroke-linejoin:miter;stroke-opacity:1\"/>\n",
       "<path d=\"M 300.203,189.742 289.939,194.572\" style=\"fill:none;fill-rule:evenodd;stroke:#0000FF;stroke-width:2px;stroke-linecap:butt;stroke-linejoin:miter;stroke-opacity:1\"/>\n",
       "<path d=\"M 289.939,194.572 279.675,199.403\" style=\"fill:none;fill-rule:evenodd;stroke:#000000;stroke-width:2px;stroke-linecap:butt;stroke-linejoin:miter;stroke-opacity:1\"/>\n",
       "<path d=\"M 160.072,281.651 121.807,286.487\" style=\"fill:none;fill-rule:evenodd;stroke:#000000;stroke-width:2px;stroke-linecap:butt;stroke-linejoin:miter;stroke-opacity:1\"/>\n",
       "<text style=\"font-size:12px;font-style:normal;font-weight:normal;fill-opacity:1;stroke:none;font-family:sans-serif;text-anchor:start;fill:#00CC00\" x=\"71.6716\" y=\"145.367\"><tspan>Cl</tspan></text>\n",
       "<text style=\"font-size:12px;font-style:normal;font-weight:normal;fill-opacity:1;stroke:none;font-family:sans-serif;text-anchor:start;fill:#0000FF\" x=\"161.726\" y=\"250.192\"><tspan>N</tspan></text>\n",
       "<text style=\"font-size:12px;font-style:normal;font-weight:normal;fill-opacity:1;stroke:none;font-family:sans-serif;text-anchor:start;fill:#FF0000\" x=\"199.417\" y=\"195.335\"><tspan>O</tspan></text>\n",
       "<text style=\"font-size:12px;font-style:normal;font-weight:normal;fill-opacity:1;stroke:none;font-family:sans-serif;text-anchor:start;fill:#0000FF\" x=\"222.724\" y=\"255.779\"><tspan>NH</tspan></text>\n",
       "<text style=\"font-size:12px;font-style:normal;font-weight:normal;fill-opacity:1;stroke:none;font-family:sans-serif;text-anchor:start;fill:#FF0000\" x=\"367.455\" y=\"190.085\"><tspan>O</tspan></text>\n",
       "<text style=\"font-size:12px;font-style:normal;font-weight:normal;fill-opacity:1;stroke:none;font-family:sans-serif;text-anchor:start;fill:#0000FF\" x=\"466.129\" y=\"217.682\"><tspan>N</tspan></text>\n",
       "<text style=\"font-size:12px;font-style:normal;font-weight:normal;fill-opacity:1;stroke:none;font-family:sans-serif;text-anchor:start;fill:#0000FF\" x=\"301.317\" y=\"184.498\"><tspan>N</tspan></text>\n",
       "<text style=\"font-size:12px;font-style:normal;font-weight:normal;fill-opacity:1;stroke:none;font-family:sans-serif;text-anchor:start;fill:#00CC00\" x=\"238.262\" y=\"119.655\"><tspan>ClH</tspan></text>\n",
       "<text style=\"font-size:12px;font-style:normal;font-weight:normal;fill-opacity:1;stroke:none;font-family:sans-serif;text-anchor:start;fill:#00CC00\" x=\"238.262\" y=\"93.9417\"><tspan>ClH</tspan></text>\n",
       "</svg>"
      ],
      "text/plain": [
       "<IPython.core.display.SVG object>"
      ]
     },
     "metadata": {},
     "output_type": "display_data"
    },
    {
     "data": {
      "text/plain": [
       "<function __main__.sv_visualize>"
      ]
     },
     "execution_count": 13,
     "metadata": {},
     "output_type": "execute_result"
    }
   ],
   "source": [
    "# interactive plot demo\n",
    "\n",
    "def sv_visualize(i, ratio):\n",
    "    return sv.visualize(saliency_vanilla[i], pyrigine_smiles[i], visualize_ratio=ratio)\n",
    "\n",
    "interact(sv_visualize, i=(0, len(saliency_vanilla) - 1, 1), ratio=(0, 1.0, 0.1))"
   ]
  },
  {
   "cell_type": "code",
   "execution_count": null,
   "metadata": {
    "collapsed": true
   },
   "outputs": [],
   "source": []
  },
  {
   "cell_type": "code",
   "execution_count": 14,
   "metadata": {
    "collapsed": false
   },
   "outputs": [],
   "source": [
    "# --- SmoothGrad ---\n",
    "saliency_arrays_smooth = gradient_calculator.compute_smooth(\n",
    "    pyrigine_dataset, converter=concat_mols, preprocess_fn=preprocess_fun,\n",
    "    M=M, mode='absolute', scale=0.1)"
   ]
  },
  {
   "cell_type": "code",
   "execution_count": 15,
   "metadata": {
    "collapsed": false
   },
   "outputs": [],
   "source": [
    "# --- BayesGrad ---\n",
    "# `train=True` enables dropout, which corresponds to BayesGrad\n",
    "saliency_arrays_bayes = gradient_calculator.compute_vanilla(\n",
    "    pyrigine_dataset, converter=concat_mols, preprocess_fn=preprocess_fun,\n",
    "    M=M, train=True)"
   ]
  },
  {
   "cell_type": "code",
   "execution_count": 24,
   "metadata": {
    "collapsed": false
   },
   "outputs": [
    {
     "name": "stdout",
     "output_type": "stream",
     "text": [
      "saving png to results/visualize/pyridine/10_vanilla.png\n",
      "saving png to results/visualize/pyridine/10_smooth.png\n",
      "saving png to results/visualize/pyridine/10_bayes.png\n"
     ]
    }
   ],
   "source": [
    "# Multiple plot demo\n",
    "from IPython.display import display, HTML\n",
    "\n",
    "def sv_visualize(i, ratio, lam, method, view):\n",
    "    saliency_vanilla = gradient_calculator.transform(\n",
    "        saliency_arrays_vanilla, ch_axis=3, method=method, lam=0)\n",
    "    saliency_smooth = gradient_calculator.transform(\n",
    "        saliency_arrays_smooth, ch_axis=3, method=method, lam=lam)\n",
    "    saliency_bayes = gradient_calculator.transform(\n",
    "        saliency_arrays_bayes, ch_axis=3, method=method, lam=lam)\n",
    "    \n",
    "    if view == 'view':\n",
    "        svg_vanilla = sv.visualize(saliency_vanilla[i], pyrigine_smiles[i], visualize_ratio=ratio)\n",
    "        svg_smooth = sv.visualize(saliency_smooth[i], pyrigine_smiles[i], visualize_ratio=ratio)\n",
    "        svg_bayes = sv.visualize(saliency_bayes[i], pyrigine_smiles[i], visualize_ratio=ratio)\n",
    "        display(svg_vanilla, svg_smooth, svg_bayes)\n",
    "    elif view == 'save':\n",
    "        os.makedirs('results/visualize/pyridine', exist_ok=True)\n",
    "        sv.visualize(saliency_vanilla[i], pyrigine_smiles[i], visualize_ratio=ratio, save_filepath='results/visualize/pyridine/{}_vanilla.png'.format(i))\n",
    "        sv.visualize(saliency_smooth[i], pyrigine_smiles[i], visualize_ratio=ratio, save_filepath='results/visualize/pyridine/{}_smooth.png'.format(i))\n",
    "        sv.visualize(saliency_bayes[i], pyrigine_smiles[i], visualize_ratio=ratio, save_filepath='results/visualize/pyridine/{}_bayes.png'.format(i))\n",
    "    else:\n",
    "        print(view, 'not supported')\n",
    "\n",
    "interact(sv_visualize, i=(0, len(saliency_vanilla) - 1, 1), ratio=(0, 1.0, 0.1), lam=(-3.0, 3.1, 0.1), method=['square', 'abs', 'raw'], view=['view', 'save'])"
   ]
  },
  {
   "cell_type": "code",
   "execution_count": 17,
   "metadata": {
    "collapsed": false
   },
   "outputs": [
    {
     "data": {
      "text/plain": [
       "27"
      ]
     },
     "execution_count": 17,
     "metadata": {},
     "output_type": "execute_result"
    }
   ],
   "source": [
    "i = 0\n",
    "mol = Chem.MolFromSmiles(pyrigine_smiles[i])\n",
    "mol.GetNumAtoms()"
   ]
  },
  {
   "cell_type": "code",
   "execution_count": null,
   "metadata": {
    "collapsed": true
   },
   "outputs": [],
   "source": []
  },
  {
   "cell_type": "code",
   "execution_count": null,
   "metadata": {
    "collapsed": true
   },
   "outputs": [],
   "source": []
  },
  {
   "cell_type": "markdown",
   "metadata": {},
   "source": [
    "## Appendix: GetSubstructMatch & GetSubstructMatches comparison\n",
    "\n",
    "\n",
    " - GetSubstructMatch only extracts one substructure.\n",
    " - GetSubstructMatches extracts all substructure."
   ]
  },
  {
   "cell_type": "code",
   "execution_count": 18,
   "metadata": {
    "collapsed": false
   },
   "outputs": [],
   "source": [
    "\n",
    "#Draw.MolToFile(mol, 'comp.png', highlightAtoms=match_list)\n",
    "\n",
    "\n",
    "i = 12\n",
    "\n",
    "mol = Chem.MolFromSmiles(pyrigine_smiles[i])\n",
    "\n",
    "py = Chem.MolFromSmarts(PYRIDINE_SMILES)\n",
    "py_match = mol.GetSubstructMatch(py)\n",
    "py_matches = mol.GetSubstructMatches(py)\n"
   ]
  },
  {
   "cell_type": "code",
   "execution_count": 19,
   "metadata": {
    "collapsed": false
   },
   "outputs": [
    {
     "name": "stdout",
     "output_type": "stream",
     "text": [
      "py_match <class 'tuple'> (11, 10, 15, 14, 13, 12) {10, 11, 12, 13, 14, 15}\n",
      "py_matches <class 'tuple'> ((11, 10, 15, 14, 13, 12), (23, 22, 27, 26, 25, 24))\n"
     ]
    }
   ],
   "source": [
    "print('py_match', type(py_match), py_match, set(py_match))\n",
    "print('py_matches', type(py_matches), py_matches)"
   ]
  },
  {
   "cell_type": "code",
   "execution_count": 20,
   "metadata": {
    "collapsed": false
   },
   "outputs": [
    {
     "name": "stdout",
     "output_type": "stream",
     "text": [
      "[11, 10, 15, 14, 13, 12, 23, 22, 27, 26, 25, 24]\n"
     ]
    }
   ],
   "source": [
    "def flatten_tuple(x):\n",
    "    return [element for tupl in x for element in tupl]\n",
    "\n",
    "py_indices = flatten_tuple(py_matches)\n",
    "print(py_indices)"
   ]
  },
  {
   "cell_type": "code",
   "execution_count": 21,
   "metadata": {
    "collapsed": false
   },
   "outputs": [
    {
     "data": {
      "image/png": "[encoded data removed]",
      "text/plain": [
       "<PIL.Image.Image image mode=RGBA size=600x600 at 0x2B53DAF27AC8>"
      ]
     },
     "execution_count": 21,
     "metadata": {},
     "output_type": "execute_result"
    }
   ],
   "source": [
    "Chem.SanitizeMol(mol)\n",
    "Draw.MolToImage(mol, size=(600, 600), highlightAtoms=set(py_match))\n"
   ]
  },
  {
   "cell_type": "code",
   "execution_count": 22,
   "metadata": {
    "collapsed": false
   },
   "outputs": [
    {
     "data": {
      "image/png": "[encoded data removed]",
      "text/plain": [
       "<PIL.Image.Image image mode=RGBA size=600x600 at 0x2B53DAF27470>"
      ]
     },
     "execution_count": 22,
     "metadata": {},
     "output_type": "execute_result"
    }
   ],
   "source": [
    "Chem.SanitizeMol(mol)\n",
    "Draw.MolToImage(mol, size=(600, 600), highlightAtoms=py_indices)\n"
   ]
  },
  {
   "cell_type": "code",
   "execution_count": 23,
   "metadata": {
    "collapsed": false
   },
   "outputs": [
    {
     "name": "stdout",
     "output_type": "stream",
     "text": [
      "28 28\n"
     ]
    }
   ],
   "source": [
    "print(len(pyrigine_smiles), len(haspiindex))"
   ]
  },
  {
   "cell_type": "code",
   "execution_count": null,
   "metadata": {
    "collapsed": true
   },
   "outputs": [],
   "source": []
  }
 ],
 "metadata": {
  "anaconda-cloud": {},
  "kernelspec": {
   "display_name": "Python [default]",
   "language": "python",
   "name": "python3"
  },
  "language_info": {
   "codemirror_mode": {
    "name": "ipython",
    "version": 3
   },
   "file_extension": ".py",
   "mimetype": "text/x-python",
   "name": "python",
   "nbconvert_exporter": "python",
   "pygments_lexer": "ipython3",
   "version": "3.5.2"
  },
  "widgets": {
   "state": {
    "15b5605a005d4206a10c6c97eedf71c3": {
     "views": [
      {
       "cell_index": 19.0
      }
     ]
    },
    "31d3c405a6594e81b3268b71cb096a3c": {
     "views": [
      {
       "cell_index": 18.0
      }
     ]
    },
    "9957ab016ae641cd84137830662ee790": {
     "views": [
      {
       "cell_index": 6.0
      }
     ]
    },
    "d9a339a3a4e6483a8b67635c44505344": {
     "views": [
      {
       "cell_index": 4.0
      }
     ]
    }
   },
   "version": "1.2.0"
  }
 },
 "nbformat": 4,
 "nbformat_minor": 2
}
