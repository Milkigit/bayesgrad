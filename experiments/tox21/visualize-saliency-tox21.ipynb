{
 "cells": [
  {
   "cell_type": "code",
   "execution_count": 1,
   "metadata": {
    "collapsed": false
   },
   "outputs": [],
   "source": [
    "#from load import *\n",
    "%load_ext autoreload\n",
    "%autoreload 2\n",
    "import pickle\n",
    "from chainer.datasets import TupleDataset\n",
    "from chainer.dataset import concat_examples\n",
    "from chainer import functions as F, cuda\n",
    "from chainer import iterators as I\n",
    "from chainer import links as L\n",
    "from chainer import optimizers as O\n",
    "from chainer import training\n",
    "from ipywidgets import interact\n",
    "import chainer\n",
    "import cupy\n",
    "from tqdm import tqdm_notebook as tqdm\n",
    "from chainer import serializers\n",
    "\n",
    "\n",
    "from chainer_chemistry.datasets import NumpyTupleDataset\n",
    "from chainer_chemistry.dataset.converters import concat_mols\n",
    "\n",
    "import numpy\n",
    "import numpy as np\n",
    "\n",
    "from rdkit import RDLogger\n",
    "from rdkit import Chem\n",
    "from rdkit.Chem import rdchem\n",
    "from rdkit.Chem import rdDepictor\n",
    "from rdkit.Chem.Draw import rdMolDraw2D\n",
    "from rdkit.Chem.Draw import IPythonConsole\n",
    "from IPython.display import SVG\n",
    "from rdkit.Chem import Draw\n",
    "from rdkit import rdBase"
   ]
  },
  {
   "cell_type": "code",
   "execution_count": 2,
   "metadata": {
    "collapsed": false
   },
   "outputs": [],
   "source": [
    "import sys\n",
    "import os\n",
    "\n",
    "sys.path.append(os.path.dirname(os.path.dirname(os.path.dirname(os.path.abspath('__file__')))))\n",
    "from saliency.calculator.gradient_calculator import GradientCalculator\n",
    "from models import predictor\n",
    "\n",
    "sys.path.append(os.path.dirname(os.path.abspath('__file__')))\n",
    "import data\n"
   ]
  },
  {
   "cell_type": "code",
   "execution_count": 3,
   "metadata": {
    "collapsed": false
   },
   "outputs": [],
   "source": [
    "import logging\n",
    "\n",
    "# Disable errors by RDKit occurred in preprocessing Tox21 dataset.\n",
    "lg = RDLogger.logger()\n",
    "lg.setLevel(RDLogger.CRITICAL)\n",
    "# show INFO level log from chainer chemistry\n",
    "logging.basicConfig(level=logging.INFO)\n"
   ]
  },
  {
   "cell_type": "code",
   "execution_count": 4,
   "metadata": {
    "collapsed": false
   },
   "outputs": [],
   "source": [
    "import json\n",
    "\n",
    "# training result directory\n",
    "dirpath = './results/nfpdrop_srmmp'\n",
    "\n",
    "json_path = os.path.join(dirpath, 'args.json')\n",
    "if not os.path.exists(json_path):\n",
    "    raise ValueError(\n",
    "        'json_path {} not found! Execute train_tox21.py beforehand.'.format(json_path))\n",
    "with open(json_path, 'r') as f:\n",
    "    train_args = json.load(f)\n",
    "\n",
    "method = train_args['method']\n",
    "labels = train_args['label']  # 'pyridine'\n",
    "\n",
    "unit_num = train_args['unit_num']\n",
    "conv_layers = train_args['conv_layers']\n",
    "class_num = 1\n",
    "n_layers = train_args['n_layers']\n",
    "dropout_ratio = train_args['dropout_ratio']\n",
    "num_train = train_args['num_train']\n",
    "\n",
    "model_path = os.path.join(dirpath, 'predictor.npz')\n"
   ]
  },
  {
   "cell_type": "code",
   "execution_count": 5,
   "metadata": {
    "collapsed": false
   },
   "outputs": [
    {
     "name": "stdout",
     "output_type": "stream",
     "text": [
      "\n",
      "load from cache input/nfp_SR-MMP\n",
      "\n"
     ]
    }
   ],
   "source": [
    "# Pyridine Dataset preparation\n",
    "train, val, test, train_smiles, val_smiles, test_smiles = data.load_dataset(method, labels)\n",
    "val_mols = [Chem.MolFromSmiles(smi) for smi in tqdm(val_smiles)]"
   ]
  },
  {
   "cell_type": "code",
   "execution_count": 6,
   "metadata": {
    "collapsed": false
   },
   "outputs": [],
   "source": [
    "visualize_only_positive = True\n",
    "if visualize_only_positive:\n",
    "    # visualize all only label=1\n",
    "    pos_index = val.features[:, -1][:, 0] == 1\n",
    "    # print('pos_index', pos_index.shape, pos_index)\n",
    "    target_dataset = NumpyTupleDataset(*val.features[pos_index, :])\n",
    "    target_smiles = val_smiles[pos_index]\n",
    "else:\n",
    "    # visualize all validation data\n",
    "    target_dataset = val\n",
    "    target_smiles = val_smiles"
   ]
  },
  {
   "cell_type": "code",
   "execution_count": 7,
   "metadata": {
    "collapsed": false
   },
   "outputs": [
    {
     "name": "stdout",
     "output_type": "stream",
     "text": [
      "dropout_ratio, n_layers 0.25 1\n",
      "Use NFPDrop predictor...\n"
     ]
    }
   ],
   "source": [
    "# --- model preparation ---\n",
    "\n",
    "model = predictor.build_predictor(\n",
    "    method, unit_num, conv_layers, class_num, dropout_ratio, n_layers)\n",
    "\n",
    "classifier = L.Classifier(model,\n",
    "                          lossfun=F.sigmoid_cross_entropy,\n",
    "                          accfun=F.binary_accuracy)\n",
    "\n",
    "serializers.load_npz(model_path, model)"
   ]
  },
  {
   "cell_type": "code",
   "execution_count": 8,
   "metadata": {
    "collapsed": false
   },
   "outputs": [],
   "source": [
    "def clip_original_size(saliency, num_atoms):\n",
    "    \"\"\"`saliency` array is 0 padded, this method align to have original\n",
    "    molecule's length\n",
    "    \"\"\"\n",
    "    assert len(saliency) == len(num_atoms)\n",
    "    saliency_list = []\n",
    "    for i in range(len(saliency)):\n",
    "        saliency_list.append(saliency[i, :num_atoms[i]])\n",
    "    return saliency_list\n",
    "\n",
    "def preprocess_fun(*inputs):\n",
    "    if len(inputs) == 3:\n",
    "        atom, adj, t = inputs\n",
    "    elif len(inputs) == 2:\n",
    "        atom, adj = inputs\n",
    "    # HACKING for now...\n",
    "    # classifier.predictor.pick = True\n",
    "    # result = classifier.predictor(atom, adj)\n",
    "    atom_embed = classifier.predictor.graph_conv.embed(atom)\n",
    "    if len(inputs) == 3:\n",
    "        return atom_embed, adj, t\n",
    "    elif len(inputs) == 2:\n",
    "        return atom_embed, adj\n",
    "    \n",
    "\n",
    "def eval_fun(*inputs):\n",
    "    #atom_embed, adj, t = inputs\n",
    "    if len(inputs) == 3:\n",
    "        atom_embed, adj, t = inputs\n",
    "    elif len(inputs) == 2:\n",
    "        atom_embed, adj = inputs\n",
    "    prob = classifier.predictor(atom_embed, adj)\n",
    "    # print('embed', atom_embed.shape, 'prob', prob.shape)\n",
    "    out = F.sum(prob)\n",
    "    # return {'embed': atom_embed, 'out': out}\n",
    "    return out\n"
   ]
  },
  {
   "cell_type": "markdown",
   "metadata": {},
   "source": [
    "## Saliency calculation & visualization\n",
    "\n",
    "You can calculate saliency and visualize it in following steps:\n",
    "\n",
    "1. Instantiate Saliency Calculator\n",
    "2. `compute_xxx` (xxx is vanilla/smooth/bayes) method to calculate saliency (gradient etc)\n",
    "3. `transform` method to convert saliency into visualizable format.\n",
    "4. Use Visualizer class to visualize it."
   ]
  },
  {
   "cell_type": "code",
   "execution_count": 9,
   "metadata": {
    "collapsed": false
   },
   "outputs": [],
   "source": [
    "# 1. instantiation\n",
    "gradient_calculator = GradientCalculator(\n",
    "    classifier, eval_fun=eval_fun,\n",
    "    # target_key='embed', eval_key='out',\n",
    "    target_key=0,\n",
    ")"
   ]
  },
  {
   "cell_type": "code",
   "execution_count": 10,
   "metadata": {
    "collapsed": false
   },
   "outputs": [
    {
     "name": "stdout",
     "output_type": "stream",
     "text": [
      "saliency_arrays (1, 38, 41, 16)\n",
      "saliency (38, 41)\n"
     ]
    }
   ],
   "source": [
    "M = 40\n",
    "rates = np.array(list(range(1, 11))) * 0.1\n",
    "\n",
    "# --- VanillaGrad ---\n",
    "# 2. compute\n",
    "saliency_arrays_vanilla = gradient_calculator.compute_vanilla(\n",
    "    target_dataset, converter=concat_mols, preprocess_fn=preprocess_fun)\n",
    "# 3. transform\n",
    "saliency_vanilla = gradient_calculator.transform(\n",
    "    saliency_arrays_vanilla, ch_axis=3, method='square')\n",
    "# saliency_arrays (1, 28, 43, 64) -> M, minibatch, max_atom, ch_dim\n",
    "print('saliency_arrays', saliency_arrays_vanilla.shape)\n",
    "# saliency (28, 43) -> minibatch, max_atom\n",
    "print('saliency', saliency_vanilla.shape)"
   ]
  },
  {
   "cell_type": "code",
   "execution_count": 11,
   "metadata": {
    "collapsed": false
   },
   "outputs": [
    {
     "data": {
      "image/svg+xml": [
       "<svg baseProfile=\"full\" height=\"375px\" version=\"1.1\" width=\"500px\" xml:space=\"preserve\" xmlns:rdkit=\"http://www.rdkit.org/xml\" xmlns:svg=\"http://www.w3.org/2000/svg\" xmlns:xlink=\"http://www.w3.org/1999/xlink\">\n",
       "<rect height=\"375\" style=\"opacity:1.0;fill:#FFFFFF;stroke:none\" width=\"500\" x=\"0\" y=\"0\"> </rect>\n",
       "<path d=\"M 141.703,212.743 110.575,275.3\" style=\"fill:none;fill-rule:evenodd;stroke:#FFA6A6;stroke-width:16px;stroke-linecap:butt;stroke-linejoin:miter;stroke-opacity:1\"/>\n",
       "<path d=\"M 110.575,275.3 79.448,337.856\" style=\"fill:none;fill-rule:evenodd;stroke:#FFA6A6;stroke-width:16px;stroke-linecap:butt;stroke-linejoin:miter;stroke-opacity:1\"/>\n",
       "<path d=\"M 110.575,275.3 48.0188,244.172\" style=\"fill:none;fill-rule:evenodd;stroke:#FFFFFF;stroke-width:16px;stroke-linecap:butt;stroke-linejoin:miter;stroke-opacity:1\"/>\n",
       "<path d=\"M 110.575,275.3 173.132,306.427\" style=\"fill:none;fill-rule:evenodd;stroke:#FFFFFF;stroke-width:16px;stroke-linecap:butt;stroke-linejoin:miter;stroke-opacity:1\"/>\n",
       "<path d=\"M 48.0188,244.172 43.6976,174.433\" style=\"fill:none;fill-rule:evenodd;stroke:#FFFFFF;stroke-width:16px;stroke-linecap:butt;stroke-linejoin:miter;stroke-opacity:1\"/>\n",
       "<path d=\"M 173.132,306.427 231.367,267.815\" style=\"fill:none;fill-rule:evenodd;stroke:#FFFFFF;stroke-width:16px;stroke-linecap:butt;stroke-linejoin:miter;stroke-opacity:1\"/>\n",
       "<path d=\"M 231.367,267.815 227.046,198.076\" style=\"fill:none;fill-rule:evenodd;stroke:#FFFFFF;stroke-width:16px;stroke-linecap:butt;stroke-linejoin:miter;stroke-opacity:1\"/>\n",
       "<path d=\"M 231.367,267.815 293.924,298.943\" style=\"fill:none;fill-rule:evenodd;stroke:#FFFFFF;stroke-width:16px;stroke-linecap:butt;stroke-linejoin:miter;stroke-opacity:1\"/>\n",
       "<path d=\"M 227.046,198.076 285.282,159.464\" style=\"fill:none;fill-rule:evenodd;stroke:#FFFFFF;stroke-width:16px;stroke-linecap:butt;stroke-linejoin:miter;stroke-opacity:1\"/>\n",
       "<path d=\"M 285.282,159.464 280.961,89.7246\" style=\"fill:none;fill-rule:evenodd;stroke:#FF8A8A;stroke-width:16px;stroke-linecap:butt;stroke-linejoin:miter;stroke-opacity:1\"/>\n",
       "<path d=\"M 285.282,159.464 347.838,190.591\" style=\"fill:none;fill-rule:evenodd;stroke:#FF0000;stroke-width:16px;stroke-linecap:butt;stroke-linejoin:miter;stroke-opacity:1\"/>\n",
       "<path d=\"M 280.961,89.7246 350.7,85.4034\" style=\"fill:none;fill-rule:evenodd;stroke:#FFFFFF;stroke-width:16px;stroke-linecap:butt;stroke-linejoin:miter;stroke-opacity:1\"/>\n",
       "<path d=\"M 280.961,89.7246 211.221,94.0458\" style=\"fill:none;fill-rule:evenodd;stroke:#FFFFFF;stroke-width:16px;stroke-linecap:butt;stroke-linejoin:miter;stroke-opacity:1\"/>\n",
       "<path d=\"M 280.961,89.7246 276.639,19.9853\" style=\"fill:none;fill-rule:evenodd;stroke:#FFFFFF;stroke-width:16px;stroke-linecap:butt;stroke-linejoin:miter;stroke-opacity:1\"/>\n",
       "<path d=\"M 347.838,190.591 406.074,151.979\" style=\"fill:none;fill-rule:evenodd;stroke:#FFFFFF;stroke-width:16px;stroke-linecap:butt;stroke-linejoin:miter;stroke-opacity:1\"/>\n",
       "<path d=\"M 347.838,190.591 352.159,260.331\" style=\"fill:none;fill-rule:evenodd;stroke:#FF0000;stroke-width:16px;stroke-linecap:butt;stroke-linejoin:miter;stroke-opacity:1\"/>\n",
       "<path d=\"M 352.159,260.331 414.716,291.458\" style=\"fill:none;fill-rule:evenodd;stroke:#FF8A8A;stroke-width:16px;stroke-linecap:butt;stroke-linejoin:miter;stroke-opacity:1\"/>\n",
       "<path d=\"M 352.159,260.331 293.924,298.943\" style=\"fill:none;fill-rule:evenodd;stroke:#FFFFFF;stroke-width:16px;stroke-linecap:butt;stroke-linejoin:miter;stroke-opacity:1\"/>\n",
       "<path d=\"M 414.716,291.458 383.589,354.015\" style=\"fill:none;fill-rule:evenodd;stroke:#FFFFFF;stroke-width:16px;stroke-linecap:butt;stroke-linejoin:miter;stroke-opacity:1\"/>\n",
       "<path d=\"M 414.716,291.458 445.844,228.901\" style=\"fill:none;fill-rule:evenodd;stroke:#FFFFFF;stroke-width:16px;stroke-linecap:butt;stroke-linejoin:miter;stroke-opacity:1\"/>\n",
       "<path d=\"M 414.716,291.458 477.273,322.585\" style=\"fill:none;fill-rule:evenodd;stroke:#FFFFFF;stroke-width:16px;stroke-linecap:butt;stroke-linejoin:miter;stroke-opacity:1\"/>\n",
       "<ellipse cx=\"141.703\" cy=\"212.743\" rx=\"18.6328\" ry=\"18.6328\" style=\"fill:#FFBFBF;fill-rule:evenodd;stroke:#FFBFBF;stroke-width:1px;stroke-linecap:butt;stroke-linejoin:miter;stroke-opacity:1\"/>\n",
       "<ellipse cx=\"110.575\" cy=\"275.3\" rx=\"18.6328\" ry=\"18.6328\" style=\"fill:#FF8E8E;fill-rule:evenodd;stroke:#FF8E8E;stroke-width:1px;stroke-linecap:butt;stroke-linejoin:miter;stroke-opacity:1\"/>\n",
       "<ellipse cx=\"79.448\" cy=\"337.856\" rx=\"18.6328\" ry=\"18.6328\" style=\"fill:#FFBFBF;fill-rule:evenodd;stroke:#FFBFBF;stroke-width:1px;stroke-linecap:butt;stroke-linejoin:miter;stroke-opacity:1\"/>\n",
       "<ellipse cx=\"285.282\" cy=\"159.464\" rx=\"18.6328\" ry=\"18.6328\" style=\"fill:#FF8686;fill-rule:evenodd;stroke:#FF8686;stroke-width:1px;stroke-linecap:butt;stroke-linejoin:miter;stroke-opacity:1\"/>\n",
       "<ellipse cx=\"280.961\" cy=\"89.7246\" rx=\"18.6328\" ry=\"18.6328\" style=\"fill:#FF8D8D;fill-rule:evenodd;stroke:#FF8D8D;stroke-width:1px;stroke-linecap:butt;stroke-linejoin:miter;stroke-opacity:1\"/>\n",
       "<ellipse cx=\"347.838\" cy=\"190.591\" rx=\"18.6328\" ry=\"18.6328\" style=\"fill:#FF0000;fill-rule:evenodd;stroke:#FF0000;stroke-width:1px;stroke-linecap:butt;stroke-linejoin:miter;stroke-opacity:1\"/>\n",
       "<ellipse cx=\"352.159\" cy=\"260.331\" rx=\"18.6328\" ry=\"18.6328\" style=\"fill:#FF8686;fill-rule:evenodd;stroke:#FF8686;stroke-width:1px;stroke-linecap:butt;stroke-linejoin:miter;stroke-opacity:1\"/>\n",
       "<ellipse cx=\"414.716\" cy=\"291.458\" rx=\"18.6328\" ry=\"18.6328\" style=\"fill:#FF8D8D;fill-rule:evenodd;stroke:#FF8D8D;stroke-width:1px;stroke-linecap:butt;stroke-linejoin:miter;stroke-opacity:1\"/>\n",
       "<path d=\"M 141.703,212.743 110.575,275.3\" style=\"fill:none;fill-rule:evenodd;stroke:#000000;stroke-width:2px;stroke-linecap:butt;stroke-linejoin:miter;stroke-opacity:1\"/>\n",
       "<path d=\"M 110.575,275.3 79.448,337.856\" style=\"fill:none;fill-rule:evenodd;stroke:#000000;stroke-width:2px;stroke-linecap:butt;stroke-linejoin:miter;stroke-opacity:1\"/>\n",
       "<path d=\"M 110.575,275.3 48.0188,244.172\" style=\"fill:none;fill-rule:evenodd;stroke:#000000;stroke-width:2px;stroke-linecap:butt;stroke-linejoin:miter;stroke-opacity:1\"/>\n",
       "<path d=\"M 110.575,275.3 173.132,306.427\" style=\"fill:none;fill-rule:evenodd;stroke:#000000;stroke-width:2px;stroke-linecap:butt;stroke-linejoin:miter;stroke-opacity:1\"/>\n",
       "<path d=\"M 48.0188,244.172 46.0905,213.053\" style=\"fill:none;fill-rule:evenodd;stroke:#000000;stroke-width:2px;stroke-linecap:butt;stroke-linejoin:miter;stroke-opacity:1\"/>\n",
       "<path d=\"M 46.0905,213.053 44.1623,181.933\" style=\"fill:none;fill-rule:evenodd;stroke:#FF0000;stroke-width:2px;stroke-linecap:butt;stroke-linejoin:miter;stroke-opacity:1\"/>\n",
       "<path d=\"M 173.132,306.427 231.367,267.815\" style=\"fill:none;fill-rule:evenodd;stroke:#000000;stroke-width:2px;stroke-linecap:butt;stroke-linejoin:miter;stroke-opacity:1\"/>\n",
       "<path d=\"M 231.367,267.815 227.046,198.076\" style=\"fill:none;fill-rule:evenodd;stroke:#000000;stroke-width:2px;stroke-linecap:butt;stroke-linejoin:miter;stroke-opacity:1\"/>\n",
       "<path d=\"M 244.667,256.49 241.642,207.673\" style=\"fill:none;fill-rule:evenodd;stroke:#000000;stroke-width:2px;stroke-linecap:butt;stroke-linejoin:miter;stroke-opacity:1\"/>\n",
       "<path d=\"M 231.367,267.815 293.924,298.943\" style=\"fill:none;fill-rule:evenodd;stroke:#000000;stroke-width:2px;stroke-linecap:butt;stroke-linejoin:miter;stroke-opacity:1\"/>\n",
       "<path d=\"M 227.046,198.076 285.282,159.464\" style=\"fill:none;fill-rule:evenodd;stroke:#000000;stroke-width:2px;stroke-linecap:butt;stroke-linejoin:miter;stroke-opacity:1\"/>\n",
       "<path d=\"M 285.282,159.464 280.961,89.7246\" style=\"fill:none;fill-rule:evenodd;stroke:#000000;stroke-width:2px;stroke-linecap:butt;stroke-linejoin:miter;stroke-opacity:1\"/>\n",
       "<path d=\"M 285.282,159.464 347.838,190.591\" style=\"fill:none;fill-rule:evenodd;stroke:#000000;stroke-width:2px;stroke-linecap:butt;stroke-linejoin:miter;stroke-opacity:1\"/>\n",
       "<path d=\"M 288.44,176.644 332.229,198.434\" style=\"fill:none;fill-rule:evenodd;stroke:#000000;stroke-width:2px;stroke-linecap:butt;stroke-linejoin:miter;stroke-opacity:1\"/>\n",
       "<path d=\"M 280.961,89.7246 350.7,85.4034\" style=\"fill:none;fill-rule:evenodd;stroke:#000000;stroke-width:2px;stroke-linecap:butt;stroke-linejoin:miter;stroke-opacity:1\"/>\n",
       "<path d=\"M 280.961,89.7246 211.221,94.0458\" style=\"fill:none;fill-rule:evenodd;stroke:#000000;stroke-width:2px;stroke-linecap:butt;stroke-linejoin:miter;stroke-opacity:1\"/>\n",
       "<path d=\"M 280.961,89.7246 276.639,19.9853\" style=\"fill:none;fill-rule:evenodd;stroke:#000000;stroke-width:2px;stroke-linecap:butt;stroke-linejoin:miter;stroke-opacity:1\"/>\n",
       "<path d=\"M 347.838,190.591 371.3,175.035\" style=\"fill:none;fill-rule:evenodd;stroke:#000000;stroke-width:2px;stroke-linecap:butt;stroke-linejoin:miter;stroke-opacity:1\"/>\n",
       "<path d=\"M 371.3,175.035 394.762,159.479\" style=\"fill:none;fill-rule:evenodd;stroke:#FF0000;stroke-width:2px;stroke-linecap:butt;stroke-linejoin:miter;stroke-opacity:1\"/>\n",
       "<path d=\"M 347.838,190.591 352.159,260.331\" style=\"fill:none;fill-rule:evenodd;stroke:#000000;stroke-width:2px;stroke-linecap:butt;stroke-linejoin:miter;stroke-opacity:1\"/>\n",
       "<path d=\"M 352.159,260.331 414.716,291.458\" style=\"fill:none;fill-rule:evenodd;stroke:#000000;stroke-width:2px;stroke-linecap:butt;stroke-linejoin:miter;stroke-opacity:1\"/>\n",
       "<path d=\"M 352.159,260.331 293.924,298.943\" style=\"fill:none;fill-rule:evenodd;stroke:#000000;stroke-width:2px;stroke-linecap:butt;stroke-linejoin:miter;stroke-opacity:1\"/>\n",
       "<path d=\"M 335.702,254.475 294.937,281.504\" style=\"fill:none;fill-rule:evenodd;stroke:#000000;stroke-width:2px;stroke-linecap:butt;stroke-linejoin:miter;stroke-opacity:1\"/>\n",
       "<path d=\"M 414.716,291.458 383.589,354.015\" style=\"fill:none;fill-rule:evenodd;stroke:#000000;stroke-width:2px;stroke-linecap:butt;stroke-linejoin:miter;stroke-opacity:1\"/>\n",
       "<path d=\"M 414.716,291.458 445.844,228.901\" style=\"fill:none;fill-rule:evenodd;stroke:#000000;stroke-width:2px;stroke-linecap:butt;stroke-linejoin:miter;stroke-opacity:1\"/>\n",
       "<path d=\"M 414.716,291.458 477.273,322.585\" style=\"fill:none;fill-rule:evenodd;stroke:#000000;stroke-width:2px;stroke-linecap:butt;stroke-linejoin:miter;stroke-opacity:1\"/>\n",
       "<text style=\"font-size:15px;font-style:normal;font-weight:normal;fill-opacity:1;stroke:none;font-family:sans-serif;text-anchor:start;fill:#FF0000\" x=\"30.1922\" y=\"181.933\"><tspan>OH</tspan></text>\n",
       "<text style=\"font-size:15px;font-style:normal;font-weight:normal;fill-opacity:1;stroke:none;font-family:sans-serif;text-anchor:start;fill:#FF0000\" x=\"392.568\" y=\"159.479\"><tspan>OH</tspan></text>\n",
       "</svg>"
      ],
      "text/plain": [
       "<IPython.core.display.SVG object>"
      ]
     },
     "execution_count": 11,
     "metadata": {},
     "output_type": "execute_result"
    }
   ],
   "source": [
    "from saliency.visualizer.smiles_visualizer import SmilesVisualizer\n",
    "\n",
    "sv = SmilesVisualizer()\n",
    "# 4. visualize\n",
    "index = 2\n",
    "sv.visualize(saliency_vanilla[index], target_smiles[index], visualize_ratio=0.3)"
   ]
  },
  {
   "cell_type": "code",
   "execution_count": 12,
   "metadata": {
    "collapsed": false
   },
   "outputs": [
    {
     "data": {
      "image/svg+xml": [
       "<svg baseProfile=\"full\" height=\"375px\" version=\"1.1\" width=\"500px\" xml:space=\"preserve\" xmlns:rdkit=\"http://www.rdkit.org/xml\" xmlns:svg=\"http://www.w3.org/2000/svg\" xmlns:xlink=\"http://www.w3.org/1999/xlink\">\n",
       "<rect height=\"375\" style=\"opacity:1.0;fill:#FFFFFF;stroke:none\" width=\"500\" x=\"0\" y=\"0\"> </rect>\n",
       "<path d=\"M 239.744,165.495 247.093,202.031\" style=\"fill:none;fill-rule:evenodd;stroke:#FFFFFF;stroke-width:15px;stroke-linecap:butt;stroke-linejoin:miter;stroke-opacity:1\"/>\n",
       "<path d=\"M 247.093,202.031 275.06,177.398\" style=\"fill:none;fill-rule:evenodd;stroke:#FFD5D5;stroke-width:15px;stroke-linecap:butt;stroke-linejoin:miter;stroke-opacity:1\"/>\n",
       "<path d=\"M 247.093,202.031 254.442,238.567\" style=\"fill:none;fill-rule:evenodd;stroke:#FFFFFF;stroke-width:15px;stroke-linecap:butt;stroke-linejoin:miter;stroke-opacity:1\"/>\n",
       "<path d=\"M 247.093,202.031 211.777,190.127\" style=\"fill:none;fill-rule:evenodd;stroke:#FFFFFF;stroke-width:15px;stroke-linecap:butt;stroke-linejoin:miter;stroke-opacity:1\"/>\n",
       "<path d=\"M 275.06,177.398 310.376,189.302\" style=\"fill:none;fill-rule:evenodd;stroke:#FFC4C4;stroke-width:15px;stroke-linecap:butt;stroke-linejoin:miter;stroke-opacity:1\"/>\n",
       "<path d=\"M 310.376,189.302 338.343,164.67\" style=\"fill:none;fill-rule:evenodd;stroke:#FFBEBE;stroke-width:15px;stroke-linecap:butt;stroke-linejoin:miter;stroke-opacity:1\"/>\n",
       "<path d=\"M 310.376,189.302 317.725,225.839\" style=\"fill:none;fill-rule:evenodd;stroke:#FFC6C6;stroke-width:15px;stroke-linecap:butt;stroke-linejoin:miter;stroke-opacity:1\"/>\n",
       "<path d=\"M 338.343,164.67 373.659,176.574\" style=\"fill:none;fill-rule:evenodd;stroke:#FFFFFF;stroke-width:15px;stroke-linecap:butt;stroke-linejoin:miter;stroke-opacity:1\"/>\n",
       "<path d=\"M 373.659,176.574 381.008,213.11\" style=\"fill:none;fill-rule:evenodd;stroke:#FFFFFF;stroke-width:15px;stroke-linecap:butt;stroke-linejoin:miter;stroke-opacity:1\"/>\n",
       "<path d=\"M 373.659,176.574 406.136,158.294\" style=\"fill:none;fill-rule:evenodd;stroke:#FFFFFF;stroke-width:15px;stroke-linecap:butt;stroke-linejoin:miter;stroke-opacity:1\"/>\n",
       "<path d=\"M 381.008,213.11 353.041,237.743\" style=\"fill:none;fill-rule:evenodd;stroke:#FFFFFF;stroke-width:15px;stroke-linecap:butt;stroke-linejoin:miter;stroke-opacity:1\"/>\n",
       "<path d=\"M 381.008,213.11 418.027,217.412\" style=\"fill:none;fill-rule:evenodd;stroke:#FFFFFF;stroke-width:15px;stroke-linecap:butt;stroke-linejoin:miter;stroke-opacity:1\"/>\n",
       "<path d=\"M 353.041,237.743 317.725,225.839\" style=\"fill:none;fill-rule:evenodd;stroke:#FFFFFF;stroke-width:15px;stroke-linecap:butt;stroke-linejoin:miter;stroke-opacity:1\"/>\n",
       "<path d=\"M 317.725,225.839 289.758,250.471\" style=\"fill:none;fill-rule:evenodd;stroke:#FFFFFF;stroke-width:15px;stroke-linecap:butt;stroke-linejoin:miter;stroke-opacity:1\"/>\n",
       "<path d=\"M 289.758,250.471 254.442,238.567\" style=\"fill:none;fill-rule:evenodd;stroke:#FFFFFF;stroke-width:15px;stroke-linecap:butt;stroke-linejoin:miter;stroke-opacity:1\"/>\n",
       "<path d=\"M 254.442,238.567 226.475,263.2\" style=\"fill:none;fill-rule:evenodd;stroke:#FFFFFF;stroke-width:15px;stroke-linecap:butt;stroke-linejoin:miter;stroke-opacity:1\"/>\n",
       "<path d=\"M 226.475,263.2 191.159,251.296\" style=\"fill:none;fill-rule:evenodd;stroke:#FFFFFF;stroke-width:15px;stroke-linecap:butt;stroke-linejoin:miter;stroke-opacity:1\"/>\n",
       "<path d=\"M 191.159,251.296 183.81,214.759\" style=\"fill:none;fill-rule:evenodd;stroke:#FFFFFF;stroke-width:15px;stroke-linecap:butt;stroke-linejoin:miter;stroke-opacity:1\"/>\n",
       "<path d=\"M 183.81,214.759 211.777,190.127\" style=\"fill:none;fill-rule:evenodd;stroke:#FFFFFF;stroke-width:15px;stroke-linecap:butt;stroke-linejoin:miter;stroke-opacity:1\"/>\n",
       "<path d=\"M 183.81,214.759 148.494,202.855\" style=\"fill:none;fill-rule:evenodd;stroke:#FFFFFF;stroke-width:15px;stroke-linecap:butt;stroke-linejoin:miter;stroke-opacity:1\"/>\n",
       "<path d=\"M 211.777,190.127 204.429,153.591\" style=\"fill:none;fill-rule:evenodd;stroke:#FFFFFF;stroke-width:15px;stroke-linecap:butt;stroke-linejoin:miter;stroke-opacity:1\"/>\n",
       "<path d=\"M 204.429,153.591 169.113,141.687\" style=\"fill:none;fill-rule:evenodd;stroke:#FFFFFF;stroke-width:15px;stroke-linecap:butt;stroke-linejoin:miter;stroke-opacity:1\"/>\n",
       "<path d=\"M 169.113,141.687 141.146,166.319\" style=\"fill:none;fill-rule:evenodd;stroke:#FFFFFF;stroke-width:15px;stroke-linecap:butt;stroke-linejoin:miter;stroke-opacity:1\"/>\n",
       "<path d=\"M 141.146,166.319 134.436,129.66\" style=\"fill:none;fill-rule:evenodd;stroke:#FFFFFF;stroke-width:15px;stroke-linecap:butt;stroke-linejoin:miter;stroke-opacity:1\"/>\n",
       "<path d=\"M 141.146,166.319 148.494,202.855\" style=\"fill:none;fill-rule:evenodd;stroke:#FFFFFF;stroke-width:15px;stroke-linecap:butt;stroke-linejoin:miter;stroke-opacity:1\"/>\n",
       "<path d=\"M 141.146,166.319 104.126,162.018\" style=\"fill:none;fill-rule:evenodd;stroke:#FF0000;stroke-width:15px;stroke-linecap:butt;stroke-linejoin:miter;stroke-opacity:1\"/>\n",
       "<path d=\"M 148.494,202.855 116.017,221.135\" style=\"fill:none;fill-rule:evenodd;stroke:#FFFFFF;stroke-width:15px;stroke-linecap:butt;stroke-linejoin:miter;stroke-opacity:1\"/>\n",
       "<path d=\"M 116.017,221.135 88.5961,195.896\" style=\"fill:none;fill-rule:evenodd;stroke:#FFFFFF;stroke-width:15px;stroke-linecap:butt;stroke-linejoin:miter;stroke-opacity:1\"/>\n",
       "<path d=\"M 88.5961,195.896 104.126,162.018\" style=\"fill:none;fill-rule:evenodd;stroke:#FF0000;stroke-width:15px;stroke-linecap:butt;stroke-linejoin:miter;stroke-opacity:1\"/>\n",
       "<path d=\"M 104.126,162.018 107.78,124.929\" style=\"fill:none;fill-rule:evenodd;stroke:#FF0000;stroke-width:15px;stroke-linecap:butt;stroke-linejoin:miter;stroke-opacity:1\"/>\n",
       "<path d=\"M 104.126,162.018 68.8105,150.114\" style=\"fill:none;fill-rule:evenodd;stroke:#FF0000;stroke-width:15px;stroke-linecap:butt;stroke-linejoin:miter;stroke-opacity:1\"/>\n",
       "<path d=\"M 68.8105,150.114 33.4946,138.21\" style=\"fill:none;fill-rule:evenodd;stroke:#FF8D8D;stroke-width:15px;stroke-linecap:butt;stroke-linejoin:miter;stroke-opacity:1\"/>\n",
       "<path d=\"M 418.027,217.412 433.557,183.534\" style=\"fill:none;fill-rule:evenodd;stroke:#FFFFFF;stroke-width:15px;stroke-linecap:butt;stroke-linejoin:miter;stroke-opacity:1\"/>\n",
       "<path d=\"M 433.557,183.534 469.125,172.406\" style=\"fill:none;fill-rule:evenodd;stroke:#FFFFFF;stroke-width:15px;stroke-linecap:butt;stroke-linejoin:miter;stroke-opacity:1\"/>\n",
       "<path d=\"M 433.557,183.534 406.136,158.294\" style=\"fill:none;fill-rule:evenodd;stroke:#FFFFFF;stroke-width:15px;stroke-linecap:butt;stroke-linejoin:miter;stroke-opacity:1\"/>\n",
       "<path d=\"M 469.125,172.406 477.273,136.039\" style=\"fill:none;fill-rule:evenodd;stroke:#FFFFFF;stroke-width:15px;stroke-linecap:butt;stroke-linejoin:miter;stroke-opacity:1\"/>\n",
       "<path d=\"M 477.273,136.039 449.852,110.8\" style=\"fill:none;fill-rule:evenodd;stroke:#FFFFFF;stroke-width:15px;stroke-linecap:butt;stroke-linejoin:miter;stroke-opacity:1\"/>\n",
       "<path d=\"M 449.852,110.8 414.284,121.928\" style=\"fill:none;fill-rule:evenodd;stroke:#FFFFFF;stroke-width:15px;stroke-linecap:butt;stroke-linejoin:miter;stroke-opacity:1\"/>\n",
       "<path d=\"M 414.284,121.928 406.136,158.294\" style=\"fill:none;fill-rule:evenodd;stroke:#FFFFFF;stroke-width:15px;stroke-linecap:butt;stroke-linejoin:miter;stroke-opacity:1\"/>\n",
       "<ellipse cx=\"247.093\" cy=\"202.031\" rx=\"9.93818\" ry=\"9.93818\" style=\"fill:#FFE2E2;fill-rule:evenodd;stroke:#FFE2E2;stroke-width:1px;stroke-linecap:butt;stroke-linejoin:miter;stroke-opacity:1\"/>\n",
       "<ellipse cx=\"275.06\" cy=\"177.398\" rx=\"9.93818\" ry=\"9.93818\" style=\"fill:#FFC7C7;fill-rule:evenodd;stroke:#FFC7C7;stroke-width:1px;stroke-linecap:butt;stroke-linejoin:miter;stroke-opacity:1\"/>\n",
       "<ellipse cx=\"310.376\" cy=\"189.302\" rx=\"9.93818\" ry=\"9.93818\" style=\"fill:#FFC1C1;fill-rule:evenodd;stroke:#FFC1C1;stroke-width:1px;stroke-linecap:butt;stroke-linejoin:miter;stroke-opacity:1\"/>\n",
       "<ellipse cx=\"338.343\" cy=\"164.67\" rx=\"9.93818\" ry=\"9.93818\" style=\"fill:#FFBBBB;fill-rule:evenodd;stroke:#FFBBBB;stroke-width:1px;stroke-linecap:butt;stroke-linejoin:miter;stroke-opacity:1\"/>\n",
       "<ellipse cx=\"381.008\" cy=\"213.11\" rx=\"9.93818\" ry=\"9.93818\" style=\"fill:#FFEBEB;fill-rule:evenodd;stroke:#FFEBEB;stroke-width:1px;stroke-linecap:butt;stroke-linejoin:miter;stroke-opacity:1\"/>\n",
       "<ellipse cx=\"317.725\" cy=\"225.839\" rx=\"9.93818\" ry=\"9.93818\" style=\"fill:#FFCCCC;fill-rule:evenodd;stroke:#FFCCCC;stroke-width:1px;stroke-linecap:butt;stroke-linejoin:miter;stroke-opacity:1\"/>\n",
       "<ellipse cx=\"183.81\" cy=\"214.759\" rx=\"9.93818\" ry=\"9.93818\" style=\"fill:#FFEDED;fill-rule:evenodd;stroke:#FFEDED;stroke-width:1px;stroke-linecap:butt;stroke-linejoin:miter;stroke-opacity:1\"/>\n",
       "<ellipse cx=\"141.146\" cy=\"166.319\" rx=\"9.93818\" ry=\"9.93818\" style=\"fill:#FF3C3C;fill-rule:evenodd;stroke:#FF3C3C;stroke-width:1px;stroke-linecap:butt;stroke-linejoin:miter;stroke-opacity:1\"/>\n",
       "<ellipse cx=\"88.5961\" cy=\"195.896\" rx=\"9.93818\" ry=\"9.93818\" style=\"fill:#FF2C2C;fill-rule:evenodd;stroke:#FF2C2C;stroke-width:1px;stroke-linecap:butt;stroke-linejoin:miter;stroke-opacity:1\"/>\n",
       "<ellipse cx=\"104.126\" cy=\"162.018\" rx=\"9.93818\" ry=\"9.93818\" style=\"fill:#FF0000;fill-rule:evenodd;stroke:#FF0000;stroke-width:1px;stroke-linecap:butt;stroke-linejoin:miter;stroke-opacity:1\"/>\n",
       "<ellipse cx=\"107.78\" cy=\"124.929\" rx=\"9.93818\" ry=\"9.93818\" style=\"fill:#FF5454;fill-rule:evenodd;stroke:#FF5454;stroke-width:1px;stroke-linecap:butt;stroke-linejoin:miter;stroke-opacity:1\"/>\n",
       "<ellipse cx=\"68.8105\" cy=\"150.114\" rx=\"9.93818\" ry=\"9.93818\" style=\"fill:#FF3131;fill-rule:evenodd;stroke:#FF3131;stroke-width:1px;stroke-linecap:butt;stroke-linejoin:miter;stroke-opacity:1\"/>\n",
       "<ellipse cx=\"33.4946\" cy=\"138.21\" rx=\"9.93818\" ry=\"9.93818\" style=\"fill:#FFE9E9;fill-rule:evenodd;stroke:#FFE9E9;stroke-width:1px;stroke-linecap:butt;stroke-linejoin:miter;stroke-opacity:1\"/>\n",
       "<ellipse cx=\"433.557\" cy=\"183.534\" rx=\"9.93818\" ry=\"9.93818\" style=\"fill:#FFF2F2;fill-rule:evenodd;stroke:#FFF2F2;stroke-width:1px;stroke-linecap:butt;stroke-linejoin:miter;stroke-opacity:1\"/>\n",
       "<path d=\"M 239.744,165.495 247.093,202.031\" style=\"fill:none;fill-rule:evenodd;stroke:#000000;stroke-width:2px;stroke-linecap:butt;stroke-linejoin:miter;stroke-opacity:1\"/>\n",
       "<path d=\"M 247.093,202.031 275.06,177.398\" style=\"fill:none;fill-rule:evenodd;stroke:#000000;stroke-width:2px;stroke-linecap:butt;stroke-linejoin:miter;stroke-opacity:1\"/>\n",
       "<path d=\"M 247.093,202.031 254.442,238.567\" style=\"fill:none;fill-rule:evenodd;stroke:#000000;stroke-width:2px;stroke-linecap:butt;stroke-linejoin:miter;stroke-opacity:1\"/>\n",
       "<path d=\"M 247.093,202.031 211.777,190.127\" style=\"fill:none;fill-rule:evenodd;stroke:#000000;stroke-width:2px;stroke-linecap:butt;stroke-linejoin:miter;stroke-opacity:1\"/>\n",
       "<path d=\"M 275.06,177.398 310.376,189.302\" style=\"fill:none;fill-rule:evenodd;stroke:#000000;stroke-width:2px;stroke-linecap:butt;stroke-linejoin:miter;stroke-opacity:1\"/>\n",
       "<path d=\"M 310.376,189.302 338.343,164.67\" style=\"fill:none;fill-rule:evenodd;stroke:#000000;stroke-width:2px;stroke-linecap:butt;stroke-linejoin:miter;stroke-opacity:1\"/>\n",
       "<path d=\"M 319.498,191.201 339.075,173.958\" style=\"fill:none;fill-rule:evenodd;stroke:#000000;stroke-width:2px;stroke-linecap:butt;stroke-linejoin:miter;stroke-opacity:1\"/>\n",
       "<path d=\"M 310.376,189.302 317.725,225.839\" style=\"fill:none;fill-rule:evenodd;stroke:#000000;stroke-width:2px;stroke-linecap:butt;stroke-linejoin:miter;stroke-opacity:1\"/>\n",
       "<path d=\"M 338.343,164.67 353.309,169.715\" style=\"fill:none;fill-rule:evenodd;stroke:#000000;stroke-width:2px;stroke-linecap:butt;stroke-linejoin:miter;stroke-opacity:1\"/>\n",
       "<path d=\"M 353.309,169.715 368.275,174.759\" style=\"fill:none;fill-rule:evenodd;stroke:#0000FF;stroke-width:2px;stroke-linecap:butt;stroke-linejoin:miter;stroke-opacity:1\"/>\n",
       "<path d=\"M 374.908,182.785 377.958,197.948\" style=\"fill:none;fill-rule:evenodd;stroke:#0000FF;stroke-width:2px;stroke-linecap:butt;stroke-linejoin:miter;stroke-opacity:1\"/>\n",
       "<path d=\"M 377.958,197.948 381.008,213.11\" style=\"fill:none;fill-rule:evenodd;stroke:#000000;stroke-width:2px;stroke-linecap:butt;stroke-linejoin:miter;stroke-opacity:1\"/>\n",
       "<path d=\"M 379.043,173.544 392.59,165.919\" style=\"fill:none;fill-rule:evenodd;stroke:#0000FF;stroke-width:2px;stroke-linecap:butt;stroke-linejoin:miter;stroke-opacity:1\"/>\n",
       "<path d=\"M 392.59,165.919 406.136,158.294\" style=\"fill:none;fill-rule:evenodd;stroke:#000000;stroke-width:2px;stroke-linecap:butt;stroke-linejoin:miter;stroke-opacity:1\"/>\n",
       "<path d=\"M 381.008,213.11 369.716,223.056\" style=\"fill:none;fill-rule:evenodd;stroke:#000000;stroke-width:2px;stroke-linecap:butt;stroke-linejoin:miter;stroke-opacity:1\"/>\n",
       "<path d=\"M 369.716,223.056 358.425,233.001\" style=\"fill:none;fill-rule:evenodd;stroke:#0000FF;stroke-width:2px;stroke-linecap:butt;stroke-linejoin:miter;stroke-opacity:1\"/>\n",
       "<path d=\"M 381.008,213.11 396.826,214.948\" style=\"fill:none;fill-rule:evenodd;stroke:#000000;stroke-width:2px;stroke-linecap:butt;stroke-linejoin:miter;stroke-opacity:1\"/>\n",
       "<path d=\"M 396.826,214.948 412.643,216.786\" style=\"fill:none;fill-rule:evenodd;stroke:#0000FF;stroke-width:2px;stroke-linecap:butt;stroke-linejoin:miter;stroke-opacity:1\"/>\n",
       "<path d=\"M 386.613,206.258 397.686,207.544\" style=\"fill:none;fill-rule:evenodd;stroke:#000000;stroke-width:2px;stroke-linecap:butt;stroke-linejoin:miter;stroke-opacity:1\"/>\n",
       "<path d=\"M 397.686,207.544 408.758,208.831\" style=\"fill:none;fill-rule:evenodd;stroke:#0000FF;stroke-width:2px;stroke-linecap:butt;stroke-linejoin:miter;stroke-opacity:1\"/>\n",
       "<path d=\"M 347.657,235.928 332.691,230.884\" style=\"fill:none;fill-rule:evenodd;stroke:#0000FF;stroke-width:2px;stroke-linecap:butt;stroke-linejoin:miter;stroke-opacity:1\"/>\n",
       "<path d=\"M 332.691,230.884 317.725,225.839\" style=\"fill:none;fill-rule:evenodd;stroke:#000000;stroke-width:2px;stroke-linecap:butt;stroke-linejoin:miter;stroke-opacity:1\"/>\n",
       "<path d=\"M 345.548,227.352 335.072,223.82\" style=\"fill:none;fill-rule:evenodd;stroke:#0000FF;stroke-width:2px;stroke-linecap:butt;stroke-linejoin:miter;stroke-opacity:1\"/>\n",
       "<path d=\"M 335.072,223.82 324.596,220.289\" style=\"fill:none;fill-rule:evenodd;stroke:#000000;stroke-width:2px;stroke-linecap:butt;stroke-linejoin:miter;stroke-opacity:1\"/>\n",
       "<path d=\"M 317.725,225.839 289.758,250.471\" style=\"fill:none;fill-rule:evenodd;stroke:#000000;stroke-width:2px;stroke-linecap:butt;stroke-linejoin:miter;stroke-opacity:1\"/>\n",
       "<path d=\"M 289.758,250.471 254.442,238.567\" style=\"fill:none;fill-rule:evenodd;stroke:#000000;stroke-width:2px;stroke-linecap:butt;stroke-linejoin:miter;stroke-opacity:1\"/>\n",
       "<path d=\"M 286.841,241.623 262.12,233.29\" style=\"fill:none;fill-rule:evenodd;stroke:#000000;stroke-width:2px;stroke-linecap:butt;stroke-linejoin:miter;stroke-opacity:1\"/>\n",
       "<path d=\"M 254.442,238.567 226.475,263.2\" style=\"fill:none;fill-rule:evenodd;stroke:#000000;stroke-width:2px;stroke-linecap:butt;stroke-linejoin:miter;stroke-opacity:1\"/>\n",
       "<path d=\"M 226.475,263.2 191.159,251.296\" style=\"fill:none;fill-rule:evenodd;stroke:#000000;stroke-width:2px;stroke-linecap:butt;stroke-linejoin:miter;stroke-opacity:1\"/>\n",
       "<path d=\"M 191.159,251.296 183.81,214.759\" style=\"fill:none;fill-rule:evenodd;stroke:#000000;stroke-width:2px;stroke-linecap:butt;stroke-linejoin:miter;stroke-opacity:1\"/>\n",
       "<path d=\"M 183.81,214.759 211.777,190.127\" style=\"fill:none;fill-rule:evenodd;stroke:#000000;stroke-width:2px;stroke-linecap:butt;stroke-linejoin:miter;stroke-opacity:1\"/>\n",
       "<path d=\"M 183.81,214.759 148.494,202.855\" style=\"fill:none;fill-rule:evenodd;stroke:#000000;stroke-width:2px;stroke-linecap:butt;stroke-linejoin:miter;stroke-opacity:1\"/>\n",
       "<path d=\"M 211.777,190.127 204.429,153.591\" style=\"fill:none;fill-rule:evenodd;stroke:#000000;stroke-width:2px;stroke-linecap:butt;stroke-linejoin:miter;stroke-opacity:1\"/>\n",
       "<path d=\"M 204.429,153.591 169.113,141.687\" style=\"fill:none;fill-rule:evenodd;stroke:#000000;stroke-width:2px;stroke-linecap:butt;stroke-linejoin:miter;stroke-opacity:1\"/>\n",
       "<path d=\"M 169.113,141.687 141.146,166.319\" style=\"fill:none;fill-rule:evenodd;stroke:#000000;stroke-width:2px;stroke-linecap:butt;stroke-linejoin:miter;stroke-opacity:1\"/>\n",
       "<path d=\"M 141.146,166.319 134.436,129.66\" style=\"fill:none;fill-rule:evenodd;stroke:#000000;stroke-width:2px;stroke-linecap:butt;stroke-linejoin:miter;stroke-opacity:1\"/>\n",
       "<path d=\"M 141.146,166.319 148.494,202.855\" style=\"fill:none;fill-rule:evenodd;stroke:#000000;stroke-width:2px;stroke-linecap:butt;stroke-linejoin:miter;stroke-opacity:1\"/>\n",
       "<path d=\"M 141.146,166.319 104.126,162.018\" style=\"fill:none;fill-rule:evenodd;stroke:#000000;stroke-width:2px;stroke-linecap:butt;stroke-linejoin:miter;stroke-opacity:1\"/>\n",
       "<path d=\"M 148.494,202.855 116.017,221.135\" style=\"fill:none;fill-rule:evenodd;stroke:#000000;stroke-width:2px;stroke-linecap:butt;stroke-linejoin:miter;stroke-opacity:1\"/>\n",
       "<path d=\"M 116.017,221.135 88.5961,195.896\" style=\"fill:none;fill-rule:evenodd;stroke:#000000;stroke-width:2px;stroke-linecap:butt;stroke-linejoin:miter;stroke-opacity:1\"/>\n",
       "<path d=\"M 88.5961,195.896 104.126,162.018\" style=\"fill:none;fill-rule:evenodd;stroke:#000000;stroke-width:2px;stroke-linecap:butt;stroke-linejoin:miter;stroke-opacity:1\"/>\n",
       "<path d=\"M 104.126,162.018 105.647,146.579\" style=\"fill:none;fill-rule:evenodd;stroke:#000000;stroke-width:2px;stroke-linecap:butt;stroke-linejoin:miter;stroke-opacity:1\"/>\n",
       "<path d=\"M 105.647,146.579 107.168,131.14\" style=\"fill:none;fill-rule:evenodd;stroke:#FF0000;stroke-width:2px;stroke-linecap:butt;stroke-linejoin:miter;stroke-opacity:1\"/>\n",
       "<path d=\"M 104.126,162.018 68.8105,150.114\" style=\"fill:none;fill-rule:evenodd;stroke:#000000;stroke-width:2px;stroke-linecap:butt;stroke-linejoin:miter;stroke-opacity:1\"/>\n",
       "<path d=\"M 68.8105,150.114 53.8444,145.069\" style=\"fill:none;fill-rule:evenodd;stroke:#000000;stroke-width:2px;stroke-linecap:butt;stroke-linejoin:miter;stroke-opacity:1\"/>\n",
       "<path d=\"M 53.8444,145.069 38.8783,140.024\" style=\"fill:none;fill-rule:evenodd;stroke:#0000FF;stroke-width:2px;stroke-linecap:butt;stroke-linejoin:miter;stroke-opacity:1\"/>\n",
       "<path d=\"M 66.7015,141.537 53.9803,137.249\" style=\"fill:none;fill-rule:evenodd;stroke:#000000;stroke-width:2px;stroke-linecap:butt;stroke-linejoin:miter;stroke-opacity:1\"/>\n",
       "<path d=\"M 53.9803,137.249 41.2591,132.961\" style=\"fill:none;fill-rule:evenodd;stroke:#0000FF;stroke-width:2px;stroke-linecap:butt;stroke-linejoin:miter;stroke-opacity:1\"/>\n",
       "<path d=\"M 61.9399,155.664 49.2187,151.376\" style=\"fill:none;fill-rule:evenodd;stroke:#000000;stroke-width:2px;stroke-linecap:butt;stroke-linejoin:miter;stroke-opacity:1\"/>\n",
       "<path d=\"M 49.2187,151.376 36.4975,147.088\" style=\"fill:none;fill-rule:evenodd;stroke:#0000FF;stroke-width:2px;stroke-linecap:butt;stroke-linejoin:miter;stroke-opacity:1\"/>\n",
       "<path d=\"M 420.874,211.2 427.216,197.367\" style=\"fill:none;fill-rule:evenodd;stroke:#0000FF;stroke-width:2px;stroke-linecap:butt;stroke-linejoin:miter;stroke-opacity:1\"/>\n",
       "<path d=\"M 427.216,197.367 433.557,183.534\" style=\"fill:none;fill-rule:evenodd;stroke:#000000;stroke-width:2px;stroke-linecap:butt;stroke-linejoin:miter;stroke-opacity:1\"/>\n",
       "<path d=\"M 433.557,183.534 469.125,172.406\" style=\"fill:none;fill-rule:evenodd;stroke:#000000;stroke-width:2px;stroke-linecap:butt;stroke-linejoin:miter;stroke-opacity:1\"/>\n",
       "<path d=\"M 436.667,174.751 461.565,166.961\" style=\"fill:none;fill-rule:evenodd;stroke:#000000;stroke-width:2px;stroke-linecap:butt;stroke-linejoin:miter;stroke-opacity:1\"/>\n",
       "<path d=\"M 433.557,183.534 406.136,158.294\" style=\"fill:none;fill-rule:evenodd;stroke:#000000;stroke-width:2px;stroke-linecap:butt;stroke-linejoin:miter;stroke-opacity:1\"/>\n",
       "<path d=\"M 469.125,172.406 477.273,136.039\" style=\"fill:none;fill-rule:evenodd;stroke:#000000;stroke-width:2px;stroke-linecap:butt;stroke-linejoin:miter;stroke-opacity:1\"/>\n",
       "<path d=\"M 477.273,136.039 449.852,110.8\" style=\"fill:none;fill-rule:evenodd;stroke:#000000;stroke-width:2px;stroke-linecap:butt;stroke-linejoin:miter;stroke-opacity:1\"/>\n",
       "<path d=\"M 468.112,137.738 448.917,120.07\" style=\"fill:none;fill-rule:evenodd;stroke:#000000;stroke-width:2px;stroke-linecap:butt;stroke-linejoin:miter;stroke-opacity:1\"/>\n",
       "<path d=\"M 449.852,110.8 414.284,121.928\" style=\"fill:none;fill-rule:evenodd;stroke:#000000;stroke-width:2px;stroke-linecap:butt;stroke-linejoin:miter;stroke-opacity:1\"/>\n",
       "<path d=\"M 414.284,121.928 406.136,158.294\" style=\"fill:none;fill-rule:evenodd;stroke:#000000;stroke-width:2px;stroke-linecap:butt;stroke-linejoin:miter;stroke-opacity:1\"/>\n",
       "<path d=\"M 420.335,129.012 414.632,154.469\" style=\"fill:none;fill-rule:evenodd;stroke:#000000;stroke-width:2px;stroke-linecap:butt;stroke-linejoin:miter;stroke-opacity:1\"/>\n",
       "<text style=\"font-size:12px;font-style:normal;font-weight:normal;fill-opacity:1;stroke:none;font-family:sans-serif;text-anchor:start;fill:#0000FF\" x=\"368.275\" y=\"182.785\"><tspan>N</tspan></text>\n",
       "<text style=\"font-size:12px;font-style:normal;font-weight:normal;fill-opacity:1;stroke:none;font-family:sans-serif;text-anchor:start;fill:#0000FF\" x=\"347.657\" y=\"243.954\"><tspan>N</tspan></text>\n",
       "<text style=\"font-size:12px;font-style:normal;font-weight:normal;fill-opacity:1;stroke:none;font-family:sans-serif;text-anchor:start;fill:#FF0000\" x=\"96.595\" y=\"131.14\"><tspan>OH</tspan></text>\n",
       "<text style=\"font-size:12px;font-style:normal;font-weight:normal;fill-opacity:1;stroke:none;font-family:sans-serif;text-anchor:start;fill:#0000FF\" x=\"28.1109\" y=\"144.421\"><tspan>N</tspan></text>\n",
       "<text style=\"font-size:12px;font-style:normal;font-weight:normal;fill-opacity:1;stroke:none;font-family:sans-serif;text-anchor:start;fill:#0000FF\" x=\"412.643\" y=\"223.623\"><tspan>N</tspan></text>\n",
       "</svg>"
      ],
      "text/plain": [
       "<IPython.core.display.SVG object>"
      ]
     },
     "metadata": {},
     "output_type": "display_data"
    },
    {
     "data": {
      "text/plain": [
       "<function __main__.sv_visualize>"
      ]
     },
     "execution_count": 12,
     "metadata": {},
     "output_type": "execute_result"
    }
   ],
   "source": [
    "# interactive plot demo\n",
    "\n",
    "def sv_visualize(i, ratio):\n",
    "    return sv.visualize(saliency_vanilla[i], target_smiles[i], visualize_ratio=ratio)\n",
    "\n",
    "interact(sv_visualize, i=(0, len(saliency_vanilla) - 1, 1), ratio=(0, 1.0, 0.1))"
   ]
  },
  {
   "cell_type": "code",
   "execution_count": 19,
   "metadata": {
    "collapsed": true
   },
   "outputs": [],
   "source": [
    "os.makedirs('results/visualize/srmmp', exist_ok=True)"
   ]
  },
  {
   "cell_type": "code",
   "execution_count": 20,
   "metadata": {
    "collapsed": false
   },
   "outputs": [],
   "source": [
    "# --- SmoothGrad ---\n",
    "saliency_arrays_smooth = gradient_calculator.compute_smooth(\n",
    "    target_dataset, converter=concat_mols, preprocess_fn=preprocess_fun,\n",
    "    M=M, mode='absolute', scale=0.15)"
   ]
  },
  {
   "cell_type": "code",
   "execution_count": 21,
   "metadata": {
    "collapsed": false
   },
   "outputs": [],
   "source": [
    "# --- BayesGrad ---\n",
    "# `train=True` enables dropout, which corresponds to BayesGrad\n",
    "saliency_arrays_bayes = gradient_calculator.compute_vanilla(\n",
    "    target_dataset, converter=concat_mols, preprocess_fn=preprocess_fun,\n",
    "    M=M, train=True)"
   ]
  },
  {
   "cell_type": "code",
   "execution_count": 22,
   "metadata": {
    "collapsed": false
   },
   "outputs": [
    {
     "name": "stdout",
     "output_type": "stream",
     "text": [
      "SR-MMP:  1\n"
     ]
    },
    {
     "data": {
      "image/svg+xml": [
       "<svg baseProfile=\"full\" height=\"375px\" version=\"1.1\" width=\"500px\" xml:space=\"preserve\" xmlns:rdkit=\"http://www.rdkit.org/xml\" xmlns:svg=\"http://www.w3.org/2000/svg\" xmlns:xlink=\"http://www.w3.org/1999/xlink\">\n",
       "<rect height=\"375\" style=\"opacity:1.0;fill:#FFFFFF;stroke:none\" width=\"500\" x=\"0\" y=\"0\"> </rect>\n",
       "<path d=\"M 239.744,165.495 247.093,202.031\" style=\"fill:none;fill-rule:evenodd;stroke:#FFFFFF;stroke-width:15px;stroke-linecap:butt;stroke-linejoin:miter;stroke-opacity:1\"/>\n",
       "<path d=\"M 247.093,202.031 275.06,177.398\" style=\"fill:none;fill-rule:evenodd;stroke:#FFFFFF;stroke-width:15px;stroke-linecap:butt;stroke-linejoin:miter;stroke-opacity:1\"/>\n",
       "<path d=\"M 247.093,202.031 254.442,238.567\" style=\"fill:none;fill-rule:evenodd;stroke:#FFFFFF;stroke-width:15px;stroke-linecap:butt;stroke-linejoin:miter;stroke-opacity:1\"/>\n",
       "<path d=\"M 247.093,202.031 211.777,190.127\" style=\"fill:none;fill-rule:evenodd;stroke:#FFFFFF;stroke-width:15px;stroke-linecap:butt;stroke-linejoin:miter;stroke-opacity:1\"/>\n",
       "<path d=\"M 275.06,177.398 310.376,189.302\" style=\"fill:none;fill-rule:evenodd;stroke:#FFFFFF;stroke-width:15px;stroke-linecap:butt;stroke-linejoin:miter;stroke-opacity:1\"/>\n",
       "<path d=\"M 310.376,189.302 338.343,164.67\" style=\"fill:none;fill-rule:evenodd;stroke:#FFFFFF;stroke-width:15px;stroke-linecap:butt;stroke-linejoin:miter;stroke-opacity:1\"/>\n",
       "<path d=\"M 310.376,189.302 317.725,225.839\" style=\"fill:none;fill-rule:evenodd;stroke:#FFFFFF;stroke-width:15px;stroke-linecap:butt;stroke-linejoin:miter;stroke-opacity:1\"/>\n",
       "<path d=\"M 338.343,164.67 373.659,176.574\" style=\"fill:none;fill-rule:evenodd;stroke:#FFFFFF;stroke-width:15px;stroke-linecap:butt;stroke-linejoin:miter;stroke-opacity:1\"/>\n",
       "<path d=\"M 373.659,176.574 381.008,213.11\" style=\"fill:none;fill-rule:evenodd;stroke:#FFFFFF;stroke-width:15px;stroke-linecap:butt;stroke-linejoin:miter;stroke-opacity:1\"/>\n",
       "<path d=\"M 373.659,176.574 406.136,158.294\" style=\"fill:none;fill-rule:evenodd;stroke:#FFFFFF;stroke-width:15px;stroke-linecap:butt;stroke-linejoin:miter;stroke-opacity:1\"/>\n",
       "<path d=\"M 381.008,213.11 353.041,237.743\" style=\"fill:none;fill-rule:evenodd;stroke:#FFFFFF;stroke-width:15px;stroke-linecap:butt;stroke-linejoin:miter;stroke-opacity:1\"/>\n",
       "<path d=\"M 381.008,213.11 418.027,217.412\" style=\"fill:none;fill-rule:evenodd;stroke:#FFFFFF;stroke-width:15px;stroke-linecap:butt;stroke-linejoin:miter;stroke-opacity:1\"/>\n",
       "<path d=\"M 353.041,237.743 317.725,225.839\" style=\"fill:none;fill-rule:evenodd;stroke:#FFFFFF;stroke-width:15px;stroke-linecap:butt;stroke-linejoin:miter;stroke-opacity:1\"/>\n",
       "<path d=\"M 317.725,225.839 289.758,250.471\" style=\"fill:none;fill-rule:evenodd;stroke:#FFFFFF;stroke-width:15px;stroke-linecap:butt;stroke-linejoin:miter;stroke-opacity:1\"/>\n",
       "<path d=\"M 289.758,250.471 254.442,238.567\" style=\"fill:none;fill-rule:evenodd;stroke:#FFFFFF;stroke-width:15px;stroke-linecap:butt;stroke-linejoin:miter;stroke-opacity:1\"/>\n",
       "<path d=\"M 254.442,238.567 226.475,263.2\" style=\"fill:none;fill-rule:evenodd;stroke:#FFFFFF;stroke-width:15px;stroke-linecap:butt;stroke-linejoin:miter;stroke-opacity:1\"/>\n",
       "<path d=\"M 226.475,263.2 191.159,251.296\" style=\"fill:none;fill-rule:evenodd;stroke:#FFFFFF;stroke-width:15px;stroke-linecap:butt;stroke-linejoin:miter;stroke-opacity:1\"/>\n",
       "<path d=\"M 191.159,251.296 183.81,214.759\" style=\"fill:none;fill-rule:evenodd;stroke:#FFFFFF;stroke-width:15px;stroke-linecap:butt;stroke-linejoin:miter;stroke-opacity:1\"/>\n",
       "<path d=\"M 183.81,214.759 211.777,190.127\" style=\"fill:none;fill-rule:evenodd;stroke:#FFFFFF;stroke-width:15px;stroke-linecap:butt;stroke-linejoin:miter;stroke-opacity:1\"/>\n",
       "<path d=\"M 183.81,214.759 148.494,202.855\" style=\"fill:none;fill-rule:evenodd;stroke:#FFB1B1;stroke-width:15px;stroke-linecap:butt;stroke-linejoin:miter;stroke-opacity:1\"/>\n",
       "<path d=\"M 211.777,190.127 204.429,153.591\" style=\"fill:none;fill-rule:evenodd;stroke:#FFFFFF;stroke-width:15px;stroke-linecap:butt;stroke-linejoin:miter;stroke-opacity:1\"/>\n",
       "<path d=\"M 204.429,153.591 169.113,141.687\" style=\"fill:none;fill-rule:evenodd;stroke:#FFFFFF;stroke-width:15px;stroke-linecap:butt;stroke-linejoin:miter;stroke-opacity:1\"/>\n",
       "<path d=\"M 169.113,141.687 141.146,166.319\" style=\"fill:none;fill-rule:evenodd;stroke:#FFFFFF;stroke-width:15px;stroke-linecap:butt;stroke-linejoin:miter;stroke-opacity:1\"/>\n",
       "<path d=\"M 141.146,166.319 134.436,129.66\" style=\"fill:none;fill-rule:evenodd;stroke:#FFFFFF;stroke-width:15px;stroke-linecap:butt;stroke-linejoin:miter;stroke-opacity:1\"/>\n",
       "<path d=\"M 141.146,166.319 148.494,202.855\" style=\"fill:none;fill-rule:evenodd;stroke:#FF0000;stroke-width:15px;stroke-linecap:butt;stroke-linejoin:miter;stroke-opacity:1\"/>\n",
       "<path d=\"M 141.146,166.319 104.126,162.018\" style=\"fill:none;fill-rule:evenodd;stroke:#FF0000;stroke-width:15px;stroke-linecap:butt;stroke-linejoin:miter;stroke-opacity:1\"/>\n",
       "<path d=\"M 148.494,202.855 116.017,221.135\" style=\"fill:none;fill-rule:evenodd;stroke:#FFB6B6;stroke-width:15px;stroke-linecap:butt;stroke-linejoin:miter;stroke-opacity:1\"/>\n",
       "<path d=\"M 116.017,221.135 88.5961,195.896\" style=\"fill:none;fill-rule:evenodd;stroke:#FF9292;stroke-width:15px;stroke-linecap:butt;stroke-linejoin:miter;stroke-opacity:1\"/>\n",
       "<path d=\"M 88.5961,195.896 104.126,162.018\" style=\"fill:none;fill-rule:evenodd;stroke:#FF6F6F;stroke-width:15px;stroke-linecap:butt;stroke-linejoin:miter;stroke-opacity:1\"/>\n",
       "<path d=\"M 104.126,162.018 107.78,124.929\" style=\"fill:none;fill-rule:evenodd;stroke:#FF8484;stroke-width:15px;stroke-linecap:butt;stroke-linejoin:miter;stroke-opacity:1\"/>\n",
       "<path d=\"M 104.126,162.018 68.8105,150.114\" style=\"fill:none;fill-rule:evenodd;stroke:#FF7979;stroke-width:15px;stroke-linecap:butt;stroke-linejoin:miter;stroke-opacity:1\"/>\n",
       "<path d=\"M 68.8105,150.114 33.4946,138.21\" style=\"fill:none;fill-rule:evenodd;stroke:#FFFFFF;stroke-width:15px;stroke-linecap:butt;stroke-linejoin:miter;stroke-opacity:1\"/>\n",
       "<path d=\"M 418.027,217.412 433.557,183.534\" style=\"fill:none;fill-rule:evenodd;stroke:#FFFFFF;stroke-width:15px;stroke-linecap:butt;stroke-linejoin:miter;stroke-opacity:1\"/>\n",
       "<path d=\"M 433.557,183.534 469.125,172.406\" style=\"fill:none;fill-rule:evenodd;stroke:#FFFFFF;stroke-width:15px;stroke-linecap:butt;stroke-linejoin:miter;stroke-opacity:1\"/>\n",
       "<path d=\"M 433.557,183.534 406.136,158.294\" style=\"fill:none;fill-rule:evenodd;stroke:#FFFFFF;stroke-width:15px;stroke-linecap:butt;stroke-linejoin:miter;stroke-opacity:1\"/>\n",
       "<path d=\"M 469.125,172.406 477.273,136.039\" style=\"fill:none;fill-rule:evenodd;stroke:#FFD9D9;stroke-width:15px;stroke-linecap:butt;stroke-linejoin:miter;stroke-opacity:1\"/>\n",
       "<path d=\"M 477.273,136.039 449.852,110.8\" style=\"fill:none;fill-rule:evenodd;stroke:#FFD5D5;stroke-width:15px;stroke-linecap:butt;stroke-linejoin:miter;stroke-opacity:1\"/>\n",
       "<path d=\"M 449.852,110.8 414.284,121.928\" style=\"fill:none;fill-rule:evenodd;stroke:#FFFFFF;stroke-width:15px;stroke-linecap:butt;stroke-linejoin:miter;stroke-opacity:1\"/>\n",
       "<path d=\"M 414.284,121.928 406.136,158.294\" style=\"fill:none;fill-rule:evenodd;stroke:#FFFFFF;stroke-width:15px;stroke-linecap:butt;stroke-linejoin:miter;stroke-opacity:1\"/>\n",
       "<ellipse cx=\"338.343\" cy=\"164.67\" rx=\"9.93818\" ry=\"9.93818\" style=\"fill:#FFDADA;fill-rule:evenodd;stroke:#FFDADA;stroke-width:1px;stroke-linecap:butt;stroke-linejoin:miter;stroke-opacity:1\"/>\n",
       "<ellipse cx=\"226.475\" cy=\"263.2\" rx=\"9.93818\" ry=\"9.93818\" style=\"fill:#FFD8D8;fill-rule:evenodd;stroke:#FFD8D8;stroke-width:1px;stroke-linecap:butt;stroke-linejoin:miter;stroke-opacity:1\"/>\n",
       "<ellipse cx=\"183.81\" cy=\"214.759\" rx=\"9.93818\" ry=\"9.93818\" style=\"fill:#FFA6A6;fill-rule:evenodd;stroke:#FFA6A6;stroke-width:1px;stroke-linecap:butt;stroke-linejoin:miter;stroke-opacity:1\"/>\n",
       "<ellipse cx=\"141.146\" cy=\"166.319\" rx=\"9.93818\" ry=\"9.93818\" style=\"fill:#FF0000;fill-rule:evenodd;stroke:#FF0000;stroke-width:1px;stroke-linecap:butt;stroke-linejoin:miter;stroke-opacity:1\"/>\n",
       "<ellipse cx=\"148.494\" cy=\"202.855\" rx=\"9.93818\" ry=\"9.93818\" style=\"fill:#FFBDBD;fill-rule:evenodd;stroke:#FFBDBD;stroke-width:1px;stroke-linecap:butt;stroke-linejoin:miter;stroke-opacity:1\"/>\n",
       "<ellipse cx=\"116.017\" cy=\"221.135\" rx=\"9.93818\" ry=\"9.93818\" style=\"fill:#FFAFAF;fill-rule:evenodd;stroke:#FFAFAF;stroke-width:1px;stroke-linecap:butt;stroke-linejoin:miter;stroke-opacity:1\"/>\n",
       "<ellipse cx=\"88.5961\" cy=\"195.896\" rx=\"9.93818\" ry=\"9.93818\" style=\"fill:#FF7575;fill-rule:evenodd;stroke:#FF7575;stroke-width:1px;stroke-linecap:butt;stroke-linejoin:miter;stroke-opacity:1\"/>\n",
       "<ellipse cx=\"104.126\" cy=\"162.018\" rx=\"9.93818\" ry=\"9.93818\" style=\"fill:#FF6868;fill-rule:evenodd;stroke:#FF6868;stroke-width:1px;stroke-linecap:butt;stroke-linejoin:miter;stroke-opacity:1\"/>\n",
       "<ellipse cx=\"107.78\" cy=\"124.929\" rx=\"9.93818\" ry=\"9.93818\" style=\"fill:#FFA0A0;fill-rule:evenodd;stroke:#FFA0A0;stroke-width:1px;stroke-linecap:butt;stroke-linejoin:miter;stroke-opacity:1\"/>\n",
       "<ellipse cx=\"68.8105\" cy=\"150.114\" rx=\"9.93818\" ry=\"9.93818\" style=\"fill:#FF8A8A;fill-rule:evenodd;stroke:#FF8A8A;stroke-width:1px;stroke-linecap:butt;stroke-linejoin:miter;stroke-opacity:1\"/>\n",
       "<ellipse cx=\"469.125\" cy=\"172.406\" rx=\"9.93818\" ry=\"9.93818\" style=\"fill:#FFD8D8;fill-rule:evenodd;stroke:#FFD8D8;stroke-width:1px;stroke-linecap:butt;stroke-linejoin:miter;stroke-opacity:1\"/>\n",
       "<ellipse cx=\"477.273\" cy=\"136.039\" rx=\"9.93818\" ry=\"9.93818\" style=\"fill:#FFD9D9;fill-rule:evenodd;stroke:#FFD9D9;stroke-width:1px;stroke-linecap:butt;stroke-linejoin:miter;stroke-opacity:1\"/>\n",
       "<ellipse cx=\"449.852\" cy=\"110.8\" rx=\"9.93818\" ry=\"9.93818\" style=\"fill:#FFD2D2;fill-rule:evenodd;stroke:#FFD2D2;stroke-width:1px;stroke-linecap:butt;stroke-linejoin:miter;stroke-opacity:1\"/>\n",
       "<ellipse cx=\"406.136\" cy=\"158.294\" rx=\"9.93818\" ry=\"9.93818\" style=\"fill:#FFBDBD;fill-rule:evenodd;stroke:#FFBDBD;stroke-width:1px;stroke-linecap:butt;stroke-linejoin:miter;stroke-opacity:1\"/>\n",
       "<path d=\"M 239.744,165.495 247.093,202.031\" style=\"fill:none;fill-rule:evenodd;stroke:#000000;stroke-width:2px;stroke-linecap:butt;stroke-linejoin:miter;stroke-opacity:1\"/>\n",
       "<path d=\"M 247.093,202.031 275.06,177.398\" style=\"fill:none;fill-rule:evenodd;stroke:#000000;stroke-width:2px;stroke-linecap:butt;stroke-linejoin:miter;stroke-opacity:1\"/>\n",
       "<path d=\"M 247.093,202.031 254.442,238.567\" style=\"fill:none;fill-rule:evenodd;stroke:#000000;stroke-width:2px;stroke-linecap:butt;stroke-linejoin:miter;stroke-opacity:1\"/>\n",
       "<path d=\"M 247.093,202.031 211.777,190.127\" style=\"fill:none;fill-rule:evenodd;stroke:#000000;stroke-width:2px;stroke-linecap:butt;stroke-linejoin:miter;stroke-opacity:1\"/>\n",
       "<path d=\"M 275.06,177.398 310.376,189.302\" style=\"fill:none;fill-rule:evenodd;stroke:#000000;stroke-width:2px;stroke-linecap:butt;stroke-linejoin:miter;stroke-opacity:1\"/>\n",
       "<path d=\"M 310.376,189.302 338.343,164.67\" style=\"fill:none;fill-rule:evenodd;stroke:#000000;stroke-width:2px;stroke-linecap:butt;stroke-linejoin:miter;stroke-opacity:1\"/>\n",
       "<path d=\"M 319.498,191.201 339.075,173.958\" style=\"fill:none;fill-rule:evenodd;stroke:#000000;stroke-width:2px;stroke-linecap:butt;stroke-linejoin:miter;stroke-opacity:1\"/>\n",
       "<path d=\"M 310.376,189.302 317.725,225.839\" style=\"fill:none;fill-rule:evenodd;stroke:#000000;stroke-width:2px;stroke-linecap:butt;stroke-linejoin:miter;stroke-opacity:1\"/>\n",
       "<path d=\"M 338.343,164.67 353.309,169.715\" style=\"fill:none;fill-rule:evenodd;stroke:#000000;stroke-width:2px;stroke-linecap:butt;stroke-linejoin:miter;stroke-opacity:1\"/>\n",
       "<path d=\"M 353.309,169.715 368.275,174.759\" style=\"fill:none;fill-rule:evenodd;stroke:#0000FF;stroke-width:2px;stroke-linecap:butt;stroke-linejoin:miter;stroke-opacity:1\"/>\n",
       "<path d=\"M 374.908,182.785 377.958,197.948\" style=\"fill:none;fill-rule:evenodd;stroke:#0000FF;stroke-width:2px;stroke-linecap:butt;stroke-linejoin:miter;stroke-opacity:1\"/>\n",
       "<path d=\"M 377.958,197.948 381.008,213.11\" style=\"fill:none;fill-rule:evenodd;stroke:#000000;stroke-width:2px;stroke-linecap:butt;stroke-linejoin:miter;stroke-opacity:1\"/>\n",
       "<path d=\"M 379.043,173.544 392.59,165.919\" style=\"fill:none;fill-rule:evenodd;stroke:#0000FF;stroke-width:2px;stroke-linecap:butt;stroke-linejoin:miter;stroke-opacity:1\"/>\n",
       "<path d=\"M 392.59,165.919 406.136,158.294\" style=\"fill:none;fill-rule:evenodd;stroke:#000000;stroke-width:2px;stroke-linecap:butt;stroke-linejoin:miter;stroke-opacity:1\"/>\n",
       "<path d=\"M 381.008,213.11 369.716,223.056\" style=\"fill:none;fill-rule:evenodd;stroke:#000000;stroke-width:2px;stroke-linecap:butt;stroke-linejoin:miter;stroke-opacity:1\"/>\n",
       "<path d=\"M 369.716,223.056 358.425,233.001\" style=\"fill:none;fill-rule:evenodd;stroke:#0000FF;stroke-width:2px;stroke-linecap:butt;stroke-linejoin:miter;stroke-opacity:1\"/>\n",
       "<path d=\"M 381.008,213.11 396.826,214.948\" style=\"fill:none;fill-rule:evenodd;stroke:#000000;stroke-width:2px;stroke-linecap:butt;stroke-linejoin:miter;stroke-opacity:1\"/>\n",
       "<path d=\"M 396.826,214.948 412.643,216.786\" style=\"fill:none;fill-rule:evenodd;stroke:#0000FF;stroke-width:2px;stroke-linecap:butt;stroke-linejoin:miter;stroke-opacity:1\"/>\n",
       "<path d=\"M 386.613,206.258 397.686,207.544\" style=\"fill:none;fill-rule:evenodd;stroke:#000000;stroke-width:2px;stroke-linecap:butt;stroke-linejoin:miter;stroke-opacity:1\"/>\n",
       "<path d=\"M 397.686,207.544 408.758,208.831\" style=\"fill:none;fill-rule:evenodd;stroke:#0000FF;stroke-width:2px;stroke-linecap:butt;stroke-linejoin:miter;stroke-opacity:1\"/>\n",
       "<path d=\"M 347.657,235.928 332.691,230.884\" style=\"fill:none;fill-rule:evenodd;stroke:#0000FF;stroke-width:2px;stroke-linecap:butt;stroke-linejoin:miter;stroke-opacity:1\"/>\n",
       "<path d=\"M 332.691,230.884 317.725,225.839\" style=\"fill:none;fill-rule:evenodd;stroke:#000000;stroke-width:2px;stroke-linecap:butt;stroke-linejoin:miter;stroke-opacity:1\"/>\n",
       "<path d=\"M 345.548,227.352 335.072,223.82\" style=\"fill:none;fill-rule:evenodd;stroke:#0000FF;stroke-width:2px;stroke-linecap:butt;stroke-linejoin:miter;stroke-opacity:1\"/>\n",
       "<path d=\"M 335.072,223.82 324.596,220.289\" style=\"fill:none;fill-rule:evenodd;stroke:#000000;stroke-width:2px;stroke-linecap:butt;stroke-linejoin:miter;stroke-opacity:1\"/>\n",
       "<path d=\"M 317.725,225.839 289.758,250.471\" style=\"fill:none;fill-rule:evenodd;stroke:#000000;stroke-width:2px;stroke-linecap:butt;stroke-linejoin:miter;stroke-opacity:1\"/>\n",
       "<path d=\"M 289.758,250.471 254.442,238.567\" style=\"fill:none;fill-rule:evenodd;stroke:#000000;stroke-width:2px;stroke-linecap:butt;stroke-linejoin:miter;stroke-opacity:1\"/>\n",
       "<path d=\"M 286.841,241.623 262.12,233.29\" style=\"fill:none;fill-rule:evenodd;stroke:#000000;stroke-width:2px;stroke-linecap:butt;stroke-linejoin:miter;stroke-opacity:1\"/>\n",
       "<path d=\"M 254.442,238.567 226.475,263.2\" style=\"fill:none;fill-rule:evenodd;stroke:#000000;stroke-width:2px;stroke-linecap:butt;stroke-linejoin:miter;stroke-opacity:1\"/>\n",
       "<path d=\"M 226.475,263.2 191.159,251.296\" style=\"fill:none;fill-rule:evenodd;stroke:#000000;stroke-width:2px;stroke-linecap:butt;stroke-linejoin:miter;stroke-opacity:1\"/>\n",
       "<path d=\"M 191.159,251.296 183.81,214.759\" style=\"fill:none;fill-rule:evenodd;stroke:#000000;stroke-width:2px;stroke-linecap:butt;stroke-linejoin:miter;stroke-opacity:1\"/>\n",
       "<path d=\"M 183.81,214.759 211.777,190.127\" style=\"fill:none;fill-rule:evenodd;stroke:#000000;stroke-width:2px;stroke-linecap:butt;stroke-linejoin:miter;stroke-opacity:1\"/>\n",
       "<path d=\"M 183.81,214.759 148.494,202.855\" style=\"fill:none;fill-rule:evenodd;stroke:#000000;stroke-width:2px;stroke-linecap:butt;stroke-linejoin:miter;stroke-opacity:1\"/>\n",
       "<path d=\"M 211.777,190.127 204.429,153.591\" style=\"fill:none;fill-rule:evenodd;stroke:#000000;stroke-width:2px;stroke-linecap:butt;stroke-linejoin:miter;stroke-opacity:1\"/>\n",
       "<path d=\"M 204.429,153.591 169.113,141.687\" style=\"fill:none;fill-rule:evenodd;stroke:#000000;stroke-width:2px;stroke-linecap:butt;stroke-linejoin:miter;stroke-opacity:1\"/>\n",
       "<path d=\"M 169.113,141.687 141.146,166.319\" style=\"fill:none;fill-rule:evenodd;stroke:#000000;stroke-width:2px;stroke-linecap:butt;stroke-linejoin:miter;stroke-opacity:1\"/>\n",
       "<path d=\"M 141.146,166.319 134.436,129.66\" style=\"fill:none;fill-rule:evenodd;stroke:#000000;stroke-width:2px;stroke-linecap:butt;stroke-linejoin:miter;stroke-opacity:1\"/>\n",
       "<path d=\"M 141.146,166.319 148.494,202.855\" style=\"fill:none;fill-rule:evenodd;stroke:#000000;stroke-width:2px;stroke-linecap:butt;stroke-linejoin:miter;stroke-opacity:1\"/>\n",
       "<path d=\"M 141.146,166.319 104.126,162.018\" style=\"fill:none;fill-rule:evenodd;stroke:#000000;stroke-width:2px;stroke-linecap:butt;stroke-linejoin:miter;stroke-opacity:1\"/>\n",
       "<path d=\"M 148.494,202.855 116.017,221.135\" style=\"fill:none;fill-rule:evenodd;stroke:#000000;stroke-width:2px;stroke-linecap:butt;stroke-linejoin:miter;stroke-opacity:1\"/>\n",
       "<path d=\"M 116.017,221.135 88.5961,195.896\" style=\"fill:none;fill-rule:evenodd;stroke:#000000;stroke-width:2px;stroke-linecap:butt;stroke-linejoin:miter;stroke-opacity:1\"/>\n",
       "<path d=\"M 88.5961,195.896 104.126,162.018\" style=\"fill:none;fill-rule:evenodd;stroke:#000000;stroke-width:2px;stroke-linecap:butt;stroke-linejoin:miter;stroke-opacity:1\"/>\n",
       "<path d=\"M 104.126,162.018 105.647,146.579\" style=\"fill:none;fill-rule:evenodd;stroke:#000000;stroke-width:2px;stroke-linecap:butt;stroke-linejoin:miter;stroke-opacity:1\"/>\n",
       "<path d=\"M 105.647,146.579 107.168,131.14\" style=\"fill:none;fill-rule:evenodd;stroke:#FF0000;stroke-width:2px;stroke-linecap:butt;stroke-linejoin:miter;stroke-opacity:1\"/>\n",
       "<path d=\"M 104.126,162.018 68.8105,150.114\" style=\"fill:none;fill-rule:evenodd;stroke:#000000;stroke-width:2px;stroke-linecap:butt;stroke-linejoin:miter;stroke-opacity:1\"/>\n",
       "<path d=\"M 68.8105,150.114 53.8444,145.069\" style=\"fill:none;fill-rule:evenodd;stroke:#000000;stroke-width:2px;stroke-linecap:butt;stroke-linejoin:miter;stroke-opacity:1\"/>\n",
       "<path d=\"M 53.8444,145.069 38.8783,140.024\" style=\"fill:none;fill-rule:evenodd;stroke:#0000FF;stroke-width:2px;stroke-linecap:butt;stroke-linejoin:miter;stroke-opacity:1\"/>\n",
       "<path d=\"M 66.7015,141.537 53.9803,137.249\" style=\"fill:none;fill-rule:evenodd;stroke:#000000;stroke-width:2px;stroke-linecap:butt;stroke-linejoin:miter;stroke-opacity:1\"/>\n",
       "<path d=\"M 53.9803,137.249 41.2591,132.961\" style=\"fill:none;fill-rule:evenodd;stroke:#0000FF;stroke-width:2px;stroke-linecap:butt;stroke-linejoin:miter;stroke-opacity:1\"/>\n",
       "<path d=\"M 61.9399,155.664 49.2187,151.376\" style=\"fill:none;fill-rule:evenodd;stroke:#000000;stroke-width:2px;stroke-linecap:butt;stroke-linejoin:miter;stroke-opacity:1\"/>\n",
       "<path d=\"M 49.2187,151.376 36.4975,147.088\" style=\"fill:none;fill-rule:evenodd;stroke:#0000FF;stroke-width:2px;stroke-linecap:butt;stroke-linejoin:miter;stroke-opacity:1\"/>\n",
       "<path d=\"M 420.874,211.2 427.216,197.367\" style=\"fill:none;fill-rule:evenodd;stroke:#0000FF;stroke-width:2px;stroke-linecap:butt;stroke-linejoin:miter;stroke-opacity:1\"/>\n",
       "<path d=\"M 427.216,197.367 433.557,183.534\" style=\"fill:none;fill-rule:evenodd;stroke:#000000;stroke-width:2px;stroke-linecap:butt;stroke-linejoin:miter;stroke-opacity:1\"/>\n",
       "<path d=\"M 433.557,183.534 469.125,172.406\" style=\"fill:none;fill-rule:evenodd;stroke:#000000;stroke-width:2px;stroke-linecap:butt;stroke-linejoin:miter;stroke-opacity:1\"/>\n",
       "<path d=\"M 436.667,174.751 461.565,166.961\" style=\"fill:none;fill-rule:evenodd;stroke:#000000;stroke-width:2px;stroke-linecap:butt;stroke-linejoin:miter;stroke-opacity:1\"/>\n",
       "<path d=\"M 433.557,183.534 406.136,158.294\" style=\"fill:none;fill-rule:evenodd;stroke:#000000;stroke-width:2px;stroke-linecap:butt;stroke-linejoin:miter;stroke-opacity:1\"/>\n",
       "<path d=\"M 469.125,172.406 477.273,136.039\" style=\"fill:none;fill-rule:evenodd;stroke:#000000;stroke-width:2px;stroke-linecap:butt;stroke-linejoin:miter;stroke-opacity:1\"/>\n",
       "<path d=\"M 477.273,136.039 449.852,110.8\" style=\"fill:none;fill-rule:evenodd;stroke:#000000;stroke-width:2px;stroke-linecap:butt;stroke-linejoin:miter;stroke-opacity:1\"/>\n",
       "<path d=\"M 468.112,137.738 448.917,120.07\" style=\"fill:none;fill-rule:evenodd;stroke:#000000;stroke-width:2px;stroke-linecap:butt;stroke-linejoin:miter;stroke-opacity:1\"/>\n",
       "<path d=\"M 449.852,110.8 414.284,121.928\" style=\"fill:none;fill-rule:evenodd;stroke:#000000;stroke-width:2px;stroke-linecap:butt;stroke-linejoin:miter;stroke-opacity:1\"/>\n",
       "<path d=\"M 414.284,121.928 406.136,158.294\" style=\"fill:none;fill-rule:evenodd;stroke:#000000;stroke-width:2px;stroke-linecap:butt;stroke-linejoin:miter;stroke-opacity:1\"/>\n",
       "<path d=\"M 420.335,129.012 414.632,154.469\" style=\"fill:none;fill-rule:evenodd;stroke:#000000;stroke-width:2px;stroke-linecap:butt;stroke-linejoin:miter;stroke-opacity:1\"/>\n",
       "<text style=\"font-size:12px;font-style:normal;font-weight:normal;fill-opacity:1;stroke:none;font-family:sans-serif;text-anchor:start;fill:#0000FF\" x=\"368.275\" y=\"182.785\"><tspan>N</tspan></text>\n",
       "<text style=\"font-size:12px;font-style:normal;font-weight:normal;fill-opacity:1;stroke:none;font-family:sans-serif;text-anchor:start;fill:#0000FF\" x=\"347.657\" y=\"243.954\"><tspan>N</tspan></text>\n",
       "<text style=\"font-size:12px;font-style:normal;font-weight:normal;fill-opacity:1;stroke:none;font-family:sans-serif;text-anchor:start;fill:#FF0000\" x=\"96.595\" y=\"131.14\"><tspan>OH</tspan></text>\n",
       "<text style=\"font-size:12px;font-style:normal;font-weight:normal;fill-opacity:1;stroke:none;font-family:sans-serif;text-anchor:start;fill:#0000FF\" x=\"28.1109\" y=\"144.421\"><tspan>N</tspan></text>\n",
       "<text style=\"font-size:12px;font-style:normal;font-weight:normal;fill-opacity:1;stroke:none;font-family:sans-serif;text-anchor:start;fill:#0000FF\" x=\"412.643\" y=\"223.623\"><tspan>N</tspan></text>\n",
       "</svg>"
      ],
      "text/plain": [
       "<IPython.core.display.SVG object>"
      ]
     },
     "metadata": {},
     "output_type": "display_data"
    }
   ],
   "source": [
    "# Single plot demo\n",
    "from IPython.display import display, HTML\n",
    "\n",
    "def sv_visualize(i, ratio, lam, method, view):\n",
    "    print('SR-MMP: ', target_dataset.features[i, -1][0])\n",
    "    saliency_bayes = gradient_calculator.transform(\n",
    "        saliency_arrays_bayes, ch_axis=3, method=method, lam=lam)\n",
    "    \n",
    "    if view == 'view':\n",
    "        svg_bayes = sv.visualize(saliency_bayes[i], target_smiles[i], visualize_ratio=ratio)\n",
    "        # display(svg_vanilla, svg_smooth, svg_bayes)\n",
    "        display(svg_bayes)\n",
    "    elif view == 'save':\n",
    "        os.makedirs('results/visualize', exist_ok=True)\n",
    "        sv.visualize(saliency_bayes[i], target_smiles[i], visualize_ratio=ratio, save_filepath='results/visualize/srmmp/{}_bayes.png'.format(i))\n",
    "    else:\n",
    "        print(view, 'not supported')\n",
    "\n",
    "interact(sv_visualize, i=(0, len(target_dataset) - 1, 1), ratio=(0, 1.0, 0.1), lam=(-3.0, 3.1, 0.1), method=['square', 'abs', 'raw'], view=['view', 'save'])"
   ]
  },
  {
   "cell_type": "code",
   "execution_count": 25,
   "metadata": {
    "collapsed": false
   },
   "outputs": [
    {
     "name": "stdout",
     "output_type": "stream",
     "text": [
      "SR-MMP:  1\n"
     ]
    },
    {
     "data": {
      "image/svg+xml": [
       "<svg baseProfile=\"full\" height=\"375px\" version=\"1.1\" width=\"500px\" xml:space=\"preserve\" xmlns:rdkit=\"http://www.rdkit.org/xml\" xmlns:svg=\"http://www.w3.org/2000/svg\" xmlns:xlink=\"http://www.w3.org/1999/xlink\">\n",
       "<rect height=\"375\" style=\"opacity:1.0;fill:#FFFFFF;stroke:none\" width=\"500\" x=\"0\" y=\"0\"> </rect>\n",
       "<path d=\"M 470.13,169.353 444.547,207.449\" style=\"fill:none;fill-rule:evenodd;stroke:#FFFFFF;stroke-width:16px;stroke-linecap:butt;stroke-linejoin:miter;stroke-opacity:1\"/>\n",
       "<path d=\"M 444.547,207.449 464.747,248.651\" style=\"fill:none;fill-rule:evenodd;stroke:#FF7171;stroke-width:16px;stroke-linecap:butt;stroke-linejoin:miter;stroke-opacity:1\"/>\n",
       "<path d=\"M 444.547,207.449 398.764,204.341\" style=\"fill:none;fill-rule:evenodd;stroke:#FF9999;stroke-width:16px;stroke-linecap:butt;stroke-linejoin:miter;stroke-opacity:1\"/>\n",
       "<path d=\"M 398.764,204.341 373.181,242.436\" style=\"fill:none;fill-rule:evenodd;stroke:#FFFFFF;stroke-width:16px;stroke-linecap:butt;stroke-linejoin:miter;stroke-opacity:1\"/>\n",
       "<path d=\"M 398.764,204.341 378.564,163.138\" style=\"fill:none;fill-rule:evenodd;stroke:#FFFFFF;stroke-width:16px;stroke-linecap:butt;stroke-linejoin:miter;stroke-opacity:1\"/>\n",
       "<path d=\"M 373.181,242.436 327.399,239.328\" style=\"fill:none;fill-rule:evenodd;stroke:#FFFFFF;stroke-width:16px;stroke-linecap:butt;stroke-linejoin:miter;stroke-opacity:1\"/>\n",
       "<path d=\"M 327.399,239.328 307.199,198.126\" style=\"fill:none;fill-rule:evenodd;stroke:#FFFFFF;stroke-width:16px;stroke-linecap:butt;stroke-linejoin:miter;stroke-opacity:1\"/>\n",
       "<path d=\"M 307.199,198.126 261.416,195.018\" style=\"fill:none;fill-rule:evenodd;stroke:#FFFFFF;stroke-width:16px;stroke-linecap:butt;stroke-linejoin:miter;stroke-opacity:1\"/>\n",
       "<path d=\"M 307.199,198.126 332.781,160.03\" style=\"fill:none;fill-rule:evenodd;stroke:#FFFFFF;stroke-width:16px;stroke-linecap:butt;stroke-linejoin:miter;stroke-opacity:1\"/>\n",
       "<path d=\"M 261.416,195.018 231.991,230.23\" style=\"fill:none;fill-rule:evenodd;stroke:#FFFFFF;stroke-width:16px;stroke-linecap:butt;stroke-linejoin:miter;stroke-opacity:1\"/>\n",
       "<path d=\"M 261.416,195.018 237.02,156.152\" style=\"fill:none;fill-rule:evenodd;stroke:#FFFFFF;stroke-width:16px;stroke-linecap:butt;stroke-linejoin:miter;stroke-opacity:1\"/>\n",
       "<path d=\"M 231.991,230.23 189.41,213.127\" style=\"fill:none;fill-rule:evenodd;stroke:#FFFFFF;stroke-width:16px;stroke-linecap:butt;stroke-linejoin:miter;stroke-opacity:1\"/>\n",
       "<path d=\"M 189.41,213.127 150.544,237.523\" style=\"fill:none;fill-rule:evenodd;stroke:#FFFFFF;stroke-width:16px;stroke-linecap:butt;stroke-linejoin:miter;stroke-opacity:1\"/>\n",
       "<path d=\"M 189.41,213.127 192.517,167.344\" style=\"fill:none;fill-rule:evenodd;stroke:#FFFFFF;stroke-width:16px;stroke-linecap:butt;stroke-linejoin:miter;stroke-opacity:1\"/>\n",
       "<path d=\"M 150.544,237.523 109.983,216.063\" style=\"fill:none;fill-rule:evenodd;stroke:#FFFFFF;stroke-width:16px;stroke-linecap:butt;stroke-linejoin:miter;stroke-opacity:1\"/>\n",
       "<path d=\"M 150.544,237.523 152.239,283.38\" style=\"fill:none;fill-rule:evenodd;stroke:#FFFFFF;stroke-width:16px;stroke-linecap:butt;stroke-linejoin:miter;stroke-opacity:1\"/>\n",
       "<path d=\"M 109.983,216.063 71.1176,240.459\" style=\"fill:none;fill-rule:evenodd;stroke:#FFFFFF;stroke-width:16px;stroke-linecap:butt;stroke-linejoin:miter;stroke-opacity:1\"/>\n",
       "<path d=\"M 71.1176,240.459 72.8125,286.316\" style=\"fill:none;fill-rule:evenodd;stroke:#FFFFFF;stroke-width:16px;stroke-linecap:butt;stroke-linejoin:miter;stroke-opacity:1\"/>\n",
       "<path d=\"M 72.8125,286.316 33.9468,310.712\" style=\"fill:none;fill-rule:evenodd;stroke:#FFC6C6;stroke-width:16px;stroke-linecap:butt;stroke-linejoin:miter;stroke-opacity:1\"/>\n",
       "<path d=\"M 72.8125,286.316 113.373,307.776\" style=\"fill:none;fill-rule:evenodd;stroke:#FFFFFF;stroke-width:16px;stroke-linecap:butt;stroke-linejoin:miter;stroke-opacity:1\"/>\n",
       "<path d=\"M 113.373,307.776 152.239,283.38\" style=\"fill:none;fill-rule:evenodd;stroke:#FFFFFF;stroke-width:16px;stroke-linecap:butt;stroke-linejoin:miter;stroke-opacity:1\"/>\n",
       "<path d=\"M 192.517,167.344 157.305,137.92\" style=\"fill:none;fill-rule:evenodd;stroke:#FFFFFF;stroke-width:16px;stroke-linecap:butt;stroke-linejoin:miter;stroke-opacity:1\"/>\n",
       "<path d=\"M 192.517,167.344 237.02,156.152\" style=\"fill:none;fill-rule:evenodd;stroke:#FFFFFF;stroke-width:16px;stroke-linecap:butt;stroke-linejoin:miter;stroke-opacity:1\"/>\n",
       "<path d=\"M 157.305,137.92 165.181,92.7125\" style=\"fill:none;fill-rule:evenodd;stroke:#FFFFFF;stroke-width:16px;stroke-linecap:butt;stroke-linejoin:miter;stroke-opacity:1\"/>\n",
       "<path d=\"M 157.305,137.92 114.216,153.702\" style=\"fill:none;fill-rule:evenodd;stroke:#FFFFFF;stroke-width:16px;stroke-linecap:butt;stroke-linejoin:miter;stroke-opacity:1\"/>\n",
       "<path d=\"M 165.181,92.7125 129.969,63.2879\" style=\"fill:none;fill-rule:evenodd;stroke:#FFBABA;stroke-width:16px;stroke-linecap:butt;stroke-linejoin:miter;stroke-opacity:1\"/>\n",
       "<path d=\"M 129.969,63.2879 86.8801,79.0704\" style=\"fill:none;fill-rule:evenodd;stroke:#FF0000;stroke-width:16px;stroke-linecap:butt;stroke-linejoin:miter;stroke-opacity:1\"/>\n",
       "<path d=\"M 86.8801,79.0704 79.0038,124.278\" style=\"fill:none;fill-rule:evenodd;stroke:#FF0000;stroke-width:16px;stroke-linecap:butt;stroke-linejoin:miter;stroke-opacity:1\"/>\n",
       "<path d=\"M 79.0038,124.278 114.216,153.702\" style=\"fill:none;fill-rule:evenodd;stroke:#FFBFBF;stroke-width:16px;stroke-linecap:butt;stroke-linejoin:miter;stroke-opacity:1\"/>\n",
       "<path d=\"M 332.781,160.03 378.564,163.138\" style=\"fill:none;fill-rule:evenodd;stroke:#FFFFFF;stroke-width:16px;stroke-linecap:butt;stroke-linejoin:miter;stroke-opacity:1\"/>\n",
       "<ellipse cx=\"444.547\" cy=\"207.449\" rx=\"12.2368\" ry=\"12.2368\" style=\"fill:#FF5E5E;fill-rule:evenodd;stroke:#FF5E5E;stroke-width:1px;stroke-linecap:butt;stroke-linejoin:miter;stroke-opacity:1\"/>\n",
       "<ellipse cx=\"464.747\" cy=\"248.651\" rx=\"12.2368\" ry=\"12.2368\" style=\"fill:#FF8383;fill-rule:evenodd;stroke:#FF8383;stroke-width:1px;stroke-linecap:butt;stroke-linejoin:miter;stroke-opacity:1\"/>\n",
       "<ellipse cx=\"398.764\" cy=\"204.341\" rx=\"12.2368\" ry=\"12.2368\" style=\"fill:#FFD4D4;fill-rule:evenodd;stroke:#FFD4D4;stroke-width:1px;stroke-linecap:butt;stroke-linejoin:miter;stroke-opacity:1\"/>\n",
       "<ellipse cx=\"72.8125\" cy=\"286.316\" rx=\"12.2368\" ry=\"12.2368\" style=\"fill:#FFC4C4;fill-rule:evenodd;stroke:#FFC4C4;stroke-width:1px;stroke-linecap:butt;stroke-linejoin:miter;stroke-opacity:1\"/>\n",
       "<ellipse cx=\"33.9468\" cy=\"310.712\" rx=\"12.2368\" ry=\"12.2368\" style=\"fill:#FFC8C8;fill-rule:evenodd;stroke:#FFC8C8;stroke-width:1px;stroke-linecap:butt;stroke-linejoin:miter;stroke-opacity:1\"/>\n",
       "<ellipse cx=\"192.517\" cy=\"167.344\" rx=\"12.2368\" ry=\"12.2368\" style=\"fill:#FFCECE;fill-rule:evenodd;stroke:#FFCECE;stroke-width:1px;stroke-linecap:butt;stroke-linejoin:miter;stroke-opacity:1\"/>\n",
       "<ellipse cx=\"165.181\" cy=\"92.7125\" rx=\"12.2368\" ry=\"12.2368\" style=\"fill:#FFD4D4;fill-rule:evenodd;stroke:#FFD4D4;stroke-width:1px;stroke-linecap:butt;stroke-linejoin:miter;stroke-opacity:1\"/>\n",
       "<ellipse cx=\"129.969\" cy=\"63.2879\" rx=\"12.2368\" ry=\"12.2368\" style=\"fill:#FFA0A0;fill-rule:evenodd;stroke:#FFA0A0;stroke-width:1px;stroke-linecap:butt;stroke-linejoin:miter;stroke-opacity:1\"/>\n",
       "<ellipse cx=\"86.8801\" cy=\"79.0704\" rx=\"12.2368\" ry=\"12.2368\" style=\"fill:#FF0000;fill-rule:evenodd;stroke:#FF0000;stroke-width:1px;stroke-linecap:butt;stroke-linejoin:miter;stroke-opacity:1\"/>\n",
       "<ellipse cx=\"79.0038\" cy=\"124.278\" rx=\"12.2368\" ry=\"12.2368\" style=\"fill:#FFADAD;fill-rule:evenodd;stroke:#FFADAD;stroke-width:1px;stroke-linecap:butt;stroke-linejoin:miter;stroke-opacity:1\"/>\n",
       "<ellipse cx=\"114.216\" cy=\"153.702\" rx=\"12.2368\" ry=\"12.2368\" style=\"fill:#FFD1D1;fill-rule:evenodd;stroke:#FFD1D1;stroke-width:1px;stroke-linecap:butt;stroke-linejoin:miter;stroke-opacity:1\"/>\n",
       "<path d=\"M 461.184,174.443 453.786,185.46\" style=\"fill:none;fill-rule:evenodd;stroke:#FF0000;stroke-width:2px;stroke-linecap:butt;stroke-linejoin:miter;stroke-opacity:1\"/>\n",
       "<path d=\"M 453.786,185.46 446.387,196.478\" style=\"fill:none;fill-rule:evenodd;stroke:#0000FF;stroke-width:2px;stroke-linecap:butt;stroke-linejoin:miter;stroke-opacity:1\"/>\n",
       "<path d=\"M 468.803,179.56 461.405,190.577\" style=\"fill:none;fill-rule:evenodd;stroke:#FF0000;stroke-width:2px;stroke-linecap:butt;stroke-linejoin:miter;stroke-opacity:1\"/>\n",
       "<path d=\"M 461.405,190.577 454.006,201.594\" style=\"fill:none;fill-rule:evenodd;stroke:#0000FF;stroke-width:2px;stroke-linecap:butt;stroke-linejoin:miter;stroke-opacity:1\"/>\n",
       "<path d=\"M 448.671,215.861 454.647,228.05\" style=\"fill:none;fill-rule:evenodd;stroke:#0000FF;stroke-width:2px;stroke-linecap:butt;stroke-linejoin:miter;stroke-opacity:1\"/>\n",
       "<path d=\"M 454.647,228.05 460.623,240.239\" style=\"fill:none;fill-rule:evenodd;stroke:#FF0000;stroke-width:2px;stroke-linecap:butt;stroke-linejoin:miter;stroke-opacity:1\"/>\n",
       "<path d=\"M 435.237,206.817 417.001,205.579\" style=\"fill:none;fill-rule:evenodd;stroke:#0000FF;stroke-width:2px;stroke-linecap:butt;stroke-linejoin:miter;stroke-opacity:1\"/>\n",
       "<path d=\"M 417.001,205.579 398.764,204.341\" style=\"fill:none;fill-rule:evenodd;stroke:#000000;stroke-width:2px;stroke-linecap:butt;stroke-linejoin:miter;stroke-opacity:1\"/>\n",
       "<path d=\"M 398.764,204.341 373.181,242.436\" style=\"fill:none;fill-rule:evenodd;stroke:#000000;stroke-width:2px;stroke-linecap:butt;stroke-linejoin:miter;stroke-opacity:1\"/>\n",
       "<path d=\"M 387.308,204.939 369.4,231.605\" style=\"fill:none;fill-rule:evenodd;stroke:#000000;stroke-width:2px;stroke-linecap:butt;stroke-linejoin:miter;stroke-opacity:1\"/>\n",
       "<path d=\"M 398.764,204.341 378.564,163.138\" style=\"fill:none;fill-rule:evenodd;stroke:#000000;stroke-width:2px;stroke-linecap:butt;stroke-linejoin:miter;stroke-opacity:1\"/>\n",
       "<path d=\"M 373.181,242.436 327.399,239.328\" style=\"fill:none;fill-rule:evenodd;stroke:#000000;stroke-width:2px;stroke-linecap:butt;stroke-linejoin:miter;stroke-opacity:1\"/>\n",
       "<path d=\"M 327.399,239.328 307.199,198.126\" style=\"fill:none;fill-rule:evenodd;stroke:#000000;stroke-width:2px;stroke-linecap:butt;stroke-linejoin:miter;stroke-opacity:1\"/>\n",
       "<path d=\"M 332.609,229.108 318.469,200.266\" style=\"fill:none;fill-rule:evenodd;stroke:#000000;stroke-width:2px;stroke-linecap:butt;stroke-linejoin:miter;stroke-opacity:1\"/>\n",
       "<path d=\"M 307.199,198.126 261.416,195.018\" style=\"fill:none;fill-rule:evenodd;stroke:#000000;stroke-width:2px;stroke-linecap:butt;stroke-linejoin:miter;stroke-opacity:1\"/>\n",
       "<path d=\"M 307.199,198.126 332.781,160.03\" style=\"fill:none;fill-rule:evenodd;stroke:#000000;stroke-width:2px;stroke-linecap:butt;stroke-linejoin:miter;stroke-opacity:1\"/>\n",
       "<path d=\"M 261.416,195.018 249.899,208.8\" style=\"fill:none;fill-rule:evenodd;stroke:#000000;stroke-width:2px;stroke-linecap:butt;stroke-linejoin:miter;stroke-opacity:1\"/>\n",
       "<path d=\"M 249.899,208.8 238.382,222.582\" style=\"fill:none;fill-rule:evenodd;stroke:#0000FF;stroke-width:2px;stroke-linecap:butt;stroke-linejoin:miter;stroke-opacity:1\"/>\n",
       "<path d=\"M 250.918,193.268 242.857,202.915\" style=\"fill:none;fill-rule:evenodd;stroke:#000000;stroke-width:2px;stroke-linecap:butt;stroke-linejoin:miter;stroke-opacity:1\"/>\n",
       "<path d=\"M 242.857,202.915 234.795,212.563\" style=\"fill:none;fill-rule:evenodd;stroke:#0000FF;stroke-width:2px;stroke-linecap:butt;stroke-linejoin:miter;stroke-opacity:1\"/>\n",
       "<path d=\"M 261.416,195.018 251.618,179.409\" style=\"fill:none;fill-rule:evenodd;stroke:#000000;stroke-width:2px;stroke-linecap:butt;stroke-linejoin:miter;stroke-opacity:1\"/>\n",
       "<path d=\"M 251.618,179.409 241.82,163.8\" style=\"fill:none;fill-rule:evenodd;stroke:#0000FF;stroke-width:2px;stroke-linecap:butt;stroke-linejoin:miter;stroke-opacity:1\"/>\n",
       "<path d=\"M 225.362,227.568 207.386,220.347\" style=\"fill:none;fill-rule:evenodd;stroke:#0000FF;stroke-width:2px;stroke-linecap:butt;stroke-linejoin:miter;stroke-opacity:1\"/>\n",
       "<path d=\"M 207.386,220.347 189.41,213.127\" style=\"fill:none;fill-rule:evenodd;stroke:#000000;stroke-width:2px;stroke-linecap:butt;stroke-linejoin:miter;stroke-opacity:1\"/>\n",
       "<path d=\"M 189.41,213.127 150.544,237.523\" style=\"fill:none;fill-rule:evenodd;stroke:#000000;stroke-width:2px;stroke-linecap:butt;stroke-linejoin:miter;stroke-opacity:1\"/>\n",
       "<path d=\"M 189.41,213.127 192.517,167.344\" style=\"fill:none;fill-rule:evenodd;stroke:#000000;stroke-width:2px;stroke-linecap:butt;stroke-linejoin:miter;stroke-opacity:1\"/>\n",
       "<path d=\"M 199.032,206.881 201.208,174.833\" style=\"fill:none;fill-rule:evenodd;stroke:#000000;stroke-width:2px;stroke-linecap:butt;stroke-linejoin:miter;stroke-opacity:1\"/>\n",
       "<path d=\"M 150.544,237.523 109.983,216.063\" style=\"fill:none;fill-rule:evenodd;stroke:#000000;stroke-width:2px;stroke-linecap:butt;stroke-linejoin:miter;stroke-opacity:1\"/>\n",
       "<path d=\"M 140.168,242.416 111.775,227.394\" style=\"fill:none;fill-rule:evenodd;stroke:#000000;stroke-width:2px;stroke-linecap:butt;stroke-linejoin:miter;stroke-opacity:1\"/>\n",
       "<path d=\"M 150.544,237.523 152.239,283.38\" style=\"fill:none;fill-rule:evenodd;stroke:#000000;stroke-width:2px;stroke-linecap:butt;stroke-linejoin:miter;stroke-opacity:1\"/>\n",
       "<path d=\"M 109.983,216.063 71.1176,240.459\" style=\"fill:none;fill-rule:evenodd;stroke:#000000;stroke-width:2px;stroke-linecap:butt;stroke-linejoin:miter;stroke-opacity:1\"/>\n",
       "<path d=\"M 71.1176,240.459 72.8125,286.316\" style=\"fill:none;fill-rule:evenodd;stroke:#000000;stroke-width:2px;stroke-linecap:butt;stroke-linejoin:miter;stroke-opacity:1\"/>\n",
       "<path d=\"M 80.5432,246.999 81.7296,279.098\" style=\"fill:none;fill-rule:evenodd;stroke:#000000;stroke-width:2px;stroke-linecap:butt;stroke-linejoin:miter;stroke-opacity:1\"/>\n",
       "<path d=\"M 72.8125,286.316 56.1846,296.753\" style=\"fill:none;fill-rule:evenodd;stroke:#000000;stroke-width:2px;stroke-linecap:butt;stroke-linejoin:miter;stroke-opacity:1\"/>\n",
       "<path d=\"M 56.1846,296.753 39.5566,307.191\" style=\"fill:none;fill-rule:evenodd;stroke:#33CCCC;stroke-width:2px;stroke-linecap:butt;stroke-linejoin:miter;stroke-opacity:1\"/>\n",
       "<path d=\"M 72.8125,286.316 113.373,307.776\" style=\"fill:none;fill-rule:evenodd;stroke:#000000;stroke-width:2px;stroke-linecap:butt;stroke-linejoin:miter;stroke-opacity:1\"/>\n",
       "<path d=\"M 113.373,307.776 152.239,283.38\" style=\"fill:none;fill-rule:evenodd;stroke:#000000;stroke-width:2px;stroke-linecap:butt;stroke-linejoin:miter;stroke-opacity:1\"/>\n",
       "<path d=\"M 114.324,296.344 141.53,279.266\" style=\"fill:none;fill-rule:evenodd;stroke:#000000;stroke-width:2px;stroke-linecap:butt;stroke-linejoin:miter;stroke-opacity:1\"/>\n",
       "<path d=\"M 192.517,167.344 157.305,137.92\" style=\"fill:none;fill-rule:evenodd;stroke:#000000;stroke-width:2px;stroke-linecap:butt;stroke-linejoin:miter;stroke-opacity:1\"/>\n",
       "<path d=\"M 192.517,167.344 208.14,163.415\" style=\"fill:none;fill-rule:evenodd;stroke:#000000;stroke-width:2px;stroke-linecap:butt;stroke-linejoin:miter;stroke-opacity:1\"/>\n",
       "<path d=\"M 208.14,163.415 223.762,159.486\" style=\"fill:none;fill-rule:evenodd;stroke:#0000FF;stroke-width:2px;stroke-linecap:butt;stroke-linejoin:miter;stroke-opacity:1\"/>\n",
       "<path d=\"M 157.305,137.92 165.181,92.7125\" style=\"fill:none;fill-rule:evenodd;stroke:#000000;stroke-width:2px;stroke-linecap:butt;stroke-linejoin:miter;stroke-opacity:1\"/>\n",
       "<path d=\"M 149.445,129.563 154.958,97.9183\" style=\"fill:none;fill-rule:evenodd;stroke:#000000;stroke-width:2px;stroke-linecap:butt;stroke-linejoin:miter;stroke-opacity:1\"/>\n",
       "<path d=\"M 157.305,137.92 114.216,153.702\" style=\"fill:none;fill-rule:evenodd;stroke:#000000;stroke-width:2px;stroke-linecap:butt;stroke-linejoin:miter;stroke-opacity:1\"/>\n",
       "<path d=\"M 165.181,92.7125 129.969,63.2879\" style=\"fill:none;fill-rule:evenodd;stroke:#000000;stroke-width:2px;stroke-linecap:butt;stroke-linejoin:miter;stroke-opacity:1\"/>\n",
       "<path d=\"M 129.969,63.2879 111.739,69.9651\" style=\"fill:none;fill-rule:evenodd;stroke:#000000;stroke-width:2px;stroke-linecap:butt;stroke-linejoin:miter;stroke-opacity:1\"/>\n",
       "<path d=\"M 111.739,69.9651 93.509,76.6424\" style=\"fill:none;fill-rule:evenodd;stroke:#0000FF;stroke-width:2px;stroke-linecap:butt;stroke-linejoin:miter;stroke-opacity:1\"/>\n",
       "<path d=\"M 127.656,73.9088 114.895,78.5829\" style=\"fill:none;fill-rule:evenodd;stroke:#000000;stroke-width:2px;stroke-linecap:butt;stroke-linejoin:miter;stroke-opacity:1\"/>\n",
       "<path d=\"M 114.895,78.5829 102.134,83.2569\" style=\"fill:none;fill-rule:evenodd;stroke:#0000FF;stroke-width:2px;stroke-linecap:butt;stroke-linejoin:miter;stroke-opacity:1\"/>\n",
       "<path d=\"M 85.5476,86.7184 82.2757,105.498\" style=\"fill:none;fill-rule:evenodd;stroke:#0000FF;stroke-width:2px;stroke-linecap:butt;stroke-linejoin:miter;stroke-opacity:1\"/>\n",
       "<path d=\"M 82.2757,105.498 79.0038,124.278\" style=\"fill:none;fill-rule:evenodd;stroke:#000000;stroke-width:2px;stroke-linecap:butt;stroke-linejoin:miter;stroke-opacity:1\"/>\n",
       "<path d=\"M 79.0038,124.278 114.216,153.702\" style=\"fill:none;fill-rule:evenodd;stroke:#000000;stroke-width:2px;stroke-linecap:butt;stroke-linejoin:miter;stroke-opacity:1\"/>\n",
       "<path d=\"M 90.1706,121.649 114.819,142.246\" style=\"fill:none;fill-rule:evenodd;stroke:#000000;stroke-width:2px;stroke-linecap:butt;stroke-linejoin:miter;stroke-opacity:1\"/>\n",
       "<path d=\"M 332.781,160.03 378.564,163.138\" style=\"fill:none;fill-rule:evenodd;stroke:#000000;stroke-width:2px;stroke-linecap:butt;stroke-linejoin:miter;stroke-opacity:1\"/>\n",
       "<path d=\"M 339.027,169.653 371.075,171.828\" style=\"fill:none;fill-rule:evenodd;stroke:#000000;stroke-width:2px;stroke-linecap:butt;stroke-linejoin:miter;stroke-opacity:1\"/>\n",
       "<text style=\"font-size:15px;font-style:normal;font-weight:normal;fill-opacity:1;stroke:none;font-family:sans-serif;text-anchor:start;fill:#FF0000\" x=\"462.987\" y=\"177.001\"><tspan>O</tspan></text>\n",
       "<text style=\"font-size:15px;font-style:normal;font-weight:normal;fill-opacity:1;stroke:none;font-family:sans-serif;text-anchor:start;fill:#0000FF\" x=\"435.237\" y=\"215.861\"><tspan>N</tspan><tspan style=\"baseline-shift:super;font-size:11.25px;\">+</tspan><tspan/></text>\n",
       "<text style=\"font-size:15px;font-style:normal;font-weight:normal;fill-opacity:1;stroke:none;font-family:sans-serif;text-anchor:start;fill:#FF0000\" x=\"456.075\" y=\"257.064\"><tspan>O</tspan><tspan style=\"baseline-shift:super;font-size:11.25px;\">-</tspan><tspan/></text>\n",
       "<text style=\"font-size:15px;font-style:normal;font-weight:normal;fill-opacity:1;stroke:none;font-family:sans-serif;text-anchor:start;fill:#0000FF\" x=\"225.362\" y=\"237.878\"><tspan>N</tspan></text>\n",
       "<text style=\"font-size:15px;font-style:normal;font-weight:normal;fill-opacity:1;stroke:none;font-family:sans-serif;text-anchor:start;fill:#33CCCC\" x=\"28.337\" y=\"318.36\"><tspan>F</tspan></text>\n",
       "<text style=\"font-size:15px;font-style:normal;font-weight:normal;fill-opacity:1;stroke:none;font-family:sans-serif;text-anchor:start;fill:#0000FF\" x=\"80.2512\" y=\"86.7184\"><tspan>N</tspan></text>\n",
       "<text style=\"font-size:15px;font-style:normal;font-weight:normal;fill-opacity:1;stroke:none;font-family:sans-serif;text-anchor:start;fill:#0000FF\" x=\"223.762\" y=\"163.8\"><tspan>NH</tspan></text>\n",
       "</svg>"
      ],
      "text/plain": [
       "<IPython.core.display.SVG object>"
      ]
     },
     "metadata": {},
     "output_type": "display_data"
    }
   ],
   "source": [
    "# Multiple plot demo\n",
    "from IPython.display import display, HTML\n",
    "\n",
    "def sv_visualize(i, ratio, lam, method, view):\n",
    "    print('SR-MMP: ', target_dataset.features[i, -1][0])\n",
    "    saliency_vanilla = gradient_calculator.transform(\n",
    "        saliency_arrays_vanilla, ch_axis=3, method=method, lam=0)\n",
    "    saliency_smooth = gradient_calculator.transform(\n",
    "        saliency_arrays_smooth, ch_axis=3, method=method, lam=lam)\n",
    "    saliency_bayes = gradient_calculator.transform(\n",
    "        saliency_arrays_bayes, ch_axis=3, method=method, lam=lam)\n",
    "    \n",
    "    if view == 'view':\n",
    "        svg_vanilla = sv.visualize(saliency_vanilla[i], target_smiles[i], visualize_ratio=ratio)\n",
    "        svg_smooth = sv.visualize(saliency_smooth[i], target_smiles[i], visualize_ratio=ratio)\n",
    "        svg_bayes = sv.visualize(saliency_bayes[i], target_smiles[i], visualize_ratio=ratio)\n",
    "        # display(svg_vanilla, svg_smooth, svg_bayes)\n",
    "        display(svg_bayes)\n",
    "    elif view == 'save':\n",
    "        os.makedirs('results/visualize', exist_ok=True)\n",
    "        sv.visualize(saliency_vanilla[i], target_smiles[i], visualize_ratio=ratio, save_filepath='results/visualize/srmmp/{}_vanilla.png'.format(i))\n",
    "        sv.visualize(saliency_smooth[i], target_smiles[i], visualize_ratio=ratio, save_filepath='results/visualize/srmmp/{}_smooth.png'.format(i))\n",
    "        sv.visualize(saliency_bayes[i], target_smiles[i], visualize_ratio=ratio, save_filepath='results/visualize/srmmp/{}_bayes.png'.format(i))\n",
    "    else:\n",
    "        print(view, 'not supported')\n",
    "\n",
    "interact(sv_visualize, i=(0, len(target_dataset) - 1, 1), ratio=(0, 1.0, 0.1), lam=(-3.0, 3.1, 0.1), method=['square', 'abs', 'raw'], view=['view', 'save'])"
   ]
  },
  {
   "cell_type": "code",
   "execution_count": null,
   "metadata": {
    "collapsed": true
   },
   "outputs": [],
   "source": []
  },
  {
   "cell_type": "markdown",
   "metadata": {},
   "source": [
    "## Visualization of specific molecules, including Tyrphostin 9"
   ]
  },
  {
   "cell_type": "code",
   "execution_count": 17,
   "metadata": {
    "collapsed": false
   },
   "outputs": [
    {
     "name": "stderr",
     "output_type": "stream",
     "text": [
      "100%|██████████| 4/4 [00:00<00:00, 378.38it/s]\n",
      "INFO:chainer_chemistry.dataset.parsers.csv_file_parser:Preprocess finished. FAIL 0, SUCCESS 4, TOTAL 4\n"
     ]
    }
   ],
   "source": [
    "import tempfile\n",
    "import pandas\n",
    "\n",
    "from chainer_chemistry.dataset.parsers import CSVFileParser\n",
    "from chainer_chemistry.dataset.preprocessors import preprocess_method_dict\n",
    "\n",
    "smiles_list = [\n",
    "    'CC(C)(C=O)Cc1cc(C(C)(C)C)c(O)c(C(C)(C)C)c1',        # (a)\n",
    "#    'CC(C)(C=O)Cc1cc(C(C)(C)C)c(C)c(C(C)(C)C)c1',\n",
    "    'CC(C)(C)C1=C(C)C(C(C)(C)C)=CC(/C=C(C#N)\\C#N)=C1',   # (b)\n",
    "    'CC(C)(C)C1=C(O)C(C(C)(C)C)=CC(/C=C(C#N)\\C#N)=C1',   # (c)\n",
    "    'O=C1Nc2ccc(I)cc2C1=Cc1cc(Br)c(O)c(Br)c1'            # (d)    \n",
    "]\n",
    "\n",
    "preprocessor = preprocess_method_dict['nfp']()\n",
    "parser = CSVFileParser(preprocessor,\n",
    "                       labels=None, smiles_col='smiles')\n",
    "\n",
    "with tempfile.TemporaryDirectory() as dirpath:\n",
    "    csv_path = os.path.join(dirpath, 'tmp.csv')\n",
    "    df = pandas.DataFrame({'smiles': smiles_list})\n",
    "    df.to_csv(csv_path)\n",
    "    result = parser.parse(csv_path, return_smiles=True)\n",
    "\n",
    "custom_target_dataset, custom_target_smiles = result['dataset'], result['smiles']"
   ]
  },
  {
   "cell_type": "code",
   "execution_count": 26,
   "metadata": {
    "collapsed": false
   },
   "outputs": [
    {
     "data": {
      "image/svg+xml": [
       "<svg baseProfile=\"full\" height=\"375px\" version=\"1.1\" width=\"500px\" xml:space=\"preserve\" xmlns:rdkit=\"http://www.rdkit.org/xml\" xmlns:svg=\"http://www.w3.org/2000/svg\" xmlns:xlink=\"http://www.w3.org/1999/xlink\">\n",
       "<rect height=\"375\" style=\"opacity:1.0;fill:#FFFFFF;stroke:none\" width=\"500\" x=\"0\" y=\"0\"> </rect>\n",
       "<path d=\"M 134.321,213.273 102.553,277.118\" style=\"fill:none;fill-rule:evenodd;stroke:#FFFFFF;stroke-width:16px;stroke-linecap:butt;stroke-linejoin:miter;stroke-opacity:1\"/>\n",
       "<path d=\"M 102.553,277.118 70.7845,340.963\" style=\"fill:none;fill-rule:evenodd;stroke:#FFFFFF;stroke-width:16px;stroke-linecap:butt;stroke-linejoin:miter;stroke-opacity:1\"/>\n",
       "<path d=\"M 102.553,277.118 38.708,245.35\" style=\"fill:none;fill-rule:evenodd;stroke:#FFABAB;stroke-width:16px;stroke-linecap:butt;stroke-linejoin:miter;stroke-opacity:1\"/>\n",
       "<path d=\"M 102.553,277.118 166.398,308.887\" style=\"fill:none;fill-rule:evenodd;stroke:#FFFFFF;stroke-width:16px;stroke-linecap:butt;stroke-linejoin:miter;stroke-opacity:1\"/>\n",
       "<path d=\"M 38.708,245.35 34.2978,174.174\" style=\"fill:none;fill-rule:evenodd;stroke:#FFFFFF;stroke-width:16px;stroke-linecap:butt;stroke-linejoin:miter;stroke-opacity:1\"/>\n",
       "<path d=\"M 166.398,308.887 225.833,269.48\" style=\"fill:none;fill-rule:evenodd;stroke:#FFFFFF;stroke-width:16px;stroke-linecap:butt;stroke-linejoin:miter;stroke-opacity:1\"/>\n",
       "<path d=\"M 225.833,269.48 221.423,198.304\" style=\"fill:none;fill-rule:evenodd;stroke:#FFFFFF;stroke-width:16px;stroke-linecap:butt;stroke-linejoin:miter;stroke-opacity:1\"/>\n",
       "<path d=\"M 225.833,269.48 289.678,301.248\" style=\"fill:none;fill-rule:evenodd;stroke:#FFFFFF;stroke-width:16px;stroke-linecap:butt;stroke-linejoin:miter;stroke-opacity:1\"/>\n",
       "<path d=\"M 221.423,198.304 280.858,158.897\" style=\"fill:none;fill-rule:evenodd;stroke:#FF8080;stroke-width:16px;stroke-linecap:butt;stroke-linejoin:miter;stroke-opacity:1\"/>\n",
       "<path d=\"M 280.858,158.897 276.447,87.7211\" style=\"fill:none;fill-rule:evenodd;stroke:#FFFFFF;stroke-width:16px;stroke-linecap:butt;stroke-linejoin:miter;stroke-opacity:1\"/>\n",
       "<path d=\"M 280.858,158.897 344.703,190.665\" style=\"fill:none;fill-rule:evenodd;stroke:#FF0000;stroke-width:16px;stroke-linecap:butt;stroke-linejoin:miter;stroke-opacity:1\"/>\n",
       "<path d=\"M 276.447,87.7211 347.623,83.311\" style=\"fill:none;fill-rule:evenodd;stroke:#FFFFFF;stroke-width:16px;stroke-linecap:butt;stroke-linejoin:miter;stroke-opacity:1\"/>\n",
       "<path d=\"M 276.447,87.7211 205.272,92.1313\" style=\"fill:none;fill-rule:evenodd;stroke:#FFFFFF;stroke-width:16px;stroke-linecap:butt;stroke-linejoin:miter;stroke-opacity:1\"/>\n",
       "<path d=\"M 276.447,87.7211 272.037,16.5455\" style=\"fill:none;fill-rule:evenodd;stroke:#FFFFFF;stroke-width:16px;stroke-linecap:butt;stroke-linejoin:miter;stroke-opacity:1\"/>\n",
       "<path d=\"M 344.703,190.665 404.137,151.258\" style=\"fill:none;fill-rule:evenodd;stroke:#FF0000;stroke-width:16px;stroke-linecap:butt;stroke-linejoin:miter;stroke-opacity:1\"/>\n",
       "<path d=\"M 344.703,190.665 349.113,261.841\" style=\"fill:none;fill-rule:evenodd;stroke:#FF0000;stroke-width:16px;stroke-linecap:butt;stroke-linejoin:miter;stroke-opacity:1\"/>\n",
       "<path d=\"M 349.113,261.841 412.958,293.61\" style=\"fill:none;fill-rule:evenodd;stroke:#FF7A7A;stroke-width:16px;stroke-linecap:butt;stroke-linejoin:miter;stroke-opacity:1\"/>\n",
       "<path d=\"M 349.113,261.841 289.678,301.248\" style=\"fill:none;fill-rule:evenodd;stroke:#FF8282;stroke-width:16px;stroke-linecap:butt;stroke-linejoin:miter;stroke-opacity:1\"/>\n",
       "<path d=\"M 412.958,293.61 381.189,357.455\" style=\"fill:none;fill-rule:evenodd;stroke:#FFFFFF;stroke-width:16px;stroke-linecap:butt;stroke-linejoin:miter;stroke-opacity:1\"/>\n",
       "<path d=\"M 412.958,293.61 444.726,229.764\" style=\"fill:none;fill-rule:evenodd;stroke:#FFFFFF;stroke-width:16px;stroke-linecap:butt;stroke-linejoin:miter;stroke-opacity:1\"/>\n",
       "<path d=\"M 412.958,293.61 476.803,325.378\" style=\"fill:none;fill-rule:evenodd;stroke:#FFFFFF;stroke-width:16px;stroke-linecap:butt;stroke-linejoin:miter;stroke-opacity:1\"/>\n",
       "<ellipse cx=\"102.553\" cy=\"277.118\" rx=\"19.0166\" ry=\"19.0166\" style=\"fill:#FFA3A3;fill-rule:evenodd;stroke:#FFA3A3;stroke-width:1px;stroke-linecap:butt;stroke-linejoin:miter;stroke-opacity:1\"/>\n",
       "<ellipse cx=\"38.708\" cy=\"245.35\" rx=\"19.0166\" ry=\"19.0166\" style=\"fill:#FFB2B2;fill-rule:evenodd;stroke:#FFB2B2;stroke-width:1px;stroke-linecap:butt;stroke-linejoin:miter;stroke-opacity:1\"/>\n",
       "<ellipse cx=\"221.423\" cy=\"198.304\" rx=\"19.0166\" ry=\"19.0166\" style=\"fill:#FFE6E6;fill-rule:evenodd;stroke:#FFE6E6;stroke-width:1px;stroke-linecap:butt;stroke-linejoin:miter;stroke-opacity:1\"/>\n",
       "<ellipse cx=\"280.858\" cy=\"158.897\" rx=\"19.0166\" ry=\"19.0166\" style=\"fill:#FF1A1A;fill-rule:evenodd;stroke:#FF1A1A;stroke-width:1px;stroke-linecap:butt;stroke-linejoin:miter;stroke-opacity:1\"/>\n",
       "<ellipse cx=\"344.703\" cy=\"190.665\" rx=\"19.0166\" ry=\"19.0166\" style=\"fill:#FF0000;fill-rule:evenodd;stroke:#FF0000;stroke-width:1px;stroke-linecap:butt;stroke-linejoin:miter;stroke-opacity:1\"/>\n",
       "<ellipse cx=\"404.137\" cy=\"151.258\" rx=\"19.0166\" ry=\"19.0166\" style=\"fill:#FF6262;fill-rule:evenodd;stroke:#FF6262;stroke-width:1px;stroke-linecap:butt;stroke-linejoin:miter;stroke-opacity:1\"/>\n",
       "<ellipse cx=\"349.113\" cy=\"261.841\" rx=\"19.0166\" ry=\"19.0166\" style=\"fill:#FF1F1F;fill-rule:evenodd;stroke:#FF1F1F;stroke-width:1px;stroke-linecap:butt;stroke-linejoin:miter;stroke-opacity:1\"/>\n",
       "<ellipse cx=\"412.958\" cy=\"293.61\" rx=\"19.0166\" ry=\"19.0166\" style=\"fill:#FFD6D6;fill-rule:evenodd;stroke:#FFD6D6;stroke-width:1px;stroke-linecap:butt;stroke-linejoin:miter;stroke-opacity:1\"/>\n",
       "<ellipse cx=\"289.678\" cy=\"301.248\" rx=\"19.0166\" ry=\"19.0166\" style=\"fill:#FFE5E5;fill-rule:evenodd;stroke:#FFE5E5;stroke-width:1px;stroke-linecap:butt;stroke-linejoin:miter;stroke-opacity:1\"/>\n",
       "<path d=\"M 134.321,213.273 102.553,277.118\" style=\"fill:none;fill-rule:evenodd;stroke:#000000;stroke-width:2px;stroke-linecap:butt;stroke-linejoin:miter;stroke-opacity:1\"/>\n",
       "<path d=\"M 102.553,277.118 70.7845,340.963\" style=\"fill:none;fill-rule:evenodd;stroke:#000000;stroke-width:2px;stroke-linecap:butt;stroke-linejoin:miter;stroke-opacity:1\"/>\n",
       "<path d=\"M 102.553,277.118 38.708,245.35\" style=\"fill:none;fill-rule:evenodd;stroke:#000000;stroke-width:2px;stroke-linecap:butt;stroke-linejoin:miter;stroke-opacity:1\"/>\n",
       "<path d=\"M 102.553,277.118 166.398,308.887\" style=\"fill:none;fill-rule:evenodd;stroke:#000000;stroke-width:2px;stroke-linecap:butt;stroke-linejoin:miter;stroke-opacity:1\"/>\n",
       "<path d=\"M 45.8255,244.909 43.8528,213.071\" style=\"fill:none;fill-rule:evenodd;stroke:#000000;stroke-width:2px;stroke-linecap:butt;stroke-linejoin:miter;stroke-opacity:1\"/>\n",
       "<path d=\"M 43.8528,213.071 41.8801,181.233\" style=\"fill:none;fill-rule:evenodd;stroke:#FF0000;stroke-width:2px;stroke-linecap:butt;stroke-linejoin:miter;stroke-opacity:1\"/>\n",
       "<path d=\"M 31.5904,245.791 29.6177,213.953\" style=\"fill:none;fill-rule:evenodd;stroke:#000000;stroke-width:2px;stroke-linecap:butt;stroke-linejoin:miter;stroke-opacity:1\"/>\n",
       "<path d=\"M 29.6177,213.953 27.6449,182.115\" style=\"fill:none;fill-rule:evenodd;stroke:#FF0000;stroke-width:2px;stroke-linecap:butt;stroke-linejoin:miter;stroke-opacity:1\"/>\n",
       "<path d=\"M 166.398,308.887 225.833,269.48\" style=\"fill:none;fill-rule:evenodd;stroke:#000000;stroke-width:2px;stroke-linecap:butt;stroke-linejoin:miter;stroke-opacity:1\"/>\n",
       "<path d=\"M 225.833,269.48 221.423,198.304\" style=\"fill:none;fill-rule:evenodd;stroke:#000000;stroke-width:2px;stroke-linecap:butt;stroke-linejoin:miter;stroke-opacity:1\"/>\n",
       "<path d=\"M 239.406,257.921 236.319,208.098\" style=\"fill:none;fill-rule:evenodd;stroke:#000000;stroke-width:2px;stroke-linecap:butt;stroke-linejoin:miter;stroke-opacity:1\"/>\n",
       "<path d=\"M 225.833,269.48 289.678,301.248\" style=\"fill:none;fill-rule:evenodd;stroke:#000000;stroke-width:2px;stroke-linecap:butt;stroke-linejoin:miter;stroke-opacity:1\"/>\n",
       "<path d=\"M 221.423,198.304 280.858,158.897\" style=\"fill:none;fill-rule:evenodd;stroke:#000000;stroke-width:2px;stroke-linecap:butt;stroke-linejoin:miter;stroke-opacity:1\"/>\n",
       "<path d=\"M 280.858,158.897 276.447,87.7211\" style=\"fill:none;fill-rule:evenodd;stroke:#000000;stroke-width:2px;stroke-linecap:butt;stroke-linejoin:miter;stroke-opacity:1\"/>\n",
       "<path d=\"M 280.858,158.897 344.703,190.665\" style=\"fill:none;fill-rule:evenodd;stroke:#000000;stroke-width:2px;stroke-linecap:butt;stroke-linejoin:miter;stroke-opacity:1\"/>\n",
       "<path d=\"M 284.081,176.431 328.772,198.669\" style=\"fill:none;fill-rule:evenodd;stroke:#000000;stroke-width:2px;stroke-linecap:butt;stroke-linejoin:miter;stroke-opacity:1\"/>\n",
       "<path d=\"M 276.447,87.7211 347.623,83.311\" style=\"fill:none;fill-rule:evenodd;stroke:#000000;stroke-width:2px;stroke-linecap:butt;stroke-linejoin:miter;stroke-opacity:1\"/>\n",
       "<path d=\"M 276.447,87.7211 205.272,92.1313\" style=\"fill:none;fill-rule:evenodd;stroke:#000000;stroke-width:2px;stroke-linecap:butt;stroke-linejoin:miter;stroke-opacity:1\"/>\n",
       "<path d=\"M 276.447,87.7211 272.037,16.5455\" style=\"fill:none;fill-rule:evenodd;stroke:#000000;stroke-width:2px;stroke-linecap:butt;stroke-linejoin:miter;stroke-opacity:1\"/>\n",
       "<path d=\"M 344.703,190.665 368.764,174.712\" style=\"fill:none;fill-rule:evenodd;stroke:#000000;stroke-width:2px;stroke-linecap:butt;stroke-linejoin:miter;stroke-opacity:1\"/>\n",
       "<path d=\"M 368.764,174.712 392.826,158.758\" style=\"fill:none;fill-rule:evenodd;stroke:#FF0000;stroke-width:2px;stroke-linecap:butt;stroke-linejoin:miter;stroke-opacity:1\"/>\n",
       "<path d=\"M 344.703,190.665 349.113,261.841\" style=\"fill:none;fill-rule:evenodd;stroke:#000000;stroke-width:2px;stroke-linecap:butt;stroke-linejoin:miter;stroke-opacity:1\"/>\n",
       "<path d=\"M 349.113,261.841 412.958,293.61\" style=\"fill:none;fill-rule:evenodd;stroke:#000000;stroke-width:2px;stroke-linecap:butt;stroke-linejoin:miter;stroke-opacity:1\"/>\n",
       "<path d=\"M 349.113,261.841 289.678,301.248\" style=\"fill:none;fill-rule:evenodd;stroke:#000000;stroke-width:2px;stroke-linecap:butt;stroke-linejoin:miter;stroke-opacity:1\"/>\n",
       "<path d=\"M 332.316,255.865 290.712,283.45\" style=\"fill:none;fill-rule:evenodd;stroke:#000000;stroke-width:2px;stroke-linecap:butt;stroke-linejoin:miter;stroke-opacity:1\"/>\n",
       "<path d=\"M 412.958,293.61 381.189,357.455\" style=\"fill:none;fill-rule:evenodd;stroke:#000000;stroke-width:2px;stroke-linecap:butt;stroke-linejoin:miter;stroke-opacity:1\"/>\n",
       "<path d=\"M 412.958,293.61 444.726,229.764\" style=\"fill:none;fill-rule:evenodd;stroke:#000000;stroke-width:2px;stroke-linecap:butt;stroke-linejoin:miter;stroke-opacity:1\"/>\n",
       "<path d=\"M 412.958,293.61 476.803,325.378\" style=\"fill:none;fill-rule:evenodd;stroke:#000000;stroke-width:2px;stroke-linecap:butt;stroke-linejoin:miter;stroke-opacity:1\"/>\n",
       "<text style=\"font-size:15px;font-style:normal;font-weight:normal;fill-opacity:1;stroke:none;font-family:sans-serif;text-anchor:start;fill:#FF0000\" x=\"27.293\" y=\"181.674\"><tspan>O</tspan></text>\n",
       "<text style=\"font-size:15px;font-style:normal;font-weight:normal;fill-opacity:1;stroke:none;font-family:sans-serif;text-anchor:start;fill:#FF0000\" x=\"390.632\" y=\"158.758\"><tspan>OH</tspan></text>\n",
       "</svg>"
      ],
      "text/plain": [
       "<IPython.core.display.SVG object>"
      ]
     },
     "metadata": {},
     "output_type": "display_data"
    }
   ],
   "source": [
    "# --- BayesGrad ---\n",
    "# `train=True` enables dropout, which corresponds to BayesGrad\n",
    "saliency_arrays_bayes = gradient_calculator.compute_vanilla(\n",
    "    custom_target_dataset, converter=concat_mols, preprocess_fn=preprocess_fun,\n",
    "    M=M, train=True)\n",
    "\n",
    "def sv_visualize(i, ratio, lam, method, view):\n",
    "    saliency_bayes = gradient_calculator.transform(\n",
    "        saliency_arrays_bayes, ch_axis=3, method=method, lam=lam)\n",
    "    \n",
    "    if view == 'view':\n",
    "        svg_bayes = sv.visualize(saliency_bayes[i], custom_target_smiles[i], visualize_ratio=ratio)\n",
    "        display(svg_bayes)\n",
    "    elif view == 'save':\n",
    "        os.makedirs('results/visualize', exist_ok=True)\n",
    "        sv.visualize(saliency_bayes[i], custom_target_smiles[i], visualize_ratio=ratio, save_filepath='results/visualize/srmmp/custom_{}_bayes.png'.format(i))\n",
    "    else:\n",
    "        print(view, 'not supported')\n",
    "\n",
    "interact(sv_visualize, i=(0, len(custom_target_dataset) - 1, 1), ratio=(0, 1.0, 0.1), lam=(-3.0, 3.1, 0.1), method=['square', 'abs', 'raw'], view=['view', 'save'])"
   ]
  },
  {
   "cell_type": "code",
   "execution_count": null,
   "metadata": {
    "collapsed": true
   },
   "outputs": [],
   "source": []
  },
  {
   "cell_type": "code",
   "execution_count": null,
   "metadata": {
    "collapsed": true
   },
   "outputs": [],
   "source": []
  }
 ],
 "metadata": {
  "anaconda-cloud": {},
  "kernelspec": {
   "display_name": "Python [default]",
   "language": "python",
   "name": "python3"
  },
  "language_info": {
   "codemirror_mode": {
    "name": "ipython",
    "version": 3
   },
   "file_extension": ".py",
   "mimetype": "text/x-python",
   "name": "python",
   "nbconvert_exporter": "python",
   "pygments_lexer": "ipython3",
   "version": "3.5.2"
  },
  "widgets": {
   "state": {
    "4ddc337df552443b94c357e8015dae4f": {
     "views": [
      {
       "cell_index": 21.0
      }
     ]
    },
    "86b5e4662cd34a549c070dc3e90515b3": {
     "views": [
      {
       "cell_index": 12.0
      }
     ]
    },
    "8fa97c75fec14b5abc88618435d810c2": {
     "views": [
      {
       "cell_index": 17.0
      }
     ]
    },
    "cb91b59b01c44714911d7b8b48dc954e": {
     "views": [
      {
       "cell_index": 16.0
      }
     ]
    },
    "ec91304623f74358bd014a7ff21f88f4": {
     "views": [
      {
       "cell_index": 4.0
      }
     ]
    }
   },
   "version": "1.2.0"
  }
 },
 "nbformat": 4,
 "nbformat_minor": 2
}
